{
  "nbformat": 4,
  "nbformat_minor": 0,
  "metadata": {
    "colab": {
      "name": "Sarcasm_detection.ipynb",
      "provenance": [],
      "collapsed_sections": [
        "Xjbbo9dTSmBn",
        "fjtUui5NZH4J",
        "VcMwfPew4D-e"
      ],
      "toc_visible": true,
      "mount_file_id": "1riaajbT9J_HubP8K44X9Q5bWblV8vwaW",
      "authorship_tag": "ABX9TyN/hFyXpJeeQ3HorCv/UH6M",
      "include_colab_link": true
    },
    "kernelspec": {
      "name": "python3",
      "display_name": "Python 3"
    },
    "language_info": {
      "name": "python"
    }
  },
  "cells": [
    {
      "cell_type": "markdown",
      "metadata": {
        "id": "view-in-github",
        "colab_type": "text"
      },
      "source": [
        "<a href=\"https://colab.research.google.com/github/NMT201/CS114.L21/blob/NMT201-patch-1/Sarcasm_detection.ipynb\" target=\"_parent\"><img src=\"https://colab.research.google.com/assets/colab-badge.svg\" alt=\"Open In Colab\"/></a>"
      ]
    },
    {
      "cell_type": "markdown",
      "metadata": {
        "id": "N-cw8GAsY3kc"
      },
      "source": [
        "# **NHẬN DIỆN TIN CHÂM BIẾM QUA TIÊU ĐỀ CÁC BÀI BÁO :** "
      ]
    },
    {
      "cell_type": "markdown",
      "metadata": {
        "id": "Xjbbo9dTSmBn"
      },
      "source": [
        "### **Các thành viên trong nhóm** :\n",
        "* Phạm Quang Vinh - 19522526\n",
        "* Nguyễn Minh Trí - 19522389\n",
        "* Trương Xuân Linh - 19521759\n"
      ]
    },
    {
      "cell_type": "markdown",
      "metadata": {
        "id": "km4uqZmHbWuR"
      },
      "source": [
        "## **I. Import các thư viện cần thiết :**"
      ]
    },
    {
      "cell_type": "code",
      "metadata": {
        "id": "i5z5ZM2Achwq"
      },
      "source": [
        "import pandas as pd\n",
        "import requests\n",
        "from bs4 import BeautifulSoup\n",
        "import json\n",
        "import matplotlib.pyplot as plt\n",
        "from sklearn.model_selection import train_test_split\n",
        "import nltk\n",
        "import string\n",
        "from nltk.corpus import stopwords, brown\n",
        "import numpy as np\n",
        "from sklearn.feature_extraction.text import TfidfVectorizer, CountVectorizer\n",
        "from sklearn.svm import LinearSVC\n",
        "from sklearn.linear_model import LogisticRegression, RidgeClassifier, SGDClassifier\n",
        "from sklearn.neighbors import KNeighborsClassifier\n",
        "from sklearn.model_selection import cross_val_score, StratifiedKFold\n",
        "import plotly.graph_objs as go"
      ],
      "execution_count": 6,
      "outputs": []
    },
    {
      "cell_type": "markdown",
      "metadata": {
        "id": "H7cLGhG2LaKG"
      },
      "source": [
        "## **II. Crawl dữ liệu :**"
      ]
    },
    {
      "cell_type": "markdown",
      "metadata": {
        "id": "fjtUui5NZH4J"
      },
      "source": [
        "###**1. Crawl dữ liệu từ các trang châm biếm vào file 1.json:** \n",
        "\n"
      ]
    },
    {
      "cell_type": "markdown",
      "metadata": {
        "id": "Tam4XWQFbHvU"
      },
      "source": [
        "* **The Betoota Advocate** - Canada : http://betootaadvocate.com/ (14961 headlines từ 1/1/2018 đến nay)"
      ]
    },
    {
      "cell_type": "code",
      "metadata": {
        "id": "Y3TMEdp0HeM-"
      },
      "source": [
        "for year in range(21, 22):\n",
        "  for month in range(4,7):\n",
        "    for day in range(1,32):\n",
        "      paper = \"https://www.betootaadvocate.com/20\"+ str(year) + \"/\" + str(month) + \"/\" + str(day) + \"/\"\n",
        "      response = requests.get(paper)\n",
        "      soup = BeautifulSoup(response.content, \"html.parser\")\n",
        "      titles = soup.findAll('div', class_ = 'td-module-thumb')\n",
        "      links = [link.find('a').attrs[\"href\"] for link in titles]\n",
        "\n",
        "      with open(\"/content/drive/MyDrive/ML/1_test.json\", 'a') as f:\n",
        "          for link in links:\n",
        "              news = requests.get(link)\n",
        "              soup = BeautifulSoup(news.content, \"html.parser\")\n",
        "              title = soup.find(\"h1\", class_ = \"entry-title\").text\n",
        "              data = {\n",
        "                      \"article_link\" : link,\n",
        "                      \"headline\" : title,\n",
        "                      \"is_sarcastic\" : 1\n",
        "                  }\n",
        "              json.dump(data, f)\n",
        "              f.write(\"\\n\")\n"
      ],
      "execution_count": null,
      "outputs": []
    },
    {
      "cell_type": "markdown",
      "metadata": {
        "id": "IKFNmMDAqKyl"
      },
      "source": [
        "* **Clickhole** - U.S : https://clickhole.com/ (808 headlines từ 1/1/2018 đến nay)"
      ]
    },
    {
      "cell_type": "code",
      "metadata": {
        "id": "GwZuJicqq0Ld"
      },
      "source": [
        "for year in range(18, 22):\n",
        "  for month in range(1, 13):\n",
        "    for page in range(1, 4):\n",
        "      paper = \"https://clickhole.com/\"+ str(year) +\"/\"+ str(month) +\"/page/\"+str(page)+\"/\"\n",
        "      response = requests.get(paper)\n",
        "      soup = BeautifulSoup(response.content, \"html.parser\")\n",
        "      titles = soup.findAll('h2', class_ = 'post-title')\n",
        "      links = [link.find('a').attrs[\"href\"] for link in titles]\n",
        "\n",
        "      with open(\"/content/drive/MyDrive/ML/1.json\", 'a') as f:\n",
        "          for link in links:\n",
        "              news = requests.get(link)\n",
        "              soup = BeautifulSoup(news.content, \"html.parser\")\n",
        "              title = soup.find(\"h1\", class_ = \"post-title\").text\n",
        "              data = {\n",
        "                      \"article_link\" : link,\n",
        "                      \"headline\" : title,\n",
        "                      \"is_sarcastic\" : 1\n",
        "                  }\n",
        "              json.dump(data, f)\n",
        "              f.write(\"\\n\")"
      ],
      "execution_count": null,
      "outputs": []
    },
    {
      "cell_type": "markdown",
      "metadata": {
        "id": "y0yhl0kFri5u"
      },
      "source": [
        "* **The Daily Bonnet** - Canada : https://dailybonnet.com/ (1486 headlines từ 1/1/2018 đến nay)"
      ]
    },
    {
      "cell_type": "code",
      "metadata": {
        "id": "3ZP2PVTrsIP3"
      },
      "source": [
        "for page in range(1, 85):\n",
        "  for month in range(1,13):\n",
        "    for day in range(1,32):\n",
        "      paper = \"https://dailybonnet.com/20\" + str(year) +\"/\"+ str(month) + \"/\" + str(day) +\"/\"\n",
        "      response = requests.get(paper)\n",
        "      soup = BeautifulSoup(response.content, \"html.parser\")\n",
        "      titles = soup.findAll('h2', class_ = 'post-title')\n",
        "      links = [link.find('a').attrs[\"href\"] for link in titles]\n",
        "\n",
        "      with open(\"/content/drive/MyDrive/ML/1.json\", 'a') as f:\n",
        "          for link in links:\n",
        "              news = requests.get(link)\n",
        "              soup = BeautifulSoup(news.content, \"html.parser\")\n",
        "              title = soup.find(\"h1\", class_ = \"entry-title\").text\n",
        "              data = {\n",
        "                      \"article_link\" : link,\n",
        "                      \"headline\" : title,\n",
        "                      \"is_sarcastic\" : 1\n",
        "                  }\n",
        "              json.dump(data, f)\n",
        "              f.write(\"\\n\")"
      ],
      "execution_count": null,
      "outputs": []
    },
    {
      "cell_type": "markdown",
      "metadata": {
        "id": "gEQtHaXF3mMH"
      },
      "source": [
        "* **The Hard Times** - U.S : https://thehardtimes.net/ (6751 headlines từ 1/1/2018 đến nay)"
      ]
    },
    {
      "cell_type": "code",
      "metadata": {
        "id": "iXFcYUnE3rmM"
      },
      "source": [
        "for year in range(18, 22):\n",
        "  for month in range(1,13):\n",
        "    for day in range(1,32):\n",
        "    paper = \"https://thehardtimes.net/20\"+ str(year) +\"/\"+ str(month) + \"/\" + str(day) +\"/\"\n",
        "    response = requests.get(paper)\n",
        "    soup = BeautifulSoup(response.content, \"html.parser\")\n",
        "    titles = soup.findAll('h3', class_ = 'entry-title mh-posts-list-title')\n",
        "    links = [link.find('a').attrs[\"href\"] for link in titles]\n",
        "\n",
        "    with open(\"/content/drive/MyDrive/ML/1.json\", 'a') as f:\n",
        "        for link in links:\n",
        "            news = requests.get(link)\n",
        "            soup = BeautifulSoup(news.content, \"html.parser\")\n",
        "            title = soup.find(\"h1\", class_ = \"entry-title\").text\n",
        "            data = {\n",
        "                    \"article_link\" : link,\n",
        "                    \"headline\" : title,\n",
        "                    \"is_sarcastic\" : 1\n",
        "                }\n",
        "            json.dump(data, f)\n",
        "            f.write(\"\\n\")"
      ],
      "execution_count": null,
      "outputs": []
    },
    {
      "cell_type": "markdown",
      "metadata": {
        "id": "VcMwfPew4D-e"
      },
      "source": [
        "### **2. Crawl dữ liệu từ các trang chính thống vào file 0.json :**"
      ]
    },
    {
      "cell_type": "markdown",
      "metadata": {
        "id": "I9XL96Tn4Pf3"
      },
      "source": [
        "* **Best in AU** : https://bestinau.com.au/"
      ]
    },
    {
      "cell_type": "code",
      "metadata": {
        "id": "QQT4SQ1-4PLS"
      },
      "source": [
        "for year in range(18, 22):\n",
        "  for month in range(1, 13):\n",
        "    for day in range(1, 32):\n",
        "      paper = \"https://bestinau.com.au/20\"+ str(20) + \"/\" + str(month) + \"/\" + str(day) + \"/\"\n",
        "      response = requests.get(paper)\n",
        "      soup = BeautifulSoup(response.content, \"html.parser\")\n",
        "      titles = soup.findAll('h3', class_ = 'entry-title td-module-title')\n",
        "      links = [link.find('a').attrs[\"href\"] for link in titles]\n",
        "\n",
        "      with open(\"/content/drive/MyDrive/ML/0.json\", 'a') as f:\n",
        "          for link in links:\n",
        "              news = requests.get(link)\n",
        "              soup = BeautifulSoup(news.content, \"html.parser\")\n",
        "              title = soup.find(\"h1\", class_ = \"entry-title\").text  \n",
        "              data = {\n",
        "                      \"article_link\" : link,\n",
        "                      \"headline\" : title,\n",
        "                      \"is_sarcastic\" : 0\n",
        "                  }\n",
        "              json.dump(data, f)\n",
        "              f.write(\"\\n\")"
      ],
      "execution_count": null,
      "outputs": []
    },
    {
      "cell_type": "markdown",
      "metadata": {
        "id": "PK8MU6KbCayd"
      },
      "source": [
        "* **TIME** : https://time.com/ (4354 headlines từ 1/1/2018 đến nay)"
      ]
    },
    {
      "cell_type": "code",
      "metadata": {
        "id": "Qex_USr8CkAj"
      },
      "source": [
        "for page in range(1, 765):\n",
        "    try:\n",
        "      paper = \"https://time.com/section/world/?page=\" + str(page)\n",
        "      response = requests.get(paper)\n",
        "      soup = BeautifulSoup(response.content, \"html.parser\")\n",
        "      titles = soup.findAll('h3', class_ = 'headline heading-3 heading-content-small padding-4-top margin-8-bottom media-heading')\n",
        "      links = [link.find('a').attrs[\"href\"] for link in titles]\n",
        "\n",
        "      with open(\"/content/drive/MyDrive/ML/0.json\", 'a') as f:\n",
        "          for link in links:\n",
        "              news = requests.get(\"https://time.com/\" + link)\n",
        "              soup = BeautifulSoup(news.content, \"html.parser\")\n",
        "              title = soup.find(\"h1\", class_ = \"headline heading-content margin-8-top\").text\n",
        "              data = {\n",
        "                      \"article_link\" : \"https://time.com/\" + link,\n",
        "                      \"headline\" : title,\n",
        "                      \"is_sarcastic\" : 0\n",
        "                  }\n",
        "              json.dump(data, f)\n",
        "              f.write(\"\\n\")\n",
        "    except:\n",
        "      continue"
      ],
      "execution_count": null,
      "outputs": []
    },
    {
      "cell_type": "markdown",
      "metadata": {
        "id": "Eapr0rJDDdpO"
      },
      "source": [
        " * **City News Everywhere** : https://toronto.citynews.ca/ (20533 headlines từ 1/1/2018 đến nay)"
      ]
    },
    {
      "cell_type": "code",
      "metadata": {
        "id": "tEUfuBYJDcwx"
      },
      "source": [
        "for page in range(1, 1300):\n",
        "    print(page)\n",
        "    try:\n",
        "      paper = \"https://toronto.citynews.ca/category/national/page/\"+ str(page) + \"/\"\n",
        "      response = requests.get(paper)\n",
        "      soup = BeautifulSoup(response.content, \"html.parser\")\n",
        "      titles = soup.findAll('div', class_ = 'col-lg-13 col-md-13 col-sm-13')\n",
        "      links = [link.find('a').attrs[\"href\"] for link in titles]\n",
        "      \n",
        "      with open(\"/content/drive/MyDrive/ML/0.json\", 'a') as f:\n",
        "          for link in links:\n",
        "              news = requests.get(link)\n",
        "              soup = BeautifulSoup(news.content, \"html.parser\")\n",
        "              title = soup.find(\"h1\", class_ = \"headline\").text\n",
        "              data = {\n",
        "                      \"article_link\" : link,\n",
        "                      \"headline\" : title,\n",
        "                      \"is_sarcastic\" : 0\n",
        "                  }\n",
        "              json.dump(data, f)\n",
        "              f.write(\"\\n\")\n",
        "    except:\n",
        "      continue"
      ],
      "execution_count": null,
      "outputs": []
    },
    {
      "cell_type": "markdown",
      "metadata": {
        "id": "mGDNbAf0ERi7"
      },
      "source": [
        "### **3. Gộp 2 file vừa crawl được :**"
      ]
    },
    {
      "cell_type": "markdown",
      "metadata": {
        "id": "Glgfmuc4EhL9"
      },
      "source": [
        "* **File các headlines báo chính thống **"
      ]
    },
    {
      "cell_type": "code",
      "metadata": {
        "id": "Qn-JxA97whz_",
        "colab": {
          "base_uri": "https://localhost:8080/",
          "height": 419
        },
        "outputId": "b752adb0-53e2-4858-eae5-b293d1ffd756"
      },
      "source": [
        "data0 = pd.read_json('/content/drive/MyDrive/ML/Sarcasm_data/0.json', lines = True)\n",
        "data0"
      ],
      "execution_count": 7,
      "outputs": [
        {
          "output_type": "execute_result",
          "data": {
            "text/html": [
              "<div>\n",
              "<style scoped>\n",
              "    .dataframe tbody tr th:only-of-type {\n",
              "        vertical-align: middle;\n",
              "    }\n",
              "\n",
              "    .dataframe tbody tr th {\n",
              "        vertical-align: top;\n",
              "    }\n",
              "\n",
              "    .dataframe thead th {\n",
              "        text-align: right;\n",
              "    }\n",
              "</style>\n",
              "<table border=\"1\" class=\"dataframe\">\n",
              "  <thead>\n",
              "    <tr style=\"text-align: right;\">\n",
              "      <th></th>\n",
              "      <th>article_link</th>\n",
              "      <th>headline</th>\n",
              "      <th>is_sarcastic</th>\n",
              "    </tr>\n",
              "  </thead>\n",
              "  <tbody>\n",
              "    <tr>\n",
              "      <th>0</th>\n",
              "      <td>https://toronto.citynews.ca/2021/06/11/a-look-...</td>\n",
              "      <td>A look at COVID-19 vaccinations in Canada on F...</td>\n",
              "      <td>0</td>\n",
              "    </tr>\n",
              "    <tr>\n",
              "      <th>1</th>\n",
              "      <td>https://toronto.citynews.ca/2021/06/11/the-lat...</td>\n",
              "      <td>The latest numbers on COVID-19 in Canada for F...</td>\n",
              "      <td>0</td>\n",
              "    </tr>\n",
              "    <tr>\n",
              "      <th>2</th>\n",
              "      <td>https://toronto.citynews.ca/2021/06/11/b-c-pre...</td>\n",
              "      <td>B.C. premier says changes to U.S. cruise ship ...</td>\n",
              "      <td>0</td>\n",
              "    </tr>\n",
              "    <tr>\n",
              "      <th>3</th>\n",
              "      <td>https://toronto.citynews.ca/2021/06/11/peoples...</td>\n",
              "      <td>People's Party leader Maxime Bernier charged a...</td>\n",
              "      <td>0</td>\n",
              "    </tr>\n",
              "    <tr>\n",
              "      <th>4</th>\n",
              "      <td>https://toronto.citynews.ca/2021/06/11/peoples...</td>\n",
              "      <td>People's Party of Canada Leader Maxime Bernier...</td>\n",
              "      <td>0</td>\n",
              "    </tr>\n",
              "    <tr>\n",
              "      <th>...</th>\n",
              "      <td>...</td>\n",
              "      <td>...</td>\n",
              "      <td>...</td>\n",
              "    </tr>\n",
              "    <tr>\n",
              "      <th>58851</th>\n",
              "      <td>https://bestinau.com.au/dan-murphy-catalogue/</td>\n",
              "      <td>A look into the Dan Murphy Catalogue and how i...</td>\n",
              "      <td>0</td>\n",
              "    </tr>\n",
              "    <tr>\n",
              "      <th>58852</th>\n",
              "      <td>https://bestinau.com.au/neurologists-adelaide/</td>\n",
              "      <td>Best Neurologists in Adelaide</td>\n",
              "      <td>0</td>\n",
              "    </tr>\n",
              "    <tr>\n",
              "      <th>58853</th>\n",
              "      <td>https://bestinau.com.au/establish-website-high...</td>\n",
              "      <td>Establishing if your website is high in qualit...</td>\n",
              "      <td>0</td>\n",
              "    </tr>\n",
              "    <tr>\n",
              "      <th>58854</th>\n",
              "      <td>https://bestinau.com.au/everything-to-know-abo...</td>\n",
              "      <td>Everything to know about Taylor Swift’s new al...</td>\n",
              "      <td>0</td>\n",
              "    </tr>\n",
              "    <tr>\n",
              "      <th>58855</th>\n",
              "      <td>https://bestinau.com.au/best-spanish-language-...</td>\n",
              "      <td>Best Spanish language apps to download</td>\n",
              "      <td>0</td>\n",
              "    </tr>\n",
              "  </tbody>\n",
              "</table>\n",
              "<p>58856 rows × 3 columns</p>\n",
              "</div>"
            ],
            "text/plain": [
              "                                            article_link  ... is_sarcastic\n",
              "0      https://toronto.citynews.ca/2021/06/11/a-look-...  ...            0\n",
              "1      https://toronto.citynews.ca/2021/06/11/the-lat...  ...            0\n",
              "2      https://toronto.citynews.ca/2021/06/11/b-c-pre...  ...            0\n",
              "3      https://toronto.citynews.ca/2021/06/11/peoples...  ...            0\n",
              "4      https://toronto.citynews.ca/2021/06/11/peoples...  ...            0\n",
              "...                                                  ...  ...          ...\n",
              "58851      https://bestinau.com.au/dan-murphy-catalogue/  ...            0\n",
              "58852     https://bestinau.com.au/neurologists-adelaide/  ...            0\n",
              "58853  https://bestinau.com.au/establish-website-high...  ...            0\n",
              "58854  https://bestinau.com.au/everything-to-know-abo...  ...            0\n",
              "58855  https://bestinau.com.au/best-spanish-language-...  ...            0\n",
              "\n",
              "[58856 rows x 3 columns]"
            ]
          },
          "metadata": {
            "tags": []
          },
          "execution_count": 7
        }
      ]
    },
    {
      "cell_type": "code",
      "metadata": {
        "id": "lNRm8F-YOxLi"
      },
      "source": [
        "data0 = data0.drop_duplicates()"
      ],
      "execution_count": 8,
      "outputs": []
    },
    {
      "cell_type": "markdown",
      "metadata": {
        "id": "Bj7pz-_qEo3v"
      },
      "source": [
        "* **File các headlines báo châm biếm**"
      ]
    },
    {
      "cell_type": "code",
      "metadata": {
        "id": "Q5kp1VVU9Ciw",
        "colab": {
          "base_uri": "https://localhost:8080/",
          "height": 419
        },
        "outputId": "013101a5-40b6-450c-d04d-6c656cfea9bd"
      },
      "source": [
        "data1 = pd.read_json('/content/drive/MyDrive/ML/Sarcasm_data/1.json', lines= True)\n",
        "data1"
      ],
      "execution_count": 9,
      "outputs": [
        {
          "output_type": "execute_result",
          "data": {
            "text/html": [
              "<div>\n",
              "<style scoped>\n",
              "    .dataframe tbody tr th:only-of-type {\n",
              "        vertical-align: middle;\n",
              "    }\n",
              "\n",
              "    .dataframe tbody tr th {\n",
              "        vertical-align: top;\n",
              "    }\n",
              "\n",
              "    .dataframe thead th {\n",
              "        text-align: right;\n",
              "    }\n",
              "</style>\n",
              "<table border=\"1\" class=\"dataframe\">\n",
              "  <thead>\n",
              "    <tr style=\"text-align: right;\">\n",
              "      <th></th>\n",
              "      <th>article_link</th>\n",
              "      <th>headline</th>\n",
              "      <th>is_sarcastic</th>\n",
              "    </tr>\n",
              "  </thead>\n",
              "  <tbody>\n",
              "    <tr>\n",
              "      <th>0</th>\n",
              "      <td>https://clickhole.com/finally-the-indians-are-...</td>\n",
              "      <td>Finally: The Indians Are Replacing Their Racis...</td>\n",
              "      <td>1</td>\n",
              "    </tr>\n",
              "    <tr>\n",
              "      <th>1</th>\n",
              "      <td>https://clickhole.com/end-of-an-era-with-donal...</td>\n",
              "      <td>End Of An Era: With Donald Trump’s Plans To Se...</td>\n",
              "      <td>1</td>\n",
              "    </tr>\n",
              "    <tr>\n",
              "      <th>2</th>\n",
              "      <td>https://clickhole.com/culture-shock-everything...</td>\n",
              "      <td>Culture Shock: Everything You Need To Know Abo...</td>\n",
              "      <td>1</td>\n",
              "    </tr>\n",
              "    <tr>\n",
              "      <th>3</th>\n",
              "      <td>https://clickhole.com/bridging-the-divide-chri...</td>\n",
              "      <td>Bridging The Divide: Christian And Muslim Show...</td>\n",
              "      <td>1</td>\n",
              "    </tr>\n",
              "    <tr>\n",
              "      <th>4</th>\n",
              "      <td>https://clickhole.com/we-get-it-you-re-here-a-...</td>\n",
              "      <td>We Get It, You’re Here A Lot: This Guy’s Girlf...</td>\n",
              "      <td>1</td>\n",
              "    </tr>\n",
              "    <tr>\n",
              "      <th>...</th>\n",
              "      <td>...</td>\n",
              "      <td>...</td>\n",
              "      <td>...</td>\n",
              "    </tr>\n",
              "    <tr>\n",
              "      <th>24002</th>\n",
              "      <td>https://www.betootaadvocate.com/uncategorized/...</td>\n",
              "      <td>Local Mature-Age Student Adds Another Valuable...</td>\n",
              "      <td>1</td>\n",
              "    </tr>\n",
              "    <tr>\n",
              "      <th>24003</th>\n",
              "      <td>https://www.betootaadvocate.com/uncategorized/...</td>\n",
              "      <td>Local Woman Transitions Into Late 30s By Makin...</td>\n",
              "      <td>1</td>\n",
              "    </tr>\n",
              "    <tr>\n",
              "      <th>24004</th>\n",
              "      <td>https://www.betootaadvocate.com/uncategorized/...</td>\n",
              "      <td>Report: NRL Mole Definitely Should Have Said S...</td>\n",
              "      <td>1</td>\n",
              "    </tr>\n",
              "    <tr>\n",
              "      <th>24005</th>\n",
              "      <td>https://toronto.citynews.ca/2021/06/11/a-look-...</td>\n",
              "      <td>A look at COVID-19 vaccinations in Canada on F...</td>\n",
              "      <td>1</td>\n",
              "    </tr>\n",
              "    <tr>\n",
              "      <th>24006</th>\n",
              "      <td>https://toronto.citynews.ca/2021/06/11/the-lat...</td>\n",
              "      <td>The latest numbers on COVID-19 in Canada for F...</td>\n",
              "      <td>1</td>\n",
              "    </tr>\n",
              "  </tbody>\n",
              "</table>\n",
              "<p>24007 rows × 3 columns</p>\n",
              "</div>"
            ],
            "text/plain": [
              "                                            article_link  ... is_sarcastic\n",
              "0      https://clickhole.com/finally-the-indians-are-...  ...            1\n",
              "1      https://clickhole.com/end-of-an-era-with-donal...  ...            1\n",
              "2      https://clickhole.com/culture-shock-everything...  ...            1\n",
              "3      https://clickhole.com/bridging-the-divide-chri...  ...            1\n",
              "4      https://clickhole.com/we-get-it-you-re-here-a-...  ...            1\n",
              "...                                                  ...  ...          ...\n",
              "24002  https://www.betootaadvocate.com/uncategorized/...  ...            1\n",
              "24003  https://www.betootaadvocate.com/uncategorized/...  ...            1\n",
              "24004  https://www.betootaadvocate.com/uncategorized/...  ...            1\n",
              "24005  https://toronto.citynews.ca/2021/06/11/a-look-...  ...            1\n",
              "24006  https://toronto.citynews.ca/2021/06/11/the-lat...  ...            1\n",
              "\n",
              "[24007 rows x 3 columns]"
            ]
          },
          "metadata": {
            "tags": []
          },
          "execution_count": 9
        }
      ]
    },
    {
      "cell_type": "code",
      "metadata": {
        "id": "olt1hyQqPWD4"
      },
      "source": [
        "data1 = data1.drop_duplicates()"
      ],
      "execution_count": 10,
      "outputs": []
    },
    {
      "cell_type": "markdown",
      "metadata": {
        "id": "dU9gFHGTPJAY"
      },
      "source": [
        "* **Gộp 2 file**"
      ]
    },
    {
      "cell_type": "code",
      "metadata": {
        "id": "TnISJqC9PIRg"
      },
      "source": [
        "data = data1.append(data0)"
      ],
      "execution_count": 11,
      "outputs": []
    },
    {
      "cell_type": "markdown",
      "metadata": {
        "id": "pMYe5K5vP87O"
      },
      "source": [
        "* **Shuffle dữ liệu**"
      ]
    },
    {
      "cell_type": "code",
      "metadata": {
        "colab": {
          "base_uri": "https://localhost:8080/",
          "height": 419
        },
        "id": "jbOQ9ibYQBJy",
        "outputId": "ed712f4c-ed2c-444c-b669-019a26a0562c"
      },
      "source": [
        "data = data.sample(frac=1).reset_index(drop=True)\n",
        "data"
      ],
      "execution_count": 12,
      "outputs": [
        {
          "output_type": "execute_result",
          "data": {
            "text/html": [
              "<div>\n",
              "<style scoped>\n",
              "    .dataframe tbody tr th:only-of-type {\n",
              "        vertical-align: middle;\n",
              "    }\n",
              "\n",
              "    .dataframe tbody tr th {\n",
              "        vertical-align: top;\n",
              "    }\n",
              "\n",
              "    .dataframe thead th {\n",
              "        text-align: right;\n",
              "    }\n",
              "</style>\n",
              "<table border=\"1\" class=\"dataframe\">\n",
              "  <thead>\n",
              "    <tr style=\"text-align: right;\">\n",
              "      <th></th>\n",
              "      <th>article_link</th>\n",
              "      <th>headline</th>\n",
              "      <th>is_sarcastic</th>\n",
              "    </tr>\n",
              "  </thead>\n",
              "  <tbody>\n",
              "    <tr>\n",
              "      <th>0</th>\n",
              "      <td>https://toronto.citynews.ca/2020/03/12/stock-m...</td>\n",
              "      <td>Worst day on Wall Street since 1987 as virus f...</td>\n",
              "      <td>0</td>\n",
              "    </tr>\n",
              "    <tr>\n",
              "      <th>1</th>\n",
              "      <td>https://www.betootaadvocate.com/headlines/if-y...</td>\n",
              "      <td>“If You’re Worried About This Jab We Don’t Hav...</td>\n",
              "      <td>1</td>\n",
              "    </tr>\n",
              "    <tr>\n",
              "      <th>2</th>\n",
              "      <td>https://toronto.citynews.ca/2019/09/09/former-...</td>\n",
              "      <td>Former justice Marie Deschamps named to panel ...</td>\n",
              "      <td>0</td>\n",
              "    </tr>\n",
              "    <tr>\n",
              "      <th>3</th>\n",
              "      <td>https://toronto.citynews.ca/2018/12/20/nafta-d...</td>\n",
              "      <td>NAFTA drama earns Chrystia Freeland CP's Busin...</td>\n",
              "      <td>0</td>\n",
              "    </tr>\n",
              "    <tr>\n",
              "      <th>4</th>\n",
              "      <td>https://toronto.citynews.ca/2018/12/12/canada-...</td>\n",
              "      <td>If courts decide to extradite Huawei exec, jus...</td>\n",
              "      <td>0</td>\n",
              "    </tr>\n",
              "    <tr>\n",
              "      <th>...</th>\n",
              "      <td>...</td>\n",
              "      <td>...</td>\n",
              "      <td>...</td>\n",
              "    </tr>\n",
              "    <tr>\n",
              "      <th>45350</th>\n",
              "      <td>https://toronto.citynews.ca/2020/08/31/trade-m...</td>\n",
              "      <td>Trade minister says she'll keep eye on U.S. pr...</td>\n",
              "      <td>0</td>\n",
              "    </tr>\n",
              "    <tr>\n",
              "      <th>45351</th>\n",
              "      <td>https://toronto.citynews.ca/2019/10/08/climate...</td>\n",
              "      <td>Climate protesters shut down bridges in Canadi...</td>\n",
              "      <td>0</td>\n",
              "    </tr>\n",
              "    <tr>\n",
              "      <th>45352</th>\n",
              "      <td>https://www.betootaadvocate.com/breaking-news/...</td>\n",
              "      <td>Barilaro: “Gladys Is Out Of Touch With Average...</td>\n",
              "      <td>1</td>\n",
              "    </tr>\n",
              "    <tr>\n",
              "      <th>45353</th>\n",
              "      <td>https://toronto.citynews.ca/2020/02/19/opposit...</td>\n",
              "      <td>Opposition promises new info on Trans Mountain...</td>\n",
              "      <td>0</td>\n",
              "    </tr>\n",
              "    <tr>\n",
              "      <th>45354</th>\n",
              "      <td>https://thehardtimes.net/harddrive/mario-cant-...</td>\n",
              "      <td>Mario Can’t Get Resume Under 10 Pages</td>\n",
              "      <td>1</td>\n",
              "    </tr>\n",
              "  </tbody>\n",
              "</table>\n",
              "<p>45355 rows × 3 columns</p>\n",
              "</div>"
            ],
            "text/plain": [
              "                                            article_link  ... is_sarcastic\n",
              "0      https://toronto.citynews.ca/2020/03/12/stock-m...  ...            0\n",
              "1      https://www.betootaadvocate.com/headlines/if-y...  ...            1\n",
              "2      https://toronto.citynews.ca/2019/09/09/former-...  ...            0\n",
              "3      https://toronto.citynews.ca/2018/12/20/nafta-d...  ...            0\n",
              "4      https://toronto.citynews.ca/2018/12/12/canada-...  ...            0\n",
              "...                                                  ...  ...          ...\n",
              "45350  https://toronto.citynews.ca/2020/08/31/trade-m...  ...            0\n",
              "45351  https://toronto.citynews.ca/2019/10/08/climate...  ...            0\n",
              "45352  https://www.betootaadvocate.com/breaking-news/...  ...            1\n",
              "45353  https://toronto.citynews.ca/2020/02/19/opposit...  ...            0\n",
              "45354  https://thehardtimes.net/harddrive/mario-cant-...  ...            1\n",
              "\n",
              "[45355 rows x 3 columns]"
            ]
          },
          "metadata": {
            "tags": []
          },
          "execution_count": 12
        }
      ]
    },
    {
      "cell_type": "markdown",
      "metadata": {
        "id": "5Ze6zi0f9KZ5"
      },
      "source": [
        "###**Nhận xét :**\n",
        "* Thu thập được tổng cộng 24005 tiêu đề báo châm biếm, 58855 tiêu đề báo chính thống\n",
        "* Số lượng báo chính thống gấp hơn 2 lần so với báo châm biếm \n",
        "* Chênh lệch dữ liệu này có thể dẫn đến sai lệch độ chính xác của model "
      ]
    },
    {
      "cell_type": "markdown",
      "metadata": {
        "id": "JxHu1rXj-VL7"
      },
      "source": [
        "## **III. Tiền xử lý dữ liệu :**"
      ]
    },
    {
      "cell_type": "code",
      "metadata": {
        "id": "LgZ7dSQzPsCd"
      },
      "source": [
        "X = data[\"headline\"].values\n",
        "y = data[\"is_sarcastic\"].values"
      ],
      "execution_count": 13,
      "outputs": []
    },
    {
      "cell_type": "markdown",
      "metadata": {
        "id": "hJ5JArKTcX7W"
      },
      "source": [
        "### **1. Tạo vocalbulary theo data đã thu thập :**"
      ]
    },
    {
      "cell_type": "code",
      "metadata": {
        "id": "d69qLFejj1UF"
      },
      "source": [
        "stop_words = set(stopwords.words('english')) # Vd: a, an ,is ,..."
      ],
      "execution_count": null,
      "outputs": []
    },
    {
      "cell_type": "code",
      "metadata": {
        "id": "u3CfWbcw_Q_9"
      },
      "source": [
        "# tập các từ tiếng Anh của thư viện nltk\n",
        "corpora_nltk = brown.words(categories='news')"
      ],
      "execution_count": 19,
      "outputs": []
    },
    {
      "cell_type": "code",
      "metadata": {
        "id": "8Yuz4EHv5f36"
      },
      "source": [
        "\n",
        "def preprocessing(text): # Loại bỏ các kí tự không phải alphabet, chuyển sang chữ thường, loại bỏ các stop word\n",
        "  table = str.maketrans('', '', string.punctuation)\n",
        "  stripped = [w.translate(table) for w in text]\n",
        "  words = [word for word in stripped if word.isalpha()]\n",
        "\n",
        "  words = [w for w in words if not w in stop_words]\n",
        "\n",
        "  vocabulary = [w.lower() for w in words]\n",
        "  vocabulary = list(dict.fromkeys(vocabulary))\n",
        "  return vocabulary"
      ],
      "execution_count": 20,
      "outputs": []
    },
    {
      "cell_type": "code",
      "metadata": {
        "colab": {
          "base_uri": "https://localhost:8080/"
        },
        "id": "FJ8s8I6i_6oc",
        "outputId": "5116bf56-e352-41b2-aa6f-0fa78156add8"
      },
      "source": [
        "corpora_nltk = preprocessing(corpora_nltk)\n",
        "print(corpora_nltk)"
      ],
      "execution_count": 21,
      "outputs": [
        {
          "output_type": "stream",
          "text": [
            "['the', 'fulton', 'county', 'grand', 'jury', 'said', 'friday', 'investigation', 'atlantas', 'recent', 'primary', 'election', 'produced', 'evidence', 'irregularities', 'took', 'place', 'termend', 'presentments', 'city', 'executive', 'committee', 'overall', 'charge', 'deserves', 'praise', 'thanks', 'atlanta', 'manner', 'conducted', 'septemberoctober', 'term', 'charged', 'superior', 'court', 'judge', 'durwood', 'pye', 'investigate', 'reports', 'possible', 'hardfought', 'mayornominate', 'ivan', 'allen', 'jr', 'only', 'relative', 'handful', 'received', 'considering', 'widespread', 'interest', 'number', 'voters', 'size', 'find', 'many', 'georgias', 'registration', 'laws', 'outmoded', 'inadequate', 'often', 'ambiguous', 'it', 'recommended', 'legislators', 'act', 'studied', 'revised', 'end', 'modernizing', 'improving', 'commented', 'topics', 'among', 'purchasing', 'departments', 'well', 'operated', 'follow', 'generally', 'accepted', 'practices', 'inure', 'best', 'governments', 'merger', 'proposed', 'however', 'believes', 'two', 'offices', 'combined', 'achieve', 'greater', 'efficiency', 'reduce', 'cost', 'administration', 'department', 'lacking', 'experienced', 'clerical', 'personnel', 'result', 'policies', 'urged', 'take', 'steps', 'remedy', 'problem', 'implementation', 'automobile', 'title', 'law', 'also', 'outgoing', 'next', 'legislature', 'provide', 'enabling', 'funds', 'reset', 'effective', 'date', 'orderly', 'may', 'effected', 'swipe', 'state', 'welfare', 'handling', 'federal', 'granted', 'child', 'services', 'foster', 'homes', 'this', 'one', 'major', 'items', 'general', 'assistance', 'program', 'seen', 'fit', 'distribute', 'counties', 'exception', 'receives', 'none', 'money', 'jurors', 'realize', 'proportionate', 'distribution', 'might', 'disable', 'less', 'populous', 'nevertheless', 'feel', 'future', 'receive', 'portion', 'available', 'failure', 'continue', 'disproportionate', 'burden', 'taxpayers', 'ordinarys', 'fire', 'appointment', 'appraisers', 'guardians', 'administrators', 'awarding', 'fees', 'compensation', 'wards', 'protected', 'found', 'incorporated', 'operating', 'procedures', 'recommendations', 'previous', 'juries', 'bar', 'association', 'interim', 'citizens', 'these', 'actions', 'serve', 'protect', 'fact', 'effect', 'courts', 'undue', 'costs', 'appointed', 'elected', 'servants', 'unmeritorious', 'criticisms', 'regarding', 'new', 'multimilliondollar', 'airport', 'management', 'takes', 'jan', 'eliminate', 'political', 'influences', 'elaborate', 'added', 'periodic', 'surveillance', 'pricing', 'concessionaires', 'purpose', 'keeping', 'prices', 'reasonable', 'ask', 'jail', 'deputies', 'on', 'matters', 'four', 'additional', 'employed', 'doctor', 'medical', 'intern', 'extern', 'night', 'weekend', 'duty', 'work', 'officials', 'pass', 'legislation', 'permit', 'establishment', 'fair', 'equitable', 'pension', 'plan', 'employes', 'praised', 'operation', 'police', 'tax', 'commissioners', 'office', 'bellwood', 'alpharetta', 'prison', 'farms', 'grady', 'hospital', 'health', 'mayor', 'william', 'b', 'hartsfield', 'filed', 'suit', 'divorce', 'wife', 'pearl', 'williams', 'his', 'petition', 'mental', 'cruelty', 'couple', 'married', 'aug', 'they', 'son', 'berry', 'daughter', 'mrs', 'j', 'm', 'cheshire', 'griffin', 'attorneys', 'amicable', 'property', 'settlement', 'agreed', 'upon', 'listed', 'mayors', 'occupation', 'attorney', 'age', 'wifes', 'birth', 'opelika', 'ala', 'lived', 'together', 'man', 'year', 'home', 'e', 'pelham', 'rd', 'aj', 'henry', 'l', 'bowden', 'brief', 'interlude', 'since', 'career', 'goes', 'back', 'council', 'present', 'expires', 'he', 'succeeded', 'became', 'candidate', 'sept', 'announced', 'would', 'run', 'reelection', 'georgia', 'republicans', 'getting', 'strong', 'encouragement', 'enter', 'governors', 'race', 'top', 'official', 'wednesday', 'robert', 'snodgrass', 'gop', 'chairman', 'meeting', 'held', 'tuesday', 'blue', 'ridge', 'brought', 'enthusiastic', 'responses', 'audience', 'party', 'james', 'w', 'dorsey', 'enthusiasm', 'picking', 'rally', 'savannah', 'newly', 'texas', 'sen', 'john', 'tower', 'featured', 'speaker', 'in', 'warned', 'entering', 'governor', 'force', 'petitions', 'voting', 'precincts', 'obtain', 'signatures', 'registered', 'despite', 'warning', 'unanimous', 'vote', 'according', 'attended', 'when', 'crowd', 'asked', 'whether', 'wanted', 'wait', 'make', 'voted', 'dissents', 'largest', 'hurdle', 'face', 'says', 'making', 'first', 'alternative', 'courses', 'must', 'taken', 'five', 'per', 'cent', 'sign', 'requesting', 'allowed', 'names', 'candidates', 'ballot', 'hold', 'unit', 'system', 'opposes', 'platform', 'sam', 'caldwell', 'highway', 'public', 'relations', 'director', 'resigned', 'lt', 'gov', 'garland', 'byrds', 'campaign', 'caldwells', 'resignation', 'expected', 'time', 'rob', 'ledford', 'gainesville', 'assistant', 'three', 'years', 'gubernatorial', 'starts', 'become', 'coordinator', 'byrd', 'wind', 'session', 'monday', 'head', 'bond', 'approved', 'shortly', 'before', 'adjournment', 'afternoon', 'senate', 'approve', 'study', 'allotted', 'rural', 'urban', 'areas', 'determine', 'adjustments', 'made', 'vandiver', 'traditional', 'visit', 'chambers', 'toward', 'likely', 'mention', 'million', 'issue', 'earlier', 'priority', 'item', 'construction', 'bonds', 'meanwhile', 'learned', 'near', 'ready', 'worth', 'reconstruction', 'go', 'friendly', 'test', 'validity', 'sales', 'begin', 'contracts', 'let', 'repair', 'heavily', 'traveled', 'highways', 'a', 'source', 'roads', 'authority', 'road', 'revolving', 'fund', 'apparently', 'intends', 'issued', 'every', 'old', 'ones', 'paid', 'authorities', 'opened', 'battle', 'issuance', 'marvin', 'told', 'constitution', 'consulted', 'yet', 'plans', 'schley', 'rep', 'd', 'offer', 'resolution', 'house', 'rescind', 'bodys', 'action', 'day', 'increase', 'expense', 'allowances', 'sunday', 'research', 'done', 'quickie', 'repealed', 'outright', 'notice', 'given', 'reconsideration', 'sought', 'while', 'emphasizing', 'technical', 'details', 'fully', 'worked', 'seek', 'set', 'aside', 'privilege', 'similar', 'passed', 'as', 'word', 'offered', 'pointed', 'last', 'november', 'rejected', 'constitutional', 'amendment', 'allow', 'pay', 'raises', 'sessions', 'veteran', 'jackson', 'legislator', 'aid', 'education', 'something', 'consistently', 'opposed', 'past', 'mac', 'barber', 'commerce', 'asking', 'endorse', 'increased', 'support', 'provided', 'expended', 'members', 'congressional', 'delegation', 'washington', 'like', 'see', 'but', 'congressmen', 'specifically', 'tossed', 'hopper', 'formally', 'read', 'event', 'congress', 'board', 'directed', 'give', 'teacher', 'colquitt', 'after', 'long', 'hot', 'controversy', 'miller', 'school', 'superintendent', 'policeman', 'put', 'coolest', 'i', 'ever', 'saw', 'harry', 'davis', 'agriculture', 'defeated', 'felix', 'bush', 'principal', 'democratic', 'votes', 'saturdays', 'got', 'ordinary', 'carey', 'armed', 'pistol', 'stood', 'polls', 'insure', 'order', 'calmest', 'tom', 'being', 'church', 'didnt', 'smell', 'drop', 'liquor', 'bit', 'trouble', 'leading', 'quiet', 'marked', 'anonymous', 'midnight', 'phone', 'calls', 'veiled', 'threats', 'violence', 'former', 'george', 'p', 'callan', 'shot', 'death', 'march', 'days', 'post', 'dispute', 'during', 'reportedly', 'telephone', 'subjected', 'soon', 'scheduled', 'local', 'feared', 'carry', 'gun', 'promised', 'sheriff', 'tabb', 'good', 'promise', 'everything', 'went', 'real', 'smooth', 'there', 'wasnt', 'austin', 'approval', 'price', 'daniels', 'abandoned', 'seemed', 'certain', 'thursday', 'adamant', 'protests', 'bankers', 'daniel', 'personally', 'led', 'fight', 'measure', 'watered', 'considerably', 'rejection', 'legislatures', 'hearing', 'revenue', 'taxation', 'under', 'rules', 'automatically', 'subcommittee', 'week', 'questions', 'taunted', 'appearing', 'witnesses', 'left', 'little', 'doubt', 'recommend', 'passage', 'termed', 'extremely', 'conservative', 'estimate', 'produce', 'dollars', 'help', 'erase', 'anticipated', 'deficit', 'current', 'fiscal', 'merely', 'means', 'enforcing', 'escheat', 'books', 'republic', 'permits', 'bank', 'accounts', 'stocks', 'personal', 'persons', 'missing', 'seven', 'bill', 'drafted', 'banks', 'insurance', 'firms', 'pipeline', 'companies', 'corporations', 'report', 'treasurer', 'cannot', 'enforced', 'almost', 'impossible', 'locate', 'declared', 'dewey', 'lawrence', 'tyler', 'lawyer', 'representing', 'sounded', 'opposition', 'keynote', 'violate', 'contractual', 'obligations', 'depositors', 'undermine', 'confidence', 'customers', 'if', 'destroy', 'economy', 'you', 'circulation', 'millions', 'charles', 'hughes', 'sherman', 'sponsor', 'enact', 'amount', 'gift', 'pockets', 'contention', 'denied', 'several', 'including', 'scott', 'hudson', 'gaynor', 'jones', 'houston', 'brady', 'harlingen', 'howard', 'cox', 'argued', 'probably', 'unconstitutional', 'impair', 'complained', 'enough', 'introduced', 'senators', 'unanimously', 'parkhouse', 'dallas', 'authorizing', 'schools', 'deaf', 'designed', 'special', 'schooling', 'students', 'scholastic', 'reduced', 'debate', 'authorize', 'agency', 'establish', 'countywide', 'population', 'require', 'children', 'attend', 'permitting', 'older', 'residential', 'budget', 'harris', 'bexar', 'tarrant', 'el', 'paso', 'savings', 'yearly', 'capital', 'outlay', 'absorbed', 'tea', 'estimated', 'scholastics', 'saving', 'coming', 'live', 'get', 'hear', 'horse', 'parimutuels', 'reps', 'v', 'red', 'joe', 'ratcliff', 'still', 'expects', 'tell', 'folks', 'thinks', 'berrys', 'were', 'pro', 'letters', 'con', 'betting', 'believe', 'people', 'better', 'informed', 'question', 'oppose', 'im', 'willing', 'stake', 'exgambler', 'san', 'antonio', 'advocacy', 'ponies', 'heard', 'option', 'proposal', 'favorable', 'although', 'faces', 'hard', 'sledding', 'later', 'finally', 'sent', 'extending', 'planning', 'cities', 'quickly', 'whipped', 'meager', 'fare', 'bills', 'committees', 'passing', 'calendar', 'validated', 'acts', 'districts', 'another', 'enlarged', 'beaumont', 'navigation', 'district', 'third', 'amended', 'creation', 'lamar', 'previously', 'adopted', 'without', 'dissent', 'r', 'schwartz', 'galveston', 'mentally', 'retarded', 'gulf', 'coast', 'meantime', 'accept', 'gifts', 'donations', 'site', 'revision', 'louis', 'crump', 'saba', 'retailers', 'group', 'miscellaneous', 'excise', 'taxes', 'eliminating', 'requirement', 'return', 'notarized', 'instead', 'certificate', 'correctness', 'violation', 'penalty', 'plus', 'fine', 'series', 'league', 'aikin', 'paris', 'relieve', 'estate', 'brokers', 'annual', 'licensing', 'fee', 'license', 'natural', 'gas', 'utility', 'right', 'eminent', 'domain', 'frank', 'owen', 'acquire', 'sites', 'underground', 'storage', 'reservoirs', 'marshall', 'formby', 'plainview', 'commission', 'suggested', 'fill', 'vacancies', 'need', 'costly', 'elections', 'formbys', 'appointee', 'selected', 'composed', 'lieutenant', 'chief', 'justice', 'supreme', 'representatives', 'decided', 'taking', 'poll', 'kind', 'texans', 'prefer', 'an', 'adverse', 'kept', 'affairs', 'referendum', 'april', 'us', 'senator', 'wesley', 'roberts', 'seminole', 'idea', 'delay', 'kill', 'west', 'texan', 'reported', 'gotten', 'hollowell', 'feb', 'final', 'legislative', 'twothirds', 'majorities', 'printed', 'opponents', 'couldnt', 'information', 'proposals', 'intelligent', 'choice', 'all', 'except', 'absent', 'paradise', 'lost', 'alleged', 'water', 'needs', 'big', 'cotten', 'weatherford', 'insisted', 'development', 'effort', 'fort', 'cover', 'places', 'wise', 'hamlet', 'shouting', 'ended', 'sending', 'sponsored', 'most', 'maximum', 'loan', 'could', 'project', 'construed', 'large', 'felt', 'spent', 'providing', 'statements', 'paying', 'benefit', 'pending', 'sway', 'cottens', 'attack', 'defenders', 'mostly', 'smalltown', 'buchanan', 'dumas', 'eligio', 'kika', 'de', 'la', 'garza', 'mission', 'f', 'collins', 'newton', 'chapman', 'sulphur', 'springs', 'poor', 'boys', 'peanut', 'serving', 'reducing', 'learning', 'educational', 'methods', 'c', 'grover', 'teaches', 'history', 'semester', 'hours', 'socalled', 'teaching', 'required', 'junior', 'senior', 'high', 'normal', 'college', 'juniorsenior', 'teachers', 'least', 'credit', 'subject', 'remainder', 'subjects', 'person', 'masters', 'degree', 'physics', 'chemistry', 'math', 'english', 'permitted', 'teach', 'fiftythree', 'immediately', 'joined', 'cosigners', 'sp', 'regents', 'named', 'dr', 'clarence', 'clark', 'hays', 'kan', 'president', 'succeed', 'mclemore', 'retire', 'close', 'holds', 'earned', 'university', 'oklahoma', 'master', 'science', 'bachelor', 'southwestern', 'okla', 'addition', 'rhode', 'island', 'massachusetts', 'institute', 'technology', 'captain', 'basketball', 'team', 'football', 'letterman', 'served', 'athletic', 'raymondville', 'instructor', 'associate', 'professor', 'border', 'patrolman', 'signal', 'corps', 'army', 'denton', 'principals', 'independent', 'reelected', 'recommendation', 'supt', 'chester', 'o', 'strickland', 'racial', 'discrimination', 'employment', 'called', 'yesterday', 'ribbon', 'dependent', 'culminating', 'adc', 'cook', 'york', 'consulting', 'firm', 'range', 'soaring', 'case', 'load', 'serious', 'causes', 'family', 'breakdown', 'desertion', 'dependency', 'solve', 'monthly', 'recipients', 'virgil', 'martin', 'carson', 'pirie', 'co', 'we', 'problems', 'forced', 'depend', 'subsistence', 'volume', 'cases', 'decrease', 'community', 'able', 'deal', 'effectively', 'relatively', 'limited', 'skills', 'color', 'underlying', 'breakups', 'extension', 'other', 'living', 'relatives', 'parents', 'preserving', 'unity', 'projects', 'prevention', 'illegitimacy', 'defendants', 'summerdale', 'burglary', 'trial', 'indicating', 'guilt', 'arrest', 'parsons', 'criminal', 'disclosure', 'bellows', 'defense', 'counsel', 'startled', 'observers', 'viewed', 'prelude', 'quarrel', 'six', 'eight', 'policemen', 'grant', 'client', 'alan', 'clements', 'separate', 'request', 'allwoman', 'courtroom', 'fears', 'prejudicial', 'aspects', 'highly', 'some', 'strongly', 'indicated', 'knew', 'receiving', 'stolen', 'involving', 'others', 'leaned', 'bench', 'inquired', 'mean', 'admitting', 'yes', 'honor', 'replied', 'what', 'amounts', 'true', 'freeforall', 'conflict', 'july', 'kennedy', 'today', 'pushed', 'white', 'business', 'devote', 'attention', 'working', 'berlin', 'crisis', 'address', 'deliver', 'tomorrow', 'american', 'nationwide', 'television', 'radio', 'much', 'summer', 'cape', 'cod', 'writing', 'drafts', 'portions', 'aids', 'talked', 'returned', 'midmorning', 'hyannis', 'port', 'mass', 'spokesman', 'text', 'quite', 'way', 'completion', 'decisions', 'pierre', 'salinger', 'press', 'secretary', 'say', 'thru', 'advisers', 'staff', 'involved', 'composition', 'wording', 'rather', 'minute', 'meet', 'latest', 'precipitated', 'russias', 'demands', 'nov', 'dismissed', 'acting', 'karns', 'prosecution', 'obtained', 'unfair', 'fundamentally', 'illegal', 'matter', 'even', 'significance', 'innocence', 'legal', 'rights', 'ruling', 'pertained', 'ruled', 'unable', 'contempt', 'proceedings', 'originally', 'morris', 'wexler', 'prosecutor', 'subpoenas', 'admitted', 'hearings', 'subpenas', 'questioned', 'individuals', 'building', 'mayer', 'goldberg', 'judges', 'precinct', 'ward', 'procedure', 'constituted', 'intimidation', 'repeatedly', 'coercion', 'used', 'questioning', 'wrongful', 'privately', 'outside', 'room', 'misuse', 'processes', 'actually', 'abuse', 'process', 'altho', 'vindication', 'function', 'east', 'st', 'sitting', 'faced', 'complementary', 'miscount', 'advisement', 'claims', 'precedent', 'reading', 'statement', 'discharging', 'subpenaed', 'dismiss', 'mammoth', 'care', 'whereby', 'social', 'security', 'workers', 'raised', 'americans', 'covered', 'railroad', 'retirement', 'programs', 'message', 'tied', 'aged', 'requests', 'grants', 'finance', 'dental', 'scholarships', 'build', 'expand', 'capitol', 'hill', 'financed', 'boosting', 'payroll', 'worker', 'employer', 'alone', 'boost', 'base', 'boosts', 'imposed', 'rise', 'starting', 'levy', 'already', 'outlays', 'billion', 'benefits', 'both', 'figures', 'higher', 'parts', 'entail', 'nursing', 'carries', 'systems', 'full', 'payment', 'stays', 'illness', 'patient', 'nine', 'following', 'discharge', 'paidfor', 'formula', 'allowing', 'use', 'part', 'hospitalcare', 'outpatient', 'clinic', 'diagnostic', 'service', 'excess', 'visiting', 'nurse', 'noted', 'states', 'needy', 'modest', 'wish', 'staggered', 'drain', 'caused', 'extended', 'stay', 'cut', 'absolutely', 'essential', 'sufficient', 'deductible', 'requirements', 'discourage', 'malingering', 'unnecessary', 'overcrowding', 'hospitals', 'socialized', 'medicine', 'prepayment', 'absolute', 'freedom', 'guaranteed', 'choose', 'wouldnt', 'doctors', 'apart', 'presidents', 'ambitious', 'enlarge', 'nations', 'handle', 'student', 'needed', 'rising', 'moreover', 'qualified', 'young', 'going', 'dentistry', 'cant', 'afford', 'contributions', 'scholarship', 'equal', 'onefourth', 'based', 'government', 'matching', 'totaling', 'constructing', 'enlarging', 'capacity', 'existing', 'more', 'area', 'doubling', 'dollar', 'initial', 'appropriation', 'stimulatory', 'improve', 'unspecified', 'sum', 'experimental', 'field', 'childrens', 'bureau', 'national', 'asks', 'vocational', 'rehabilitation', 'for', 'facilities', 'propose', 'increasing', 'direct', 'combine', 'indispensable', 'elements', 'sound', 'knowledge', 'reaction', 'along', 'lines', 'placing', 'agedcare', 'criticized', 'those', 'backed', 'hailed', 'republican', 'leader', 'dirksen', 'ill', 'halleck', 'ind', 'persuade', 'change', 'compulsory', 'voluntary', 'enacted', 'rayburn', 'tex', 'mighty', 'thing', 'prediction', 'fate', 'hastily', 'pressure', 'tonight', 'confirmed', 'weaver', 'housing', 'floor', 'record', 'scattered', 'ayes', 'noes', 'customary', 'ignored', 'speed', 'negro', 'administrator', 'presidential', 'appointments', 'cabinet', 'rank', 'immediate', 'rule', 'requiring', 'hour', 'enforce', 'demand', 'wayne', 'morse', 'ore', 'connection', 'eisenhowers', 'selections', 'kennedys', 'oslo', 'positive', 'element', 'emerge', 'north', 'atlantic', 'treaty', 'organization', 'foreign', 'ministers', 'freer', 'franker', 'wider', 'discussions', 'animated', 'mutual', 'understanding', 'meetings', 'nature', 'proceed', 'route', 'step', 'dramatic', 'changes', 'met', 'climate', 'candor', 'genuine', 'attempt', 'anothers', 'atmosphere', 'particularly', 'noticeable', 'concerned', 'colonialist', 'powers', 'never', 'nightmare', 'clash', 'africa', 'exacerbated', 'difficulties', 'tragedies', 'facing', 'allies', 'intellectually', 'emotionally', 'disapprove', 'circumstances', 'troubles', 'conspicuous', 'absence', 'explosion', 'avoided', 'portugal', 'weeks', 'ago', 'rumored', 'walk', 'nato', 'critics', 'angola', 'policy', 'prove', 'harsh', 'relaxation', 'tension', 'remarkably', 'courteous', 'explanation', 'basic', 'positions', 'unchanged', 'bitter', 'surprises', 'un', 'assembly', 'ad', 'hoc', 'discussed', 'advance', 'canada', 'somewhat', 'allied', 'cars', 'track', 'behind', 'locomotive', 'norway', 'daily', 'manifestations', 'atomic', 'arms', 'heart', 'northernmost', 'alliance', 'closer', 'line', 'negative', 'side', 'balance', 'sheet', 'disappointment', 'united', 'leadership', 'hoped', 'diplomat', 'described', 'tenor', 'dean', 'rusks', 'speeches', 'inconclusive', 'hastened', 'add', 'always', 'clear', 'mr', 'analysis', 'various', 'global', 'danger', 'points', 'setbacks', 'firmly', 'fixed', 'exploratory', 'mood', 'vagueness', 'tactical', 'appreciation', 'semipublic', 'affair', 'fewer', 'soviet', 'correspondents', 'accredited', 'impression', 'popularity', 'came', 'tentative', 'frame', 'mind', 'listen', 'learn', 'enunciate', 'scale', 'detailed', 'application', 'individual', 'spots', 'speech', 'gave', 'tremendous', 'events', 'inside', 'preoccupied', 'months', 'core', 'reiterated', 'profound', 'attachment', 'cornerstone', 'nuclear', 'submarines', 'eventually', 'natos', 'disposal', 'european', 'waters', 'solemnly', 'repeated', 'union', 'stand', 'setback', 'affirmation', 'whole', 'surveyed', 'secretarys', 'greatest', 'achievement', 'perhaps', 'rekindling', 'realization', 'eastwest', 'friction', 'wherever', 'around', 'globe', 'essence', 'entirely', 'different', 'societies', 'treated', 'regard', 'geographical', 'distance', 'lack', 'apparent', 'spring', 'impetus', 'main', 'directions', 'deeper', 'timely', 'consultation', 'within', 'economic', 'cooperation', 'ratified', 'method', 'coordinating', 'underdeveloped', 'countries', 'strengthening', 'conventional', 'forces', 'maintenance', 'deterrent', 'threshold', 'alliances', 'difficult', 'come', 'each', 'ally', 'laid', 'completely', 'fulfilled', 'moves', 'haltingly', 'geneva', 'conference', 'laos', 'erupts', 'optimism', 'communists', 'docile', 'table', 'military', 'ground', 'explain', 'mainly', 'interested', 'setting', 'international', 'inspection', 'prevent', 'communist', 'attacks', 'neighboring', 'thailand', 'south', 'viet', 'nam', 'count', 'neutral', 'attending', 'hopes', 'lao', 'dominated', 'acceptable', 'possibility', 'modified', 'inclination', 'facto', 'ceasefire', 'insist', 'verification', 'control', 'participating', 'modifications', 'compelled', 'excuses', 'chain', 'errors', 'its', 'spokesmen', 'reforms', 'critical', 'moving', 'confrontations', 'showing', 'gain', 'free', 'world', 'arises', 'how', 'dealing', 'aggression', 'vicepresident', 'richard', 'nixon', 'detroit', 'firmer', 'tougher', 'feels', 'tendency', 'conciliatory', 'restrained', 'gallup', 'understates', 'situation', 'hardly', 'restrain', 'raising', 'power', 'amateurish', 'monumental', 'blunders', 'cuba', 'correspondent', 'constantly', 'score', 'reply', 'country', 'politics', 'wisdom', 'thruston', 'morton', 'kentucky', 'responsible', 'outcome', 'coalition', 'susceptible', 'domination', 'assailed', 'direction', 'harvard', 'boston', 'brandeis', 'educators', 'detente', 'pleads', 'invasion', 'exile', 'groups', 'recommends', 'detach', 'castro', 'regime', 'bloc', 'diplomatic', 'resumption', 'trade', 'concentrate', 'constructive', 'efforts', 'latin', 'america', 'conditions', 'totalitarian', 'nationalism', 'feeds', 'intervention', 'specific', 'provocation', 'clearly', 'shipped', 'tolerated', 'until', 'cuban', 'fiasco', 'victories', 'observer', 'blended', 'respected', 'opinions', 'voiced', 'professors', 'revamped', 'very', 'early', 'kremlin', 'channels', 'disclosed', 'react', 'eisenhower', 'formative', 'period', 'strenuous', 'remove', 'pin', 'pricking', 'ban', 'negotiations', 'reviewed', 'changed', 'thus', 'far', 'response', 'emphasis', 'encourage', 'reform', 'recipient', 'looked', 'show', 'determination', 'sailing', 'naval', 'fleet', 'southeast', 'asian', 'useless', 'gesture', 'again', 'freeze', 'aided', 'pathet', 'faster', 'rate', 'and', 'territory', 'exposed', 'huge', 'buildup', 'acclaimed', 'performing', 'great', 'asia', 'seato', 'steamed', 'prepared', 'contingency', 'coping', 'losses', 'want', 'risk', 'allout', 'war', 'disagreed', 'complication', 'concluded', 'suited', 'unlike', 'determined', 'neighbors', 'favor', 'neutralized', 'prowestern', 'helped', 'revolt', 'souvanna', 'phouma', 'neutralist', 'appear', 'spark', 'fighting', 'spirit', 'royal', 'certainly', 'energy', 'displayed', 'hilt', 'ideas', 'prince', 'trusting', 'gradually', 'relinquish', 'factor', 'fulbright', 'arkansas', 'erred', 'half', 'encouraging', 'removal', 'extraordinary', 'check', 'rapid', 'growth', 'juvenile', 'delinquency', 'deeply', 'vitality', 'nation', 'important', 'assertion', 'establishing', 'crime', 'supported', 'assisted', 'advisory', 'recognized', 'enactment', 'specified', 'combating', 'disturbing', 'trend', 'offenses', 'multiply', 'labor', 'coordinate', 'assist', 'communities', 'cope', 'simultaneously', 'david', 'hackett', 'youth', 'sense', 'urgency', 'stems', 'arrests', 'doubled', 'offenders', 'larceny', 'providence', 'organize', 'civil', 'setup', 'appointing', 'fulltime', 'raymond', 'h', 'hawksley', 'cd', 'anyone', 'else', 'locally', 'outline', 'earliest', 'parttime', 'noting', 'handed', 'responsibility', 'salary', 'expressed', 'opinion', 'hire', 'basis', 'defray', 'believed', 'residents', 'job', 'men', 'laughlin', 'headquarters', 'pertinent', 'centralized', 'advantage', 'eligible', 'apply', 'financial', 'equipment', 'procurement', 'radios', 'sirens', 'rescue', 'trucks', 'vehicle', 'central', 'station', 'assign', 'riverside', 'section', 'rumford', 'speaking', 'status', 'bet', 'hundred', 'know', 'enemy', 'narragansett', 'grounds', 'point', 'drivein', 'theater', 'seekonk', 'knowing', 'assemble', 'air', 'such', 'vital', 'frequently', 'regular', 'intervals', 'fails', 'consider', 'call', 'september', 'developed', 'things', 'classes', 'drifts', 'level', 'examine', 'revisions', 'notte', 'name', 'move', 'form', 'letter', 'miss', 'mary', 'deputy', 'clerk', 'falls', 'copy', 'released', 'responding', 'urges', 'complete', 'eye', 'perform', 'review', 'atty', 'gen', 'joseph', 'nugent', 'views', 'appoint', 'nugents', 'expect', 'religious', 'specialinterest', 'affected', 'wrote', 'continuous', 'confronts', 'enforcement', 'officers', 'regulating', 'advised', 'should', 'shirking', 'activity', 'across', 'statutes', 'bay', 'dating', 'instances', 'colonial', 'times', 'severely', 'limit', 'types', 'merchandise', 'sold', 'sabbath', 'concern', 'especially', 'foods', 'placed', 'list', 'neighborhood', 'grocery', 'variety', 'stores', 'chance', 'compete', 'supermarkets', 'councils', 'small', 'shops', 'retained', 'livelihood', 'thousands', 'declares', 'licenses', 'factory', 'outlets', 'operate', 'contended', 'shopping', 'liberals', 'conservatives', 'parties', 'reama', 'nationally', 'known', 'labormanagement', 'expert', 'rotary', 'club', 'luncheon', 'sheratonbiltmore', 'hotel', 'type', 'enterprise', 'regrouping', 'average', 'voter', 'pull', 'lever', 'confessing', 'member', 'socialist', 'that', 'machinist', 'toolmaker', 'fellow', 'grooming', 'steered', 'utilities', 'pooling', 'resources', 'gaining', 'victory', 'original', 'retired', 'vice', 'screw', 'gross', 'product', 'neither', 'favors', 'wage', 'increases', 'manufacturers', 'caught', 'profit', 'squeeze', 'conditioned', 'turned', 'philosophy', 'dividing', 'really', 'engaged', 'industrial', 'counseling', 'bearing', 'johnston', 'presented', 'town', 'obtaining', 'charter', 'martinelli', 'transferred', 'hand', 'suggestion', 'fortin', 'sr', 'governs', 'referred', 'canvassers', 'happens', 'explained', 'assure', 'scheduling', 'completes', 'difference', 'arose', 'bourcier', 'solicitor', 'exact', 'handled', 'justices', 'favoring', 'assured', 'correct', 'strategy', 'movement', 'undoubtedly', 'comes', 'inspiring', 'think', 'hope', 'spearhead', 'surprised', 'running', 'nonpartisan', 'posts', 'our', 'goal', 'awareness', 'timetable', 'followed', 'started', 'towns', 'insurgent', 'model', 'municipal', 'misunderstanding', 'meaning', 'cited', 'false', 'pretenses', 'signers', 'affixed', 'consent', 'provision', 'included', 'sanitary', 'sewer', 'ordinance', 'motorists', 'plead', 'guilty', 'minor', 'traffic', 'fines', 'mondays', 'sanantonio', 'michael', 'abatuno', 'draft', 'at', 'authorized', 'adopt', 'nothing', 'sixth', 'disposition', 'hesitated', 'prosecute', 'heavy', 'simplest', 'offense', 'plainfield', 'mitchell', 'walter', 'rbergen', 'value', 'using', 'remark', 'campaigning', 'carcass', 'republicanism', 'dumont', 'rwarren', 'spoke', 'park', 'controversial', 'westfield', 'cocktail', 'scotch', 'plains', 'greeted', 'chorus', 'boos', 'women', 'trenton', 'forum', 'federation', 'womens', 'clubs', 'intention', 'stopped', 'beating', 'lifeblood', 'congealed', 'now', 'hes', 'gone', 'sell', 'tattered', 'remains', 'love', 'considered', 'mediocre', 'fall', 'common', 'decency', 'proud', 'adminstration', 'closeness', 'dead', 'regrets', 'regretted', 'wrong', 'inject', 'waged', 'issues', 'rearguing', 'respond', 'either', 'applause', 'merit', 'open', 'launched', 'continuance', 'passenger', 'proper', 'uses', 'surplus', 'jersey', 'attractive', 'industry', 'decries', 'joblessness', 'decried', 'unemployment', 'meyner', 'republicancontrolled', 'share', 'blame', 'mack', 'truck', 'plant', 'income', 'unhappy', 'minutes', 'saved', 'barbs', 'centralization', 'looks', 'transportation', 'crises', 'saying', 'ways', 'motor', 'vehicles', 'challenge', 'stands', 'defends', 'ike', 'resent', 'reference', 'discredited', 'insult', 'twice', 'overwhelmingly', 'symbol', 'peaceloving', 'intentions', 'understand', 'seeking', 'position', 'life', 'demonstrate', 'judgment', 'bad', 'taste', 'vicious', 'origin', 'desire', 'try', 'condemning', 'stature', 'rebound', 'discredit', 'sees', 'ahead', 'sandman', 'rcape', 'nomination', 'addressing', 'newark', 'essex', 'leaders', 'managers', 'gathering', 'indicate', 'chosen', 'partys', 'nominee', 'majority', 'announcement', 'clifford', 'spend', 'giveaway', 'desperate', 'prop', 'sagging', 'proven', 'answer', 'jerseys', 'witnessed', 'image', 'failed', 'witnessing', 'transfer', 'glow', 'candidacy', 'fail', 'harriet', 'copeland', 'greenfield', 'woodland', 'ave', 'committeewoman', 'supervisor', 'weldon', 'sheets', 'paper', 'ballots', 'represents', 'necessary', 'democracy', 'lip', 'financing', 'purchase', 'machines', 'repay', 'exclusive', 'january', 'mandatory', 'impinging', 'basically', 'distasteful', 'results', 'transcended', 'sheeran', 'orange', 'edward', 'roos', 'safety', 'commissioner', 'fbi', 'organizations', 'freeholder', 'macdonald', 'vacancy', 'neil', 'duffy', 'appeals', 'my', 'experience', 'shown', 'filled', 'preferably', 'jim', 'fits', 'description', 'seidel', 'warden', 'conservation', 'citation', 'salvatore', 'bontempo', 'credits', 'supervision', 'reduction', 'forest', 'fires', 'division', 'graduation', 'michigan', 'forestry', 'private', 'lumber', 'october', 'firefighting', 'techniques', 'plowing', 'established', 'tractor', 'plows', 'units', 'expanded', 'modernized', 'briefing', 'wardens', 'training', 'credited', 'cooperative', 'cross', 'boonton', 'debut', 'bid', 'pledge', 'corner', 'nearly', 'puddingstone', 'inn', 'youll', 'youre', 'glad', 'democrats', 'resolve', 'expedient', 'tripping', 'feet', 'popular', 'slogans', 'win', 'liberal', 'planned', 'forward', 'looking', 'honest', 'talk', 'mouth', 'truth', 'elect', 'signs', 'feeble', 'shall', 'partner', 'courageous', 'attraction', 'stop', 'piracy', 'southern', 'keep', 'bloodstream', 'clean', 'to', 'hoodlums', 'infiltrating', 'calling', 'lives', 'breathes', 'representative', 'springboard', 'meyners', 'green', 'acres', 'tracts', 'land', 'onrush', 'underwrite', 'alloted', 'municipalities', 'conquer', 'space', 'conserve', 'pointing', 'rapidly', 'changing', 'unless', 'preserve', 'comment', 'misconstrued', 'sympathetic', 'explicit', 'bring', 'dynamic', 'afraid', 'tangle', 'fifteen', 'retiring', 'voluntarily', 'honored', 'colleagues', 'whose', 'fouryear', 'terms', 'expire', 'carved', 'wooden', 'elephants', 'ivory', 'tusks', 'remember', 'retirements', 'leaving', 'presentation', 'geraldine', 'thompson', 'stepping', 'she', 'adoption', 'suffrage', 'resentment', 'welled', 'wagner', 'paul', 'screvane', 'abraham', 'beame', 'mates', 'antiorganization', 'opportunity', 'internal', 'regarded', 'bigger', 'trying', 'induce', 'controller', 'arthur', 'levitt', 'brooklyn', 'mayoral', 'contend', 'file', 'their', 'view', 'lastminute', 'proposing', 'ticket', 'emphasize', 'weakness', 'performance', 'rival', 'slate', 'buckley', 'bronx', 't', 'sharkey', 'visits', 'usual', 'touch', 'carmine', 'g', 'sapio', 'manhattan', 'publicly', 'believing', 'replaced', 'visited', 'discussion', 'key', 'acceptance', 'choices', 'struggle', 'talks', 'assent', 'dropping', 'gerosa', 'seems', 'assumed', 'pick', 'gerosas', 'successor', 'declined', 'interviews', 'reporters', 'confirm', 'deny', 'queens', 'replace', 'abe', 'stark', 'incumbent', 'irish', 'feis', 'hunter', 'campus', 'published', 'yesterdays', 'announce', 'definite', 'june', 'wave', 'corruption', 'tangible', 'feeling', 'revulsion', 'taxi', 'driver', 'visitor', 'remarks', 'politicians', 'scientist', 'writes', 'alienated', 'influence', 'corrupt', 'selfish', 'beyond', 'secret', 'conspiracy', 'object', 'plunder', 'widely', 'identified', 'locale', 'edwin', 'oconnors', 'novel', 'hurrah', 'reasons', 'spotlight', 'succession', 'publicized', 'scandals', 'aroused', 'graft', 'works', 'investigations', 'attracted', 'ethical', 'reader', 'newspapers', 'escape', 'petty', 'chicanery', 'worse', 'norm', 'episode', 'accused', 'beach', 'waterfront', 'sharply', 'contrasting', 'forecasts', 'southernrepublican', 'administrations', 'jockeying', 'aidtoeducation', 'uncertain', 'panels', 'depends', 'trimble', 'democrat', 'siding', 'rayburns', 'hopeful', 'encounter', 'sometime', 'provides', 'fortyyear', 'mortgages', 'low', 'downpayments', 'moderateincome', 'families', 'slums', 'colleges', 'dormitories', 'appears', 'temporarily', 'stalled', 'northern', 'usually', 'balking', 'delaney', 'thomas', 'oneill', 'quick', 'progress', 'amending', 'longterm', 'loans', 'parochial', 'privateschool', 'languages', 'mathematics', 'publicschool', 'clears', 'about', 'peace', 'assigned', 'agencies', 'carried', 'submitted', 'universities', 'twelve', 'contractnegotiation', 'stage', 'gordon', 'boyce', 'interview', 'middle', 'confusion', 'goals', 'happen', 'churchmen', 'example', 'month', 'ghana', 'missionary', 'discovered', 'protested', 'owner', 'why', 'worry', 'u', 's', 'pays', 'overseas', 'explains', 'dont', 'shrugged', 'same', 'remarked', 'classical', 'churchstate', 'can', 'separation', 'sargent', 'shriver', 'no', 'forswears', 'proselytizing', 'proposes', 'moscow', 'gay', 'sukarno', 'indonesia', 'premier', 'khrushchev', 'pulled', 'beaming', 'look', 'jesting', 'expansive', 'successful', 'banker', 'twenty', 'expanding', 'uncommitted', 'allocated', 'western', 'estimates', 'biggest', 'beginning', 'technicians', 'n', 'y', 'experts', 'countrys', 'professional', 'amid', 'intensified', 'role', 'puts', 'premium', 'strength', 'jobs', 'india', 'inhabitants', 'filling', 'secretariat', 'panel', 'completed', 'eighteen', 'due', 'administrative', 'budgetary', 'understood', 'ninetynine', 'officer', 'economist', 'start', 'cutoff', 'forming', 'unite', 'warridden', 'kingdom', 'decision', 'zurich', 'boun', 'oum', 'neutralists', 'souphanouvong', 'procommunist', 'latter', 'halfbrothers', 'joint', 'welcomed', 'delegations', 'nineteenth', 'plenary', 'fourteennation', 'agreement', 'princes', 'ease', 'task', 'diplomats', 'conceded', 'overly', 'optimistic', 'tactics', 'averell', 'harriman', 'malcolm', 'britain', 'maurice', 'couve', 'murville', 'frances', 'minister', 'canadas', 'external', 'round', 'consultations', 'pace', 'slowed', 'princess', 'moune', 'phoumas', 'twohour', 'cordial', 'laotians', 'sixpoint', 'agenda', 'reached', 'principles', 'guide', 'factors', 'search', 'pfaff', 'promotion', 'manager', 'timespicayune', 'publishing', 'company', 'saturday', 'tims', 'succeeds', 'burke', 'commercial', 'artist', 'advertising', 'native', 'orleans', 'elementary', 'fortier', 'soule', 'from', 'december', 'belleville', 'merchandising', 'wholesale', 'audrey', 'knecht', 'karol', 'reside', 'miles', 'bleachertype', 'seats', 'erected', 'pennsylvania', 'avenue', 'inaugural', 'parade', 'assuming', 'weather', 'halfway', 'decent', 'hundreds', 'thoroughfare', 'dwight', 'leave', 'oathtaking', 'ceremonies', 'ride', 'historic', 'ceremonial', 'impressive', 'street', 'columbia', 'standpoint', 'viewpoint', 'approach', 'buildings', 'shrines', 'monuments', 'of', 'course', 'famous', 'easy', 'begins', 'block', 'sevenstories', 'chapters', 'recorded', 'thousand', 'watch', 'suffragettes', 'square', 'marching', 'soldiers', 'between', 'returning', 'archives', 'valuable', 'records', 'located', 'edgar', 'hoover', 'presides', 'car', 'tracks', 'center', 'powered', 'spectators', 'occupying', 'vantage', 'bordering', 'lafayette', 'opposite', 'statues', 'andrew', 'hero', 'viewing', 'branches', 'academies', 'include', 'representations', 'respective', 'johnson', 'then', 'admission', 'headed', 'marines', 'navy', 'guard', 'reserve', 'puerto', 'rico', 'virgin', 'islands', 'guam', 'samoa', 'trust', 'territories', 'canal', 'zone', 'governmental', 'developments', 'mississippi', 'observing', 'scene', 'script', 'gazing', 'largely', 'unpredictability', 'operates', 'helm', 'ross', 'barnett', 'surrounded', 'keeps', 'foes', 'guessing', 'friends', 'consequently', 'scramble', 'predict', 'settle', 'iron', 'rough', 'edges', 'builtin', 'headache', 'steady', 'stream', 'jobseekers', 'commitments', 'eightyear', 'quest', 'decide', 'throw', 'nobody', 'lawmakers', 'enjoy', 'reenactment', 'strange', 'honeymoon', 'doesnt', 'decade', 'odds', 'restless', 'companionship', 'diem', 'agitating', 'withstand', 'sensitive', 'cutting', 'seat', 'with', 'eyes', 'focused', 'delta', 'congressman', 'smith', 'redistricting', 'longstanding', 'mississippis', 'crossroads', 'split', 'badly', 'equally', 'divided', 'camps', 'loyalists', 'independents', 'currently', 'wreck', 'clouded', 'titular', 'reestablish', 'loyalist', 'ranks', 'bypass', 'functionary', 'patronage', 'normally', 'flow', 'solidarity', 'picture', 'sens', 'eastland', 'stennis', 'remained', 'loyal', 'probable', 'stripped', 'flows', 'baton', 'rouge', 'jimmie', 'theme', 'harmony', 'severe', 'stresses', 'segregation', 'troublesome', 'vexing', 'finances', 'transition', 'hike', 'revenues', 'dedicated', 'tardiness', 'dedication', 'suspect', 'related', 'directly', 'shortage', 'cash', 'weary', 'indeed', 'curious', 'contributing', 'defeat', 'grantinaid', 'effectiveness', 'clearing', 'inconsistencies', 'play', 'determining', 'muster', 'reconvenes', 'normalcy', 'hands', 'integration', 'terminate', 'toss', 'towel', 'anyway', 'frustrated', 'sofar', 'losing', 'token', 'sort', 'politicos', 'acknowledge', 'convey', 'notion', 'though', 'ineffectual', 'continued', 'extra', 'unlikely', 'conclusion', 'purposes', 'perfect', 'consonance', 'acute', 'interesting', 'dilemma', 'forbids', 'introduction', 'expenses', 'inflate', 'constant', 'stab', 'raiser', 'prospect', 'spending', 'unpleasant', 'avoid', 'alternatives', 'blocked', 'trim', 'arouse', 'squeezed', 'trims', 'exert', 'receptive', 'confronting', 'tried', 'economize', 'any', 'revive', 'allegations', 'followers', 'affiliations', 'imprudently', 'housecleaning', 'depending', 'combat', 'alexander', 'hemphill', 'bids', 'frankford', 'elevated', 'rigged', 'contracting', 'citys', 'loss', 'ranged', 'shortcuts', 'unnoticed', 'steel', 'erection', 'contracted', 'impossibly', 'legitimate', 'competing', 'contractors', 'controllers', 'rigging', 'disclosures', 'sued', 'covering', 'contract', 'philadelphia', 'investigating', 'played', 'reviewing', 'signature', 'harold', 'varani', 'architecture', 'engineering', 'appeared', 'vouchers', 'certifying', 'fired', 'charges', 'accepting', 'contractor', 'managing', 'donald', 'cooperate', 'sharp', 'disagreement', 'sue', 'recovery', 'berger', 'morning', 'ptc', 'bankrupt', 'consolidated', 'industries', 'inc', 'reorganization', 'bankruptcy', 'directors', 'draw', 'crumlish', 'intervenes', 'pleas', 'bonding', 'travelers', 'indemnity', 'continental', 'casualty', 'bergers', 'intervened', 'preliminary', 'filing', 'claim', 'violated', 'violations', 'involve', 'expansion', 'joints', 'overhauling', 'repaired', 'wide', 'repairs', 'belanger', 'sons', 'cambridge', 'wont', 'headline', 'hooked', 'douglas', 'pratt', 'transit', 'samuel', 'goodis', 'objected', 'occupancy', 'rates', 'hotels', 'percent', 'objection', 'rooms', 'testifies', 'testimony', 'raise', 'rooming', 'houses', 'multifamily', 'dwellings', 'renewal', 'single', 'account', 'accomodations', 'apartment', 'leonard', 'kaplan', 'builders', 'behalf', 'dog', 'drew', 'councilwoman', 'virginia', 'knauer', 'formerly', 'pedigreed', 'dogs', 'males', 'females', 'flat', 'replies', 'owners', 'penalized', 'animal', 'leary', 'spends', 'annually', 'regulate', 'collects', 'spca', 'catchers', 'bites', 'backs', 'mcconnell', 'indorsed', 'adequately', 'compensated', 'schedule', 'inspections', 'barnet', 'lieberman', 'eugene', 'gillis', 'norristown', 'julian', 'barnard', 'montgomery', 'horace', 'davenport', 'widow', 'killed', 'barnards', 'hitrun', 'dannehower', 'pleaded', 'manslaughter', 'fined', 'warren', 'k', 'hess', 'probation', 'drive', 'driving', 'sentence', 'pronounced', 'victim', 'accident', 'lee', 'stansbery', 'reprimanded', 'violating', 'agreements', 'redevelopers', 'redevelopment', 'eastwick', 'hazards', 'pedestrians', 'corp', 'acre', 'tract', 'bounded', 'dicks', 'parks', 'designated', 'authoritys', 'feature', 'row', 'garden', 'apartments', 'churches', 'clusters', 'corporation', 'formed', 'reynolds', 'metal', 'builder', 'second', 'developing', 'constantinos', 'doxiadis', 'greece', 'planner', 'sectors', 'barred', 'vehicular', 'landscaped', 'walkways', 'esplanade', 'entire', 'twoandahalfmile', 'length', 'eliminates', 'grovers', 'ran', 'pedestrian', 'bridges', 'kansas', 'mo', 'upi', 'fighters', 'severly', 'injured', 'bomb', 'tore', 'battalion', 'stanton', 'gladden', 'figure', 'representation', 'teamsters', 'suffered', 'multiple', 'fractures', 'ankles', 'baptist', 'memorial', 'ignition', 'sets', 'blast', 'driveway', 'id', 'flash', 'lying', 'gladdens', 'younger', 'boy', 'knocked', 'bed', 'wall', 'hood', 'flies', 'flying', 'roof', 'front', 'wheel', 'landed', 'away', 'laboratory', 'explosive', 'device', 'containing', 'tnt', 'nitroglycerine', 'starter', 'target', 'threatening', 'torn', 'dissension', 'outspoken', 'critic', 'unions', 'began', 'organizing', 'firemen', 'reward', 'bombing', 'associations', 'kas', 'guards', 'mining', 'shiflett', 'secretarytreasurer', 'active', 'ankara', 'turkey', 'oct', 'ap', 'turkish', 'bowed', 'emergency', 'cemal', 'gursel', 'contested', 'indecisive', 'bargaining', 'threat', 'coup', 'detat', 'bypassing', 'junta', 'overthrow', 'adnan', 'menderes', 'cedvet', 'sunay', 'deadline', 'join', 'threatened', 'protocol', 'agreeing', 'demanded', 'pledges', 'pardoned', 'satisfied', 'stated', 'solution', 'created', 'vincent', 'ierulli', 'temporary', 'desmond', 'connall', 'practicing', 'portland', 'graduate', 'northwestern', 'father', 'helping', 'structure', 'aiding', 'economically', 'multnomah', 'paths', 'identical', 'congenial', 'adding', 'develop', 'society', 'ritiuality', 'loyalty', 'patience', 'insuring', 'detriment', 'germany', 'rebel', 'century', 'by', 'doors', 'gives', 'peoples', 'compare', 'reason', 'fear', 'extraordinarily', 'absorb', 'exported', 'goods', 'products', 'total', 'towards', 'portlands', 'advice', 'coordination', 'plea', 'ralph', 'molvar', 'sw', 'maplecrest', 'thought', 'cooperating', 'mears', 'strictly', 'melvin', 'barnes', 'waiting', 'sure', 'whatever', 'fruitful', 'los', 'angeles', 'send', 'disaster', 'evacuate', 'everybody', 'voice', 'reiterating', 'please', 'faith', 'somebody', 'everyone', 'rush', 'evacuation', 'lots', 'realistic', 'jack', 'lowes', 'instructed', 'salem', 'statewide', 'mothers', 'greeting', 'mark', 'hatfield', 'reception', 'noon', 'emerald', 'empire', 'kiwanis', 'speak', 'willamette', 'swearing', 'bryson', 'circuit', 'washingtonoregon', 'game', 'beaverton', 'examined', 'blueprints', 'specifications', 'workshop', 'masonic', 'temple', 'dinner', 'honoring', 'organized', 'pm', 'roosevelt', 'blaine', 'whipple', 'oregon', 'speakers', 'fundraising', 'edith', 'al', 'ullman', 'norman', 'nilsen', 'terry', 'schrunk', 'oak', 'grove', 'lodge', 'dec', 'salter', 'seeks', 'huffman', 'fiveyear', 'brod', 'barbara', 'njust', 'bubenik', 'vacated', 'hugh', 'stout', 'twoyear', 'culbertson', 'steeves', 'piersee', 'wm', 'sexton', 'theodore', 'heitschmidt', 'stronger', 'beliefs', 'grasp', 'delegates', 'assemblies', 'god', 'coliseum', 'strengthen', 'denominations', 'modern', 'trends', 'bible', 'belief', 'dependence', 'rev', 'zimmerman', 'bulwark', 'fundamentalism', 'compromise', 'truths', 'editing', 'clarification', 'denomination', 'reads', 'scriptures', 'testament', 'verbally', 'inspired', 'revelation', 'infallible', 'authoritative', 'conduct', 'emphasizes', 'diety', 'lord', 'jesus', 'christ', 'sinless', 'miracles', 'substitutionary', 'bodily', 'resurrection', 'exaltation', 'super', 'consecutive', 'springfield', 'nominating', 'forthcoming', 'breakthrough', 'opening', 'brandt', 'missions', 'stressed', 'surveys', 'contact', 'loses', 'talking', 'upwards', 'babies', 'born', 'immigrant', 'light', 'illinois', 'england', 'vision', 'accomplish', 'necessitate', 'meets', 'churchs', 'ability', 'capsule', 'includes', 'engaging', 'mature', 'pioneer', 'strategic', 'centers', 'surrounding', 'pastors', 'volunteers', 'laymen', 'lending', 'arranging', 'ministerial', 'graduates', 'apprentices', 'wellestablished', 'dist', 'powell', 'motions', 'fraud', 'denials', 'dismissal', 'mistrial', 'acquittal', 'striking', 'verdict', 'denying', 'trials', 'upheld', 'conspirators', 'schwab', 'defendant', 'philip', 'weinstein', 'linking', 'proof', 'weinsteins', 'mails', 'defraud', 'burbank', 'conpired', 'deferred', 'miami', 'fla', 'orioles', 'distinction', 'winless', 'majorleague', 'dropped', 'straight', 'exhibition', 'athletics', 'indications', 'late', 'birds', 'draught', 'coasted', 'siebern', 'hits', 'homer', 'over', 'frames', 'fisher', 'righthander', 'oriole', 'pennant', 'scoreless', 'yielding', 'dick', 'hyde', 'submarineball', 'hurler', 'entered', 'contest', 'batters', 'existed', 'deadlock', 'tworun', 'solo', 'tuttle', 'runs', 'eighth', 'ninth', 'fifth', 'throws', 'wild', 'marv', 'throneberry', 'stole', 'fanned', 'catcher', 'nab', 'dirt', 'heywood', 'sullivan', 'singled', 'proved', 'winning', 'rookie', 'southpaw', 'stepanovich', 'relieved', 'tally', 'baseman', 'howser', 'pitch', 'ciprianis', 'shortstop', 'jerry', 'adairs', 'glove', 'performed', 'plate', 'powderpuff', 'fashion', 'blows', 'offerings', 'pitchers', 'doubles', 'brooks', 'robinson', 'pair', 'breeding', 'hartman', 'kunkel', 'bob', 'ed', 'keegan', 'mound', 'chores', 'palm', 'stadium', 'fourth', 'purchased', 'milwaukee', 'braves', 'threeinning', 'appearance', 'merited', 'triumph', 'safeties', 'escaping', 'double', 'fence', 'deep', 'whitey', 'herzog', 'fielded', 'possibly', 'strongest', 'balls', 'pinchhitters', 'pete', 'failing', 'bunt', 'popped', 'grass', 'short', 'batting', 'adair', 'fouling', 'pitches', 'buddy', 'barker', 'bounced', 'lumpe', 'inning', 'moved', 'russ', 'snyders', 'crossed', 'kunkels', 'flock', 'tallies', 'jackie', 'hole', 'errs', 'gentile', 'beat', 'grabbed', 'ball', 'threw', 'throneberrys', 'error', 'slammed', 'runners', 'stretch', 'blow', 'triple', 'andy', 'rundown', 'scoring', 'batter', 'romped', 'blasted', 'hydes', 'scoreboard', 'singles', 'slowbouncing', 'hit', 'rapped', 'fast', 'tuttles', 'break', 'streak', 'champion', 'yankees', 'flavor', 'baltimores', 'florida', 'grapefruit', 'news', 'ripened', 'ron', 'hansen', 'armys', 'belated', 'slugged', 'homers', 'drove', 'freshman', 'squad', 'players', 'rookieoftheyear', 'flew', 'baltimore', 'signed', 'spectator', 'tonights', 'pounds', 'lighter', 'checked', 'reporting', 'weight', 'melt', 'breaks', 'camp', 'hence', 'inducted', 'knox', 'ky', 'hansens', 'physically', 'carrying', 'improved', 'fielding', 'rangy', 'albany', 'cal', 'surprise', 'slugging', 'sensation', 'defensive', 'whiz', 'hitters', 'engage', 'workout', 'prior', 'twogame', 'skinny', 'brown', 'hoyt', 'wilhelm', 'flocks', 'knuckleball', 'specialists', 'slated', 'champions', 'tomorrows', 'duren', 'sheldon', 'ryne', 'roland', 'posted', 'yanks', 'auburn', 'ny', 'farm', 'classd', 'yorkpennsylvania', 'twentyoneyearold', 'milt', 'pappas', 'walker', 'bombers', 'art', 'ditmar', 'sundays', 'houk', 'casey', 'stengel', 'yankee', 'petersburg', 'dimaggio', 'crowds', 'games', 'famed', 'clipper', 'assisting', 'coach', 'pitcher', 'steve', 'completing', 'hitch', 'accelerated', 'wintertime', 'enlisted', 'bulky', 'springtraining', 'contingent', 'richards', 'coaches', 'streamlined', 'workable', 'bird', 'sacker', 'bat', 'thirdinning', 'leftcenterfield', 'celebrate', 'just', 'robinsons', 'pretty', 'connie', 'unfortunately', 'brookss', 'teammates', 'festive', 'expired', 'sevenhit', 'pitching', 'hurlers', 'arrived', 'nightfall', 'macphail', 'iglehart', 'dunn', 'flight', 'delayed', 'boarding', 'ramp', 'inflicted', 'damage', 'wing', 'plane', 'exoriole', 'clint', 'courtney', 'catching', 'leagues', 'shouldda', 'tokyo', 'scrapiron', 'wed', 'someplace', 'bowie', 'md', 'jrs', 'fresh', 'filly', 'downed', 'promising', 'colts', 'patricks', 'purse', 'seventh', 'toying', 'stages', 'jockey', 'grimm', 'furlongs', 'races', 'forbess', 'paget', 'substantial', 'lead', 'tired', 'nearing', 'wire', 'save', 'glen', 'hallowells', 'milties', 'bright', 'sun', 'brisk', 'condition', 'patty', 'celebrants', 'wellprepared', 'stewards', 'apprentice', 'verrone', 'suspended', 'ten', 'crowding', 'horses', 'crossing', 'culmone', 'gets', 'mating', 'self', 'rosy', 'fingered', 'allowance', 'claiming', 'cleveland', 'kerr', 'swiftstriding', 'jamaican', 'knights', 'columbus', 'purdues', 'dave', 'mills', 'duel', 'clocking', 'wiped', 'millss', 'quartermile', 'king', 'yards', 'mal', 'whitfield', 'thirds', 'straightaway', 'turn', 'timed', 'twentyfirst', 'indoor', 'season', 'thrill', 'slender', 'bespectacled', 'woman', 'broke', 'oneweekold', 'halfmile', 'grace', 'butcher', 'nearby', 'chardon', 'housewife', 'finished', 'snapped', 'tenths', 'helen', 'shipley', 'wellsley', 'aau', 'ohio', 'francisco', 'bobby', 'sylvania', 'ga', 'relief', 'quarterback', 'undergo', 'knee', 'franklin', 'swelling', 'consult', 'physician', 'tony', 'kubek', 'eleventh', 'donated', 'unearned', 'chicago', 'sox', 'halfback', 'teams', 'plays', 'eldon', 'moritz', 'southwest', 'clock', 'kick', 'nose', 'hip', 'pads', 'longhorn', 'favored', 'cotton', 'bowl', 'thats', 'kicked', 'tries', 'string', 'conversions', 'astray', 'slaughter', 'roster', 'lettered', 'darrell', 'placekicker', 'stamford', 'placekicking', 'so', 'bothered', 'muscle', 'thigh', 'kicking', 'leg', 'barely', 'playing', 'anson', 'playoff', 'hampered', 'injury', 'missed', 'ailing', 'statistical', 'net', 'punted', 'scholastically', 'ineligible', 'timing', 'once', 'theres', 'ive', 'seem', 'practice', 'helps', 'golf', 'swing', 'kicks', 'kinda', 'footnotes', 'longhorns', 'scored', 'yardage', 'completions', 'attempts', 'tailback', 'saxton', 'surpassed', 'rushing', 'brilliant', 'sophomore', 'netted', 'secondhalf', 'kickoff', 'gained', 'uncorked', 'touchdown', 'wingback', 'insists', 'hell', 'conferences', 'prevailed', 'smu', 'coaching', 'rice', 'mustangs', 'happy', 'meek', 'academy', 'kids', 'stayed', 'weve', 'richey', 'cudmore', 'particular', 'gratification', 'performances', 'nelson', 'billy', 'gannon', 'magnificent', 'interference', 'stops', 'fumble', 'fullback', 'nick', 'arshinkoff', 'loose', 'contributed', 'falcons', 'aerial', 'thrusts', 'fourthdown', 'screen', 'mustang', 'incomplete', 'gannons', 'spotted', 'isaacson', 'crucified', 'nailed', 'yard', 'mcnaughton', 'intercepted', 'lay', 'waited', 'mike', 'kelsey', 'doubtful', 'blind', 'definitely', 'ligament', 'injuring', 'opener', 'maryland', 'lot', 'film', 'reserves', 'scrimmaged', 'scrimmage', 'taper', 'owls', 'huddle', 'hearsay', 'techs', 'sweatsuits', 'drill', 'lubbock', 'tackle', 'stafford', 'undergoing', 'treatment', 'raiders', 'because', 'baylor', 'rain', 'mud', 'gene', 'raesz', 'lsu', 'nichols', 'idleness', 'ankle', 'aggies', 'myers', 'hargett', 'shaken', 'tech', 'trinity', 'bud', 'priddy', 'slowlymending', 'sprained', 'tcus', 'denver', 'broncos', 'buffalo', 'hank', 'strams', 'preseason', 'reckonings', 'buster', 'ramsey', 'collectors', 'quarterbacks', 'productive', 'exnational', 'leaguers', 'rabb', 'louisiana', 'upset', 'oilers', 'defending', 'luck', 'exclaimed', 'stram', 'mutter', 'splendid', 'whip', 'dangerous', 'broncs', 'fullbacking', 'star', 'spikes', 'interior', 'linebackers', 'exceptionally', 'movies', 'davidson', 'throwing', 'passes', 'bang', 'touchdowns', 'strikes', 'tactic', 'controlling', 'giving', 'abner', 'haynes', 'flashy', 'ballcarriers', 'delivered', 'comforting', 'denvers', 'carmichael', 'jarred', 'grayson', 'speedy', 'claimed', 'resulted', 'quipping', 'book', 'dent', 'statistics', 'spree', 'swc', 'tosses', 'tough', 'tcu', 'bulge', 'loop', 'leads', 'pergame', 'averages', 'baylors', 'idle', 'not', 'unofficial', 'checks', 'liveliness', 'baseballs', 'ordered', 'tests', 'nischwitz', 'pinpoint', 'bears', 'indianapolis', 'husky', 'lefthander', 'command', 'onthescene', 'countless', 'viewers', 'grizzlies', 'louisville', 'pack', 'walked', 'charley', 'hinton', 'innings', 'unusual', 'characteristic', 'lagged', 'mcauliffe', 'cracked', 'lefty', 'don', 'rudolph', 'paschal', 'gruonded', 'jay', 'cooke', 'mcdaniel', 'alusik', 'porter', 'bases', 'werts', 'smash', 'putout', 'leftfield', 'rightfield', 'phil', 'shartzers', 'indians', 'bunched', 'chuck', 'tripled', 'cliff', 'dan', 'pavletich', 'gaines', 'infield', 'roller', 'accounted', 'alusiks', 'outfield', 'wert', 'hammered', 'clicked', 'chico', 'ruiz', 'spectacular', 'grounder', 'showed', 'arm', 'bingles', 'bobbles', 'tribes', 'seasons', 'obvious', 'refocusing', 'lights', 'flooded', 'dark', 'dobbs', 'organ', 'exotic', 'dancer', 'patti', 'waggin', 'wyman', 'tsitouris', 'oclock', 'donnelly', 'kenny', 'lane', 'muskegon', 'mich', 'worlds', 'ranked', 'lightweight', 'rip', 'randall', 'paulminneapolis', 'gardners', 'eluded', 'diving', 'minnie', 'minoso', 'lemon', 'minnesota', 'twins', 'liner', 'fans', 'batted', 'turk', 'lown', 'tagged', 'ray', 'moore', 'reno', 'bertoia', 'chopper', 'lenny', 'greens', 'pop', 'fly', 'roy', 'sievers', 'camilo', 'carreon', 'sacrifice', 'landis', 'harmon', 'killebrew', 'bottom', 'walking', 'allison', 'aboard', 'smiths', 'carreons', 'allisons', 'runscoring', 'solid', 'ogden', 'utah', 'outfielder', 'jensen', 'baseball', 'newsman', 'reflexes', 'sudden', 'walkout', 'atbats', 'train', 'anybody', 'newsmen', 'trip', 'nev', 'olympic', 'zoe', 'ann', 'olsen', 'awaited', 'heading', 'speculating', 'hurting', 'bostons', 'chances', 'pacific', 'streamliner', 'sports', 'writer', 'ensign', 'ritchie', 'standard', 'examiner', 'compartment', 'conductor', 'mad', 'magazine', 'cold', 'warmed', 'liston', 'doublecrosser', 'anything', 'keyhole', 'traveler', 'quoted', 'anymore', 'suddenly', 'grip', 'masses', 'pops', 'heroics', 'tongues', 'wagging', 'spahn', 'nohit', 'masterpiece', 'giants', 'willie', 'mays', 'retaliating', 'recordtying', 'remarkable', 'feats', 'embossed', 'rightfully', 'pastime', 'cherished', 'achievements', 'elderly', 'spahns', 'hitless', 'hearts', 'stimulant', 'guys', 'milestone', 'rookies', 'sighed', 'topgrade', 'leaguer', 'waved', 'laurels', 'surely', 'belonging', 'alltime', 'lefthanders', 'carl', 'hubbell', 'herb', 'pennock', 'nehf', 'vernon', 'gomez', 'et', 'gentlemanly', 'player', 'beardown', 'meaningless', 'spahnie', 'enos', 'guy', 'clubhouse', 'reaches', 'sluggers', 'walloped', 'span', 'incidentally', 'lowe', 'gil', 'hodges', 'trick', 'brooklyns', 'ebbetts', 'delahanty', 'klein', 'phillies', 'adcock', 'lou', 'gehrig', 'pat', 'seerey', 'rocky', 'colavito', 'willies', 'revived', 'argument', 'merits', 'mickey', 'mantle', 'boils', 'fan', 'anti', 'proyankee', 'ace', 'lifetime', 'mickeys', 'anemic', 'windy', 'candlestick', 'milwaukees', 'forever', 'mystery', 'hitting', 'distressing', 'slump', 'denverarea', 'tv', 'privileged', 'arrangement', 'howsam', 'blacked', 'blackout', 'televised', 'rulers', 'helpless', 'cbs', 'network', 'abide', 'nbc', 'afternoons', 'arise', 'irritable', 'harm', 'purposely', 'dissatisfaction', 'howsams', 'video', 'terminated', 'cincinnati', 'powerful', 'romp', 'outclassed', 'crushing', 'reds', 'humiliating', 'barrage', 'loosely', 'finale', 'yogi', 'berra', 'injuries', 'champs', 'mounted', 'johnny', 'blanchard', 'mantles', 'replacement', 'routed', 'loser', 'joey', 'hector', 'lopez', 'subbing', 'smashed', 'applaud', 'bleachers', 'momentarily', 'trailing', 'fizzled', 'edwards', 'fouled', 'wally', 'slashed', 'daley', 'bucky', 'boymanager', 'eddie', 'dyer', 'cardinals', 'accomplished', 'feat', 'skorich', 'eagles', 'threeyear', 'buck', 'shaw', 'retain', 'shaws', 'charlie', 'gauer', 'ends', 'selection', 'logical', 'van', 'brocklin', 'permission', 'vikings', 'newest', 'entry', 'refused', 'reconsider', 'depended', 'brocklins', 'aerials', 'advocate', 'balanced', 'lineman', 'jock', 'sutherland', 'pittsburgh', 'steelers', 'quit', 'catholic', 'rensselaer', 'polytechnic', 'troy', 'rejoining', 'packers', 'auspiciously', 'ceremony', 'richardson', 'dilworth', 'championship', 'engrossed', 'silver', 'cufflinks', 'shaped', 'award', 'shea', 'awards', 'nights', 'thirtyeighth', 'chapter', 'writers', 'waldorfastoria', 'wagners', 'dais', 'graham', 'journalamerican', 'columnist', 'mazeroski', 'pirates', 'ben', 'epstein', 'babe', 'ruth', 'outstanding', 'meritorious', 'slocum', 'sid', 'mercer', 'follows', 'lampoon', 'personalities', 'skit', 'dance', 'song', 'prominent', 'background', 'imminent', 'farley', 'bernard', 'gimbel', 'blume', 'relentlessly', 'departure', 'dodgers', 'california', 'barriers', 'disappointments', 'convince', 'branch', 'rickeys', 'formation', 'franchise', 'majors', 'flushing', 'shipman', 'payson', 'bigleague', 'meadow', 'lease', 'ford', 'frick', 'sheas', 'prominently', 'nori', 'sands', 'kathy', 'patricia', 'switching', 'georgetown', 'owned', 'ted', 'roger', 'maris', 'winner', 'mostvaluableplayer', 'hamey', 'arnold', 'palmer', 'snead', 'metropolitan', 'golfs', 'moneywinner', 'saluted', 'cup', 'matches', 'dublin', 'deane', 'beman', 'amateur', 'gardner', 'titleholder', 'gold', 'tee', 'sponsorship', 'charity', 'tournaments', 'horton', 'golfers', 'hogan', 'trophy', 'comeback', 'stuart', 'symington', 'missouri', 'golden', 'blazing', 'prize', 'heralded', 'sportsman', 'illustrated', 'rochester', 'athlete', 'diamondstudded', 'hickok', 'belt', 'achieved', 'endeared', 'duffer', 'flubbed', 'monstrous', 'human', 'brooding', 'incompetents', 'meditating', 'abandonment', 'sport', 'frustrations', 'despair', 'paragon', 'perfection', 'commit', 'sacrilege', 'selfsacrifice', 'yen', 'downtrodden', 'motivated', 'victimized', 'respects', 'aggravates', 'golfer', 'shooting', 'par', 'delivering', 'crusher', 'boomed', 'pixies', 'zombies', 'banshees', 'wailed', 'margin', 'narrow', 'fairway', 'majestic', 'arc', 'outofbounds', 'slice', 'sliced', 'bounds', 'overcorrected', 'ruefully', 'wayward', 'shots', 'strokes', 'wound', 'dozen', 'nice', 'perturbed', 'duffers', 'easily', 'heartening', 'fell', 'evil', 'heyday', 'idol', 'hackers', 'ainsley', 'secondary', 'chisholm', 'drank', 'lunch', 'rockstrewn', 'gully', 'stickler', 'excavation', 'thirteen', 'nae', 'ye', 'countin', 'echoes', 'palmers', 'honestly', 'nor', 'loophole', 'knows', 'code', 'thoroughly', 'handy', 'brook', 'flowed', 'floated', 'downstream', 'picked', 'potato', 'playable', 'lie', 'dey', 'naturally', 'alongside', 'spot', 'confessed', 'grin', 'happened', 'nicer', 'intensity', 'inherent', 'humor', 'relieves', 'strain', 'nerves', 'jangling', 'banjo', 'strings', 'fiercest', 'competitors', 'bull', 'headon', 'twelfth', 'arnolds', 'burrowed', 'bunker', 'guarding', 'embankment', 'soft', 'spongy', 'rains', 'thereby', 'bringing', 'lies', 'provisional', 'embedded', 'golfing', 'fathers', 'stroke', 'tournament', 'godlike', 'creature', 'supply', 'minneapolis', 'fourteen', 'warwick', 'footballs', 'hall', 'fame', 'amendments', 'fourteenteam', 'homeandhome', 'lengthening', 'rozelle', 'therefore', 'earlyseason', 'dates', 'heed', 'mauch', 'misled', 'slower', 'outclass', 'vinegar', 'bend', 'mizell', 'shantz', 'breaking', 'redbirds', 'solly', 'hemus', 'switch', 'gibson', 'ernie', 'broglio', 'broglios', 'wonlost', 'earnedrun', 'disheartening', 'collapse', 'eager', 'assignment', 'thursdays', 'larry', 'cubs', 'harvey', 'haddix', 'flu', 'cardinal', 'boyer', 'busch', 'suffering', 'stiff', 'neck', 'pirate', 'danny', 'murtaugh', 'hadnt', 'vern', 'wednesdays', 'nieman', 'lineup', 'lengthy', 'stan', 'musial', 'anniversary', 'fivehome', 'sore', 'taussig', 'lindy', 'groove', 'bucks', 'bucs', 'bats', 'quieted', 'recession', 'imposing', 'smoky', 'burgess', 'gino', 'cimoli', 'virdon', 'clemente', 'groat', 'hoak', 'skinner', 'hal', 'dragging', 'unhappiest', 'sit', 'friend', 'beaten', 'isnt', 'blasting', 'plunkers', 'jumped', 'ending', 'twoseason', 'falloff', 'soso', 'finishing', 'cards', 'triumphs', 'tumbled', 'recovering', 'runaway', 'dodger', 'ninegame', 'overcame', 'worst', 'comparable', 'yorks', 'battling', 'billikens', 'tipoff', 'dealt', 'lavish', 'words', 'benington', 'mankowski', 'hartweger', 'kieffer', 'bevo', 'nordmann', 'conversation', 'respect', 'pepping', 'supposed', 'halftime', 'em', 'trio', 'shared', 'mostvaluable', 'honors', 'broeg', 'editor', 'postdispatch', 'commended', 'clutch', 'allround', 'excellent', 'ballhawking', 'bradley', 'recalled', 'doubted', 'faults', 'admired', 'gordons', 'husband', 'thank', 'coachs', 'letting', 'burnes', 'globedemocrat', 'congratulated', 'shape', 'healed', 'louiss', 'inscription', 'contribution', 'billiken', 'lettermen', 'compiled', 'runnerup', 'invitation', 'hambric', 'donnell', 'reid', 'luechtefeld', 'latinovich', 'notre', 'dame', 'overcome', 'anywhere', 'scherer', 'pitched', 'crystal', 'defeats', 'tie', 'trips', 'len', 'boehmer', 'ligget', 'busy', 'doubleheader', 'quincy', 'contented', 'cows', 'milk', 'shouldnt', 'talents', 'harder', 'successfully', 'careers', 'expectations', 'meant', 'knock', 'agree', 'theyve', 'heights', 'bullnecked', 'blond', 'switchhitter', 'sensational', 'triplecrown', 'rbis', 'slugger', 'terror', 'ultimate', 'belted', 'happier', 'behaving', 'theyre', 'peaks', 'professionals', 'spelled', 'correctly', 'fifteenth', 'differently', 'rare', 'possessing', 'enabled', 'reserving', 'resented', 'stengels', 'push', 'prod', 'thrilling', 'possessive', 'inherited', 'rizzuto', 'class', 'joplin', 'body', 'beautiful', 'ol', 'homerun', 'hitter', 'bunter', 'baserunner', 'preached', 'kid', 'bubble', 'gum', 'sow', 'oats', 'inheriting', 'sights', 'broadway', 'quietly', 'bestowed', 'pun', 'intended', 'continues', 'spread', 'thin', 'inviting', 'wrigley', 'glamorous', 'ruths', 'alvin', 'commies', 'wonderful', 'walloping', 'leo', 'durocher', 'taught', 'grassgreen', 'rushed', 'polo', 'romantic', 'concerns', 'joan', 'monroe', 'armour', 'wendell', 'lake', 'brother', 'hampton', 'brides', 'marriage', 'bridegrooms', 'barrett', 'wendells', 'winter', 'holiday', 'sarasota', 'occasion', 'arrive', 'kirkland', 'christmas', 'holidays', 'peter', 'westminster', 'measles', 'sister', 'missoula', 'mont', 'baby', 'mother', 'camilla', 'alsop', 'bride', 'wedding', 'bulletins', 'sims', 'cancer', 'foundation', 'opera', 'turandot', 'birgit', 'nilsson', 'starred', 'housed', 'mccormick', 'exciting', 'evening', 'adds', 'boards', 'belafonte', 'offbeat', 'sulcer', 'winnetka', 'publicity', 'her', 'recently', 'parichyhamm', 'frederick', 'hamm', 'bruce', 'parichy', 'bernadines', 'vero', 'beadles', 'stevens', 'kenilworth', 'niece', 'uncles', 'aunts', 'butlers', 'robertsons', 'q', 'porters', 'bridal', 'stevenses', 'here', 'fete', 'lawn', 'tennis', 'buffet', 'supper', 'bus', 'kramers', 'loud', 'huzzahs', 'artistic', 'success', 'presbyterianst', 'lukes', 'ringing', 'ears', 'tieken', 'geraghty', 'earn', 'acclaim', 'entertainment', 'summers', 'embassies', 'bushes', 'oriental', 'talent', 'cultural', 'activities', 'instance', 'djakarta', 'dancers', 'whirling', 'dervishes', 'damascus', 'obstacle', 'geraghtys', 'globegirdling', 'smoothed', 'syria', 'separated', 'egypt', 'arab', 'visa', 'honolulu', 'japan', 'hong', 'kong', 'manila', 'pakistan', 'beirut', 'rome', 'london', 'youngest', 'molly', 'bows', 'passavant', 'debutante', 'cotillion', 'gown', 'fitted', 'invitations', 'addressed', 'mollys', 'arts', 'folk', 'festival', 'singers', 'chicagos', 'sing', 'songs', 'balkan', 'byron', 'harveys', 'racquet', 'abra', 'prentices', 'casino', 'burkerostagno', 'burkes', 'lambert', 'italian', 'studying', 'florence', 'aldo', 'rostagno', 'guglielmo', 'rostagnos', 'europe', 'kankakee', 'telling', 'engagement', 'halls', 'girl', 'fiance', 'translates', 'farewell', 'sethness', 'consul', 'giacomo', 'profili', 'canceled', 'surgery', 'odell', 'clinton', 'holabird', 'boothby', 'actress', 'maureen', 'osullivan', 'costumes', 'affaire', 'towne', 'bal', 'masque', 'germania', 'crabapple', 'trees', 'streets', 'lyon', 'winchell', 'ratatattatty', 'wheeled', 'trains', 'en', 'phoenix', 'ariz', 'rancho', 'portable', 'typewriter', 'ws', 'hinted', 'aint', 'sunny', 'ainsworth', 'exmrs', 'tommy', 'manville', 'arvey', 'playboyshowbiz', 'promotional', 'shes', 'fallout', 'shelters', 'beer', 'stein', 'pubs', 'ethics', 'morals', 'comic', 'gary', 'lucille', 'scoop', 'jane', 'russell', 'singing', 'appearances', 'russells', 'skylark', 'debuting', 'drury', 'sellout', 'cry', 'warbling', 'pain', 'medicos', 'injection', 'inflamed', 'nerve', 'simonelli', 'universalinternational', 'studio', 'exec', 'makes', 'column', 'bulletind', 'rosemary', 'strafaci', 'mag', 'handsome', 'favorite', 'hollywoods', 'glamor', 'gals', 'simon', 'leukemia', 'stricken', 'lowdown', 'phonies', 'phones', 'solicit', 'dannys', 'jude', 'memphis', 'staging', 'entertain', 'underprivileged', 'mail', 'contribs', 'box', 'solicits', 'dough', 'olivia', 'havilland', 'garson', 'kanin', 'shell', 'gotham', 'gorgeous', 'doris', 'producerhubby', 'marty', 'melcher', 'tour', 'ui', 'rackmil', 'carnegie', 'toast', 'movie', 'exhibitors', 'itll', 'screenings', 'lover', 'flower', 'drum', 'whee', 'lovely', 'thrush', 'annamorena', 'biz', 'touches', 'hubby', 'lenobels', 'fur', 'typical', 'mink', 'freddie', 'wacker', 'frau', 'jana', 'mason', 'exsinger', 'wackers', 'goodness', 'sake', 'emcee', 'herbert', 'nixons', 'slogan', 'knight', 'generously', 'buy', 'candy', 'brain', 'worthiest', 'charities', 'darlin', 'dazzler', 'paree', 'genevieve', 'trager', 'showman', 'boss', 'holders', 'stock', 'jump', 'packs', 'nobodys', 'mentioned', 'mets', 'baseballight', 'wear', 'uniform', 'bernie', 'kriss', 'bayonet', 'clashes', 'berlins', 'brandenburg', 'gate', 'sentry', 'jotted', 'dept', 'khrush', 'confident', 'contaminating', 'earths', 'via', 'megaton', 'bombs', 'peasants', 'albert', 'luthuli', 'awarded', 'nobel', 'african', 'struggles', 'collect', 'hmpf', 'frothier', 'weissmuller', 'tarzan', 'telephoned', 'muttered', 'me', 'glib', 'garrulous', 'everywhere', 'sidled', 'guttural', 'frightening', 'yodel', 'roles', 'dolce', 'vita', 'dynamite', 'flicker', 'opens', 'masterful', 'veecks', 'dynamo', 'medics', 'rest', 'swim', 'doings', 'tribune', 'tells', 'misses', 'ticker', 'jean', 'fardullis', 'angel', 'import', 'crazy', 'twist', 'theyll', 'lessons', 'pronto', 'cheer', 'francis', 'lorenz', 'probate', 'suggestions', 'deposit', 'boxes', 'dies', 'closed', 'gods', 'gala', 'music', 'dancing', 'furnished', 'uhles', 'orchestra', 'guests', 'suites', 'patio', 'genial', 'nightly', 'hackstaff', 'luette', 'bowman', 'celebrates', 'birthday', 'chase', 'sheila', 'mercy', 'grandparents', 'mullenax', 'kittredge', 'mcintosh', 'buell', 'santa', 'calif', 'vroman', 'manzanola', 'plaza', 'merrill', 'shoup', 'colorado', 'palace', 'brig', 'mcdermott', 'black', 'piero', 'luise', 'emilio', 'bassi', 'bassis', 'stag', 'precede', 'cocktails', 'dining', 'betsy', 'parker', 'eastern', 'bldg', 'juniors', 'staged', 'neusteters', 'preceded', 'teter', 'mead', 'decorations', 'stanley', 'wright', 'pate', 'milton', 'bernet', 'rollie', 'bradford', 'butler', 'carr', 'campbell', 'carruthers', 'cris', 'dobbins', 'glass', 'alfred', 'hicks', 'magarrell', 'willett', 'myron', 'neusteter', 'sudier', 'welborn', 'dc', 'kira', 'rl', 'rickenbaugh', 'eo', 'scarsdale', 'cheery', 'smile', 'compassionate', 'practical', 'downtoearth', 'qualities', 'esther', 'marr', 'asset', 'salvation', 'larimer', 'pert', 'grayhaired', 'civilian', 'covers', 'tasks', 'mom', 'link', 'bridge', 'alcoholics', 'parolees', 'pressing', 'written', 'plenty', 'schedules', 'solved', 'marrs', 'welcome', 'mat', 'skid', 'decides', 'wants', 'steaming', 'coffee', 'awaiting', 'chat', 'informally', 'presents', 'withdrawn', 'relearns', 'mingle', 'denverite', 'bum', 'tickets', 'beggar', 'sporting', 'concerts', 'cookies', 'sweets', 'sugar', 'watching', 'parole', 'readjust', 'midjune', 'vacation', 'forth', 'vast', 'allamerican', 'safari', 'motelkeepers', 'bleak', 'abroad', 'suitcases', 'magic', 'ah', 'simple', 'reared', 'grandma', 'summertime', 'onslaught', 'journey', 'tucson', 'influx', 'testify', 'motels', 'comfort', 'stations', 'scots', 'heather', 'wagons', 'roadside', 'restaurants', 'souvenir', 'snake', 'braced', 'boasting', 'offers', 'vacationing', 'beauty', 'farflung', 'overnight', 'accommodations', 'maybe', 'motelkeeping', 'tastes', 'peculiarities', 'shamrock', 'motel', 'advertises', 'vented', 'heat', 'carpeted', 'storm', 'cellar', 'pools', 'innumerable', 'boast', 'swimming', 'hospitable', 'poised', 'brink', 'adults', 'tourists', 'accommodated', 'village', 'marvel', 'luxury', 'fastgrossing', 'boxwood', 'winchester', 'va', 'accidentally', 'suite', 'elegant', 'walltowall', 'carpeting', 'furniture', 'pink', 'satin', 'brocade', 'chairs', 'tile', 'bath', 'towels', 'proprietor', 'tab', 'ants', 'pressedpaper', 'oxnard', 'judith', 'ellen', 'munger', 'methodist', 'ferris', 'coronado', 'bridegroom', 'baines', 'monica', 'ucla', 'perkins', 'theology', 'officiated', 'attendants', 'sandra', 'branum', 'mcroberts', 'sequoia', 'baker', 'elvis', 'chapel', 'presbyterian', 'rhodes', 'semmes', 'kappa', 'gamma', 'mortar', 'alton', 'shreveport', 'cater', 'parmer', 'alpha', 'tau', 'omega', 'sigma', 'pi', 'grahamstown', 'fellowship', 'freeman', 'pabor', 'wore', 'courtlength', 'organdy', 'bateau', 'neckline', 'princesse', 'skirt', 'accented', 'lace', 'appliques', 'veil', 'crown', 'gardenias', 'stephanotis', 'baird', 'maid', 'bridesmaids', 'dawson', 'hinsdale', 'reeder', 'cecil', 'hartford', 'conn', 'groomsmen', 'carter', 'conrad', 'mceachern', 'ken', 'neumann', 'seated', 'mayfair', 'newlyweds', 'corpus', 'christi', 'shirley', 'meredith', 'arlington', 'fitzhugh', 'hardy', 'floresville', 'beam', 'featuring', 'flared', 'jacket', 'headdress', 'orchids', 'glenda', 'kay', 'sisters', 'lewelleyn', 'angelo', 'lovelace', 'cedric', 'burgher', 'christian', 'pampa', 'marcile', 'marie', 'glison', 'earl', 'loving', 'gaston', 'ervin', 'womans', 'studies', 'gayety', 'thrift', 'shop', 'philmont', 'reputation', 'fun', 'promises', 'tradition', 'grinsfelder', 'food', 'colorful', 'hospitality', 'exactly', 'prospects', 'hats', 'excitement', 'basin', 'festivities', 'jazz', 'combo', 'lester', 'lanins', 'louchheim', 'phase', 'globetrotter', 'rs', 'oysters', 'specialties', 'chef', 'scenic', 'effects', 'flowers', 'reproductions', 'grillwork', 'cohen', 'hollander', 'display', 'brothers', 'bundle', 'clothing', 'household', 'bricabrac', 'shelves', 'walnut', 'convenience', 'throughout', 'suburbs', 'deposited', 'bundles', 'dinners', 'bernhard', 'blumenthal', 'fundraisers', 'jewish', 'competence', 'totals', 'feminine', 'husbands', 'glazer', 'mens', 'staffing', 'kapnek', 'newburger', 'hostesses', 'loeb', 'arrangements', 'lichtenstein', 'rose', 'secretarial', 'duties', 'aides', 'lewis', 'kaufnabb', 'weinberg', 'allan', 'goodman', 'stone', 'quell', 'admittance', 'besides', 'davids', 'prefair', 'dessert', 'spurdle', 'moody', 'wilkinson', 'ethel', 'coles', 'lacy', 'harcourt', 'moller', 'zeising', 'kilhour', 'cauffman', 'baringer', 'clyde', 'newman', 'natalie', 'collett', 'newbold', 'commentator', 'models', 'meyle', 'harrity', 'kloman', 'wolcott', 'wheeler', 'boyd', 'putt', 'col', 'clifton', 'lisle', 'troop', 'decades', 'honorary', 'invites', 'campingout', 'yearround', 'subzero', 'temperatures', 'cotty', 'felske', 'smythe', 'posters', 'arrange', 'exhibit', 'sale', 'paintings', 'sculpture', 'preview', 'sponsors', 'artists', 'proceeds', 'levels', 'monte', 'tyson', 'delaware', 'valley', 'marc', 'shoettle', 'shahn', 'nicholas', 'marsicano', 'loen', 'avery', 'portrait', 'wins', 'door', 'originated', 'wissahickon', 'continuing', 'fundraiser', 'jerome', 'blum', 'meyer', 'schultz', 'cochairmen', 'chairmen', 'malmud', 'fernberger', 'cushman', 'berton', 'korman', 'rosen', 'jacques', 'zinman', 'evelyn', 'kamens', 'langsdorf', 'liss', 'blumberg', 'oscar', 'bregman', 'kershbaum', 'sabol', 'volney', 'ludwick', 'evans', 'kimbolton', 'rockhall', 'app', 'voorhees', 'anderson', 'entertained', 'coulson', 'fairless', 'hills', 'soninlaw', 'glennon', 'brigantine', 'janssen', 'lynn', 'marella', 'orcutt', 'drexel', 'eileen', 'heinze', 'entertaining', 'lehner', 'vienna', 'ingo', 'dussa', 'dusseldorf', 'bietnar', 'haaek', 'brelin', 'hoaps', 'delray', 'anne', 'clearwater', 'cmdr', 'taylor', 'usn', 'greenwich', 'easter', 'latters', 'walbridge', 'deforest', 'emmert', 'newtown', 'ashman', 'pa', 'merner', 'bermuda', 'godwin', 'vieth', 'susan', 'nell', 'celebrated', 'february', 'graduated', 'louise', 'mcgehee', 'wellesley', 'stella', 'hayward', 'tulane', 'epsilon', 'fraternity', 'majesties', 'queen', 'carnival', 'comus', 'jointly', 'shrove', 'ballroom', 'downtown', 'rex', 'hosts', 'walkers', 'mcconnells', 'lady', 'feted', 'hostess', 'socola', 'waveland', 'vieux', 'carre', 'restaurant', 'richmond', 'honoree', 'dane', 'katherine', 'vickery', 'attends', 'sweet', 'briar', 'rejoin', 'pl', 'achaeans', 'masquerade', 'margaret', 'pierson', 'muncipal', 'auditorium', 'ladies', 'clayton', 'nairne', 'eleanor', 'eustis', 'irwin', 'leatherman', 'robinsonville', 'helene', 'rowley', 'ablaze', 'array', 'chic', 'ballgowns', 'worn', 'maskers', 'dances', 'chose', 'slim', 'tomatored', 'jordan', 'taffeta', 'frock', 'fringed', 'tiers', 'crimson', 'silk', 'slippers', 'maids', 'greenish', 'fenwick', 'ashes', 'roses', 'slipper', 'feringa', 'eggshell', 'filmy', 'dress', 'decolletage', 'trimmed', 'edging', 'tulle', 'reilys', 'olivegreen', 'embroidered', 'bodice', 'threads', 'sequins', 'beads', 'cuts', 'layoffs', 'am', 'simpson', 'railroads', 'drastic', 'decline', 'freight', 'loading', 'principally', 'necessitated', 'regrettable', 'affect', 'employees', 'supervisors', 'furlough', 'wages', 'furloughed', 'thug', 'struck', 'cab', 'robbing', 'mount', 'wiley', 'robbery', 'attempted', 'bandit', 'assailant', 'automatic', 'verstandig', 'store', 'aiken', 'negroes', 'assaulted', 'register', 'choking', 'burned', 'seriously', 'damaged', 'oneroom', 'arundel', 'darnell', 'somerville', 'arrival', 'annapolis', 'burns', 'seconddegree', 'occurred', 'mile', 'severna', 'recording', 'mechanically', 'jenkins', 'ellwood', 'longtime', 'cites', 'discrepancies', 'contained', 'memory', 'jenkinss', 'hate', 'write', 'machine', 'permanent', 'pullen', 'zoning', 'bodies', 'suits', 'misunderstandings', 'notes', 'bertorelli', 'ambulance', 'partially', 'paralyzed', 'parked', 'summoned', 'piraro', 'deficiencies', 'snow', 'corrected', 'councilman', 'schaefer', 'salting', 'crews', 'dispatched', 'storms', 'longer', 'werner', 'conceding', 'improvements', 'slowly', 'snowfall', 'halting', 'operations', 'manual', 'laborers', 'resumed', 'parking', 'banned', 'tires', 'chains', 'overlooked', 'merchants', 'survive', 'recounting', 'observations', 'clearance', 'inefficient', 'supplies', 'poorly', 'trained', 'plow', 'blades', 'layer', 'freezes', 'murdered', 'chesapeake', 'bayfront', 'detention', 'victims', 'malone', 'dresbach', 'rifle', 'capt', 'elmer', 'hagner', 'detectives', 'benjamin', 'michaelson', 'remanding', 'jurist', 'brick', 'manor', 'dresbachs', 'firstfloor', 'bedroom', 'kitchen', 'shootings', 'driven', 'broadcast', 'trooper', 'grzesiak', 'edgewater', 'tawes', 'lloyd', 'simpkins', 'marylands', 'finan', 'ferdinand', 'sybert', 'judgeship', 'swearingin', 'somerset', 'resident', 'countian', 'universitys', 'outset', 'guiding', 'spirits', 'totaled', 'compared', 'dodge', 'nonresidential', 'cumulative', 'amounted', 'corresponding', 'tenmonth', 'consists', 'shelter', 'market', 'enjoyed', 'availability', 'mortgage', 'prosperity', 'consumer', 'encouraged', 'apartmentbuilding', 'vary', 'choosing', 'pantas', 'hardware', 'manufacturing', 'seekers', 'maintaining', 'troublefree', 'longlife', 'quality', 'components', 'increasingly', 'predicted', 'sixtyseven', 'harbor', 'cherry', 'ultimately', 'comprise', 'twostory', 'threestory', 'structures', 'terrace', 'entrance', 'stairs', 'balconies', 'masonry', 'heating', 'gasfired', 'warm', 'johnsmanville', 'secrets', 'britains', 'submarine', 'dreadnought', 'implication', 'navys', 'stillbuilding', 'sub', 'londonbased', 'spy', 'ring', 'agents', 'testified', 'built', 'designs', 'supplied', 'killer', 'subs', 'hull', 'patterned', 'nautilus', 'derived', 'reactor', 'skipjack', 'bow', 'british', 'gee', 'devoted', 'houghton', 'divorced', 'whisking', 'strongrooms', 'lonsdale', 'presumed', 'russian', 'canadian', 'passport', 'arrested', 'roll', 'candid', 'camera', 'antisubmarine', 'wrapping', 'flashed', 'shadowy', 'kroger', 'bookseller', 'joyce', 'krogers', 'lola', 'suburban', 'cottage', 'transmitter', 'buried', 'dots', 'marks', 'dot', 'magnification', 'drawing', 'page', 'manuscript', 'innocent', 'bail', 'dunlop', 'sorely', 'widowed', 'maiden', 'aunt', 'bedridden', 'uncle', 'refuses', 'magistrate', 'kjp', 'baraclough', 'bailey', 'klaus', 'fuchs', 'naturalized', 'german', 'russia', 'sentenced', 'altered', 'behavior', 'promptly', 'currency', 'mervin', 'griffithjones', 'generals', 'asserted', 'paymaster', 'selling', 'highest', 'undersea', 'grimly', 'adviser', 'underwater', 'warfare', 'symonds', 'drawings', 'ship', 'reproduced', 'undeveloped', 'vic', 'potential', 'cleared', 'watched', 'broken', 'untold', 'lawyers', 'clients', 'reveal', 'designing', 'nowhere', 'sharing', 'blabbed', 'propelling', 'machinery', 'design', 'generation', 'advanced', 'skipjacks', 'august', 'teardrop', 'potent', 'polaris', 'missile', 'atom', 'cooled', 'reactors', 'westinghouse', 'electric', 'steam', 'turbines', 'greatly', 'complexity', 'propeller', 'albacore', 'fastest', 'reputedly', 'outrun', 'destroyers', 'refueling', 'hunterkiller', 'ships', 'gear', 'torpedoes', 'gees', 'detector', 'asdic', 'detecting', 'detail', 'radiomen', 'nabbed', 'signals', 'wavelengths', 'codes', 'hidden', 'cigaret', 'lighters', 'lonsdales', 'fastened', 'lid', 'oddly', 'indictment', 'narcotics', 'rumor', 'malice', 'enmity', 'perry', 'cooperman', 'teller', 'indictments', 'narcotic', 'sokol', 'peddlers', 'racket', 'posed', 'addicts', 'sometimes', 'rivalries', 'aiming', 'criminals', 'jealousies', 'grievances', 'creditable', 'mentions', 'compensations', 'nominated', 'tree', 'medal', 'comments', 'connelly', 'heroin', 'convicted', 'peddler', 'otis', 'sears', 'indiana', 'av', 'witness', 'moses', 'winston', 'mardis', 'agent', 'bondsman', 'adjourned', 'jeremiah', 'pullings', 'jessy', 'maroy', 'indicted', 'buaford', 'stewart', 'cta', 'robbed', 'youths', 'physicians', 'eyebrow', 'bag', 'paycheck', 'morgan', 'wabash', 'boarded', 'bound', 'express', 'dunbar', 'skylarking', 'accosted', 'ensued', 'fled', 'blanche', 'dunkel', 'reformatory', 'murder', 'lang', 'appealed', 'pardon', 'bookwalter', 'carpentier', 'stratton', 'commuted', 'slaying', 'relationship', 'wealthy', 'evanston', 'forbidden', 'icy', 'wilmette', 'stickney', 'reckless', 'corcoran', 'salesman', 'pleezing', 'brokerage', 'simms', 'pursuit', 'speeding', 'jenks', 'skidded', 'sped', 'spun', 'prairie', 'johns', 'pohl', 'bludgeon', 'anna', 'hengesbach', 'visible', 'emotion', 'cell', 'courtappointed', 'stepson', 'vindicated', 'reach', 'cloud', 'neighbor', 'pleased', 'suspicion', 'removed', 'elses', 'misfortune', 'rebuild', 'settled', 'grandfather', 'westphalia', 'ledge', 'barn', 'release', 'arson', 'killing', 'confession', 'retracted', 'fred', 'sentencing', 'motion', 'locked', 'deliberation', 'canvassed', 'foreman', 'olive', 'heideman', 'elsie', 'pohls', 'valid', 'definition', 'packed', 'sterling', 'township', 'surviving', 'died', 'aftermath', 'homeowners', 'hardhit', 'kowalski', 'viceroy', 'holy', 'bottled', 'pankowski', 'adjoining', 'suburb', 'funeral', 'christine', 'annes', 'mt', 'olivet', 'cemetery', 'rested', 'caskets', 'lyle', 'elliott', 'fueled', 'stove', 'grandmothers', 'upstairs', 'candle', 'cornell', 'fumes', 'ignited', 'girls', 'lacked', 'electricity', 'christines', 'twin', 'darlene', 'escaped', 'vicky', 'dennis', 'bernardine', 'roofer', 'seldom', 'arrears', 'splitlevel', 'tragedy', 'sidney', 'serra', 'supplying', 'meals', 'kowalskis', 'sisterinlaw', 'pall', 'mall', 'collected', 'tareytown', 'announcing', 'doortodoor', 'subdivision', 'canvass', 'northeast', 'dequindre', 'mailed', 'fuhrmann', 'pohly', 'collection', 'revealed', 'yteen', 'surpluses', 'fuhrmanns', 'furhmanns', 'faculty', 'spontaneous', 'fondness', 'sympathy', 'expresses', 'spoken', 'properly', 'alert', 'patrol', 'conviction', 'youthful', 'motorist', 'kimmell', 'mcclellan', 'sisk', 'vernor', 'grader', 'scripps', 'belvidere', 'kercheval', 'belatedly', 'crosswalk', 'safely', 'approaching', 'narrowly', 'commandeering', 'pursued', 'fleeing', 'sarkees', 'murphy', 'nodriving', 'correction', 'showdown', 'vientiane', 'laotian', 'offensive', 'truce', 'reconvened', 'delhi', 'verify', 'tiao', 'sopsaisana', 'thinking', 'troops', 'worsens', 'fullfledged', 'note', 'ambassador', 'winthrop', 'describing', 'appeal', 'vietnamese', 'thakhek', 'southerncentral', 'confirmation', 'massive', 'assaults', 'sources', 'exaggerated', 'havana', 'cubans', 'executed', 'firing', 'squads', 'tribunals', 'decreeing', 'captured', 'suspected', 'collaborators', 'mcnair', 'executions', 'dawn', 'revolutionary', 'tribunal', 'pinar', 'del', 'rio', 'plot', 'seattle', 'exmarine', 'businessman', 'condemned', 'smuggling', 'rebels', 'commander', 'legion', 'disbanded', 'fidel', 'castros', 'andersons', 'seized', 'boatload', 'rifles', 'roundup', 'raymont', 'berrellez', 'associated', 'swept', 'dragnet', 'converted', 'makeshift', 'jails', 'roman', 'priests', 'concentration', 'siberia', 'prisoners', 'kegham', 'pseudynom', 'bucharest', 'armenian', 'arf', 'emory', 'trustees', 'bylaws', 'taxing', 'roadblock', 'taxexempt', 'institutions', 'segregated', 'standards', 'institution', 'grade', 'taxexemption', 'privileges', 'conforms', 'aforementioned', 'statutory', 'provisions', 'obstacles', 'desegregation', 'intend', 'exempt', 'criteria', 'endowments', 'colored', 'integrated', 'challenged', 'affiliated', 'newspaper', 'commitment', 'excellence', 'paramount', 'generous', 'recognize', 'obligation', 'promote', 'creed', 'insofar', 'governing', 'documents', 'applications', 'prospective', 'irrespective', 'corporate', 'existence', 'derives', 'jeopardizing', 'desiring', 'intellectual', 'moral', 'fulfillment', 'riding', 'slid', 'pole', 'waddell', 'ne', 'knoll', 'cir', 'hammons', 'evidently', 'rainslick', 'occupants', 'willard', 'olvey', 'ponce', 'leon', 'coleman', 'se', 'lacerations', 'bruises', 'renewed', 'picketing', 'standins', 'firstrun', 'theaters', 'identically', 'worded', 'contacted', 'coahr', 'gather', 'eve', 'operators', 'likelihood', 'threeday', 'sporadic', 'negotiate', 'fridays', 'inability', 'indifference', 'integrate', 'pledged', 'nonviolent', 'extensive', 'presence', 'picket', 'profits', 'uptown', 'buckhead', 'killingsworth', 'venable', 'kililngsworth', 'cafeteria', 'pittsboro', 'survivors', 'bessie', 'bloom', 'gettysburg', 'marietta', 'nw', 'painter', 'oakland', 'blanchards', 'hearn', 'officiating', 'emma', 'odom', 'fergeson', 'tenn', 'daughters', 'stoll', 'nancy', 'greenville', 'sc', 'wansley', 'wallace', 'wilmington', 'nc', 'rock', 'assaulting', 'subdue', 'patrolmen', 'crawford', 'ronald', 'nakoma', 'ripped', 'latch', 'scratching', 'melee', 'scratches', 'violent', 'attacked', 'subdued', 'uniforms', 'counts', 'assault', 'battery', 'resisting', 'disturbance', 'cursing', 'desk', 'guest', 'disability', 'entries', 'ranging', 'transfers', 'employments', 'pensions', 'wistfully', 'tribute', 'intensifying', 'ant', 'eradication', 'fastspreading', 'pest', 'troup', 'pierce', 'bryan', 'bulloch', 'treat', 'infested', 'blasingame', 'entomologist', 'lowflying', 'planes', 'granulartype', 'chemical', 'heptachlor', 'bibb', 'treating', 'macon', 'bleckley', 'tift', 'turner', 'infest', 'approximately', 'attacking', 'crops', 'wildlife', 'livestock', 'menace', 'humans', 'allergic', 'venom', 'northbound', 'expressway', 'survey', 'computers', 'cameras', 'engineers', 'congestion', 'suggest', 'intersection', 'daylight', 'cain', 'piedmont', 'junction', 'northwest', 'expressways', 'crashes', 'fiery', 'crash', 'snellville', 'claude', 'maynor', 'calvary', 'troopers', 'path', 'bursts', 'flames', 'auto', 'overturned', 'skidding', 'tractortrailer', 'burst', 'bester', 'hammett', 'rte', 'lawrenceville', 'herrington', 'flaming', 'unusually', 'category', 'allotment', 'budgeted', 'slackening', 'oks', 'pact', 'newlyappointed', 'webster', 'river', 'ennis', 'keizer', 'consultant', 'data', 'processing', 'considerable', 'converting', 'electronic', 'magnetic', 'tape', 'renew', 'adapting', 'juras', 'fields', 'unique', 'handicapped', 'emphasized', 'employ', 'fulfill', 'handles', 'literally', 'wheels', 'directing', 'answerable', 'mans', 'conversion', 'familiarity', 'do', 'defend', 'peck', 'moment', 'arguments', 'commissions', 'vicechairman', 'patterson', 'crippling', 'weaknesses', 'communications', 'objective', 'create', 'robber', 'huntley', 'lavaughn', 'getaway', 'woodyard', 'bros', 'burnside', 'mcneil', 'hillsdale', 'holdup', 'detective', 'murray', 'logan', 'culminates', 'robberies', 'papers', 'elaine', 'schuyler', 'bess', 'kaiser', 'bicycleauto', 'collision', 'gateway', 'forsyth', 'brett', 'riverview', 'abbey', 'logging', 'macwhyte', 'alice', 'wash', 'horstman', 'lucy', 'beatrice', 'kiefferm', 'grandchildren', 'dalles', 'decertify', 'retail', 'clerks', 'aflcio', 'collective', 'nlrb', 'potentially', 'theatrical', 'producer', 'band', 'collapsed', 'blvd', 'functions', 'booked', 'collaborated', 'entertainers', 'jimmy', 'durante', 'silvers', 'profession', 'af', 'scottish', 'rite', 'kader', 'shrine', 'elks', 'voiture', 'musicians', 'nevah', 'sholom', 'congregation', 'tearle', 'dorenzo', 'birdie', 'gevurtz', 'aaron', 'cohn', 'holman', 'interment', 'neveh', 'zebek', 'omitted', 'judged', 'competition', 'tim', 'larson', 'wilson', 'spicenice', 'guided', 'topranking', 'ja', 'scolatti', 'counseled', 'georgiapacific', 'firstplace', 'regional', 'pocketsize', 'barbecue', 'spices', 'stockholders', 'dividend', 'investment', 'youngsters', 'teenagers', 'guidance', 'fullscale', 'businesses', 'culmination', 'participants', 'adult', 'advisors', 'drawn', 'distributed', 'gp', 'breuer', 'stephenson', 'nevada', 'ct', 'kathleen', 'jefferson', 'reifenrath', 'madison', 'wegener', 'karen', 'kolb', 'shelby', 'carlson', 'hillsboro', 'countys', 'ffa', 'horsemanship', 'clown', 'shows', 'attendance', 'fiveday', 'skies', 'attract', 'fairgoers', 'wick', 'walters', 'allcounty', 'quartet', 'twirler', 'nuttall', 'reedville', 'finalists', 'janet', 'jossy', 'sheep', 'ribbons', 'stephanie', 'zurcher', 'phyllis', 'carol', 'lorlyn', 'exhibited', 'hog', 'traxel', 'hutchins', 'swine', 'showmanship', 'blues', 'pumpkin', 'rabbit', 'poultry', 'judging', 'nyberg', 'tualatin', 'batchelder', 'tigard', 'eggs', 'wacklin', 'sherwood', 'male', 'female', 'haase', 'corneilus', 'entrant', 'championships', 'cedar', 'mill', 'cooked', 'millie', 'jansen', 'verboort', 'jody', 'jaross', 'borland', 'economics', 'demonstration', 'filbert', 'assessors', 'assessments', 'centredale', 'grenier', 'assessment', 'properties', 'quarterly', 'pezza', 'shoulder', 'pains', 'collided', 'giorgio', 'desoto', 'onto', 'slightly', 'disimone', 'uninjured', 'thieves', 'ransacked', 'cranston', 'furs', 'jewels', 'coins', 'stephen', 'kochanek', 'theft', 'intruders', 'coat', 'persian', 'lamb', 'wallet', 'french', 'valued', 'rings', 'earrings', 'diamond', 'kochaneks', 'nunes', 'investigated', 'drawers', 'cabinets', 'bedrooms', 'sewing', 'stoppage', 'eddy', 'elm', 'dumping', 'raw', 'sewage', 'acid', 'jewelry', 'plants', 'flowing', 'tide', 'twofamily', 'deed', 'cochran', 'bought', 'rental', 'pawtuckets', 'garbage', 'rubbish', 'picketed', 'incinerator', 'strike', 'rotelli', 'companys', 'collections', 'hired', 'sydney', 'smithfield', 'beverly', 'circle', 'satisfactory', 'fatima', 'woonasquatucket', 'fractured', 'ribs', 'chest', 'stones', 'brushed', 'alva', 'vernava', 'maple', 'tearing', 'rear', 'bumper', 'denting', 'fender', 'impact', 'fruit', 'audiovisual', 'democraticendorsed', 'acted', 'improperly', 'nolan', 'walsh', 'tougas', 'finding', 'superintendents', 'suitable', 'vermeersch', 'rosella', 'lovett', 'damages', 'atwells', 'interstate', 'valuation', 'onestory', 'saul', 'hodosh', 'represented', 'santas', 'lieutenants', 'journalbulletin', 'claus', 'convenient', 'journalbulletins', 'acknowledged', 'quota', 'scores', 'remembered', 'contributors', 'pennies', 'nickels', 'dimes', 'quarters', 'parrillo', 'fletcher', 'hunting', 'shotgun', 'discharged', 'heel', 'hose', 'thornton', 'companion', 'simmonsville', 'oliver', 'alterations', 'beds', 'sorrentino', 'founder', 'uncas', 'mfg', 'cavaliere', 'italy', 'decoration', 'trichieri', 'celebrating', 'bestowal', 'aurora', 'newportbased', 'destroyer', 'escort', 'kretchmer', 'newport', 'afloat', 'ashore', 'rescued', 'crew', 'trawler', 'drifting', 'raft', 'sinking', 'stopping', 'greenock', 'scotland', 'liberty', 'rendered', 'birmingham', 'perjury', 'rider', 'burning', 'complaint', 'juror', 'ku', 'klux', 'klan', 'membership', 'farmer', 'hartselle', 'anniston', 'interfering', 'growing', 'mobs', 'greyhound', 'riders', 'freed', 'wrongdoing', 'incident', 'hobart', 'grooms', 'jurytampering', 'expressing', 'excused', 'masked', 'lenient', 'alternate', 'formal', 'incidents', 'connections', 'kkk', 'imprisonment', 'nyu', 'mcn', 'hester', 'sciences', 'carroll', 'newsom', 'prenticehall', 'princeton', 'nj', 'asilomar', 'spraying', 'endangering', 'buchheister', 'audubon', 'handing', 'loaded', 'convention', 'controls', 'borer', 'plague', 'wrecked', 'cane', 'crop', 'mistakes', 'wyoming', 'pride', 'scientific', 'experiments', 'farmers', 'forgetting', 'efficient', 'enemies', 'insects', 'rodents', 'rid', 'occasionally', 'grapes', 'blueberries', 'urging', 'restrictions', 'wilderness', 'seashore', 'reyes', 'preservation', 'wetlands', 'breed', 'pesticides', 'pollution', 'ratification', 'halt', 'sea', 'oil', 'reed', 'rogers', 'da', 'fonta', 'sanctuary', 'marin', 'officially', 'livermore', 'tidelands', 'greenwood', 'olney', 'kentfield', 'inviolate', 'animals', 'seventeen', 'willy', 'fiedler', 'climbed', 'cockpit', 'installed', 'rocketbomb', 'attached', 'underbelly', 'heinkel', 'bomber', 'rolled', 'runway', 'earth', 'alive', 'pulse', 'jet', 'airstrip', 'quietspoken', 'middleaged', 'aeronautical', 'engineer', 'lockheeds', 'missiles', 'sunnyvale', 'sat', 'pilots', 'crashed', 'hitlers', 'supersecret', 'reichenberg', 'unknown', 'rocketbombs', 'manned', 'warhead', 'shipping', 'stave', 'fiedlers', 'cubic', 'rockets', 'mechanism', 'altitude', 'signaled', 'roaring', 'pulsejet', 'engine', 'streaked', 'beneath', 'pilot', 'rocket', 'faint', 'speck', 'hurtling', 'sky', 'incredible', 'mph', 'beautifully', 'valve', 'adjust', 'fuel', 'strip', 'steering', 'controlled', 'tail', 'surfaces', 'wings', 'equipped', 'ailerons', 'bolted', 'fuselage', 'managed', 'maneuver', 'landing', 'banked', 'airfield', 'moments', 'skimmed', 'streamer', 'dust', 'flights', 'steer', 'suicide', 'dive', 'waterline', 'crack', 'halted', 'lockheed', 'spare', 'gliders', 'slow', 'serene', 'challenging', 'di', 'massimo', 'celebration', 'scampini', 'arata', 'casassa', 'molinari', 'elios', 'anderlini', 'attilio', 'beronio', 'bianco', 'frederic', 'campagnoli', 'cervetto', 'armond', 'martini', 'duhagon', 'figone', 'mana', 'moscone', 'calude', 'perasso', 'petrini', 'ratto', 'reilly', 'schweitzer', 'worldfamous', 'theologian', 'endorsed', 'disarmament', 'quaker', 'newer', 'weapons', 'otherwise', 'dread', 'imply', 'grisly', 'abolish', 'obligated', 'aware', 'ghastly', 'stupidity', 'jolt', 'complacency', 'operator', 'janitors', 'shore', 'acquaintance', 'syndicate', 'glimco', 'gangland', 'buddies', 'mob', 'racketeer', 'gang', 'gambling', 'chiefs', 'gus', 'alex', 'caesar', 'divarco', 'monk', 'allegretti', 'hoodlum', 'arger', 'steins', 'janitor', 'stevedore', 'pier', 'probing', 'prosecutors', 'attempting', 'connect', 'gangsters', 'tracing', 'scrutiny', 'payments', 'workmen', 'factories', 'leavitt', 'kedzie', 'dominic', 'senese', 'teamster', 'cousin', 'accardo', 'onetime', 'pesce', 'deodorant', 'sanitation', 'supervise', 'leavitts', 'warehousemans', 'salesmans', 'bottling', 'closely', 'repaid', 'glimcos', 'drivers', 'radiation', 'micromicrocurie', 'meter', 'detonation', 'radioactive', 'occur', 'curtis', 'huff', 'suppressed', 'warrant', 'charging', 'embezzling', 'undetermined', 'dearborn', 'lien', 'huffs', 'antone', 'gregorio', 'embezzlement', 'satisfaction', 'mechanics', 'liens', 'lucrative', 'lists', 'blaber', 'cashed', 'card', 'bonn', 'greek', 'nazi', 'persecution', 'hottest', 'shares', 'dallasheadquartered', 'allotting', 'explaining', 'investors', 'counted', 'lucky', 'trading', 'underwriting', 'overthecounter', 'eppler', 'guerin', 'underwriter', 'circulating', 'inquiries', 'reams', 'wanting', 'reserved', 'cable', 'switzerland', 'somehow', 'offering', 'subscribe', 'translated', 'egt', 'swiss', 'underwriters', 'qualify', 'regularly', 'combination', 'boiling', 'upward', 'kinds', 'priced', 'roughly', 'earnings', 'yield', 'chip', 'fancy', 'lately', 'frito', 'runups', 'priceearnings', 'runup', 'resistant', 'ratios', 'todays', 'depression', 'remain', 'executives', 'abilities', 'competitive', 'survival', 'fittest', 'reaching', 'realizing', 'secondechelon', 'mergers', 'pound', 'mortons', 'corn', 'chipos', 'turns', 'avid', 'buyers', 'worldwide', 'gin', 'maintain', 'manufacturer', 'coincidence', 'ginners', 'ginning', 'weighs', 'tons', 'proximity', 'safe', 'assumption', 'percentage', 'gins', 'contain', 'occupied', 'grown', 'driers', 'cleaners', 'dallasbased', 'smaller', 'prattville', 'sells', 'cottongrowing', 'hardwickeetter', 'domestic', 'southeastern', 'centennial', 'export', 'presently', 'employs', 'lummus', 'moss', 'gordin', 'lint', 'cleaner', 'cleaning', 'seed', 'heaters', 'maker', 'boil', 'extraction', 'mechanical', 'harvesting', 'drying', 'hinckley', 'overhead', 'burr', 'extractors', 'separators', 'piping', 'saws', 'stacy', 'belting', 'bearings', 'etc', 'sizable', 'segment', 'slight', 'doldrums', 'characterized', 'registrations', 'februarys', 'quartertoquarter', 'comparison', 'quarter', 'yeartoyear', 'pickup', 'dealers', 'apriljune', 'prompt', 'makers', 'production', 'compacts', 'grab', 'larger', 'lowerpriced', 'buick', 'chrysler', 'mercury', 'gains', 'banquet', 'sheratondallas', 'winds', 'distributive', 'marketing', 'salesmanship', 'supplement', 'classroom', 'instruction', 'seniors', 'gerald', 'owens', 'isodine', 'pharmical', 'trigg', 'arrington', 'kaminsky', 'adams', 'janice', 'whitney', 'fil', 'terral', 'adamson', 'tommie', 'paschall', 'crozier', 'paulah', 'kestner', 'hillcrest', 'hayes', 'shay', 'satterfield', 'cluck', 'deloris', 'carrel', 'carty', 'edna', 'eaton', 'neal', 'mclauchlin', 'rylie', 'seagoville', 'wolverton', 'sharon', 'flanagan', 'samuels', 'hammond', 'ronnie', 'carolyn', 'bert', 'sunset', 'potter', 'woodrow', 'complex', 'sweeping', 'fringe', 'caron', 'stallard', 'momentum', 'lift', 'peak', 'autumn', 'beryl', 'sprinkel', 'closing', 'assn', 'draper', 'palo', 'alto', 'venture', 'gaither', 'gauntlet', 'communism', 'bluntly', 'appropriations', 'pan', 'conferees', 'improvement', 'cyclical', 'pattern', 'abrupt', 'thesis', 'refuted', 'neostagnationist', 'declaring', 'pessimism', 'questionable', 'abortive', 'lesson', 'probability', 'cautioned', 'excessive', 'stimulation', 'moderate', 'inflation', 'aggressively', 'tighten', 'monetary', 'phases', 'upturn', 'unsatisfactory', 'inappropriate', 'retrenching', 'resulting', 'sacrifices', 'dangers', 'threaten', 'justify', 'heritage', 'clay', 'blackmail', 'sooner', 'liable', 'situations', 'hemisphere', 'erasing', 'analysts', 'continuation', 'sank', 'hopedfor', 'dow', 'standing', 'sidelines', 'pivotal', 'routine', 'snapback', 'streeters', 'accompanied', 'orders', 'durable', 'treasury', 'dillon', 'whopping', 'paving', 'lower', 'traded', 'highs', 'lows', 'comparatively', 'dull', 'dipped', 'envisioned', 'peterson', 'bell', 'howell', 'belong', 'industrialist', 'creative', 'unconventional', 'creations', 'expenditures', 'marketed', 'logjam', 'obviously', 'geometrically', 'tend', 'equalizers', 'fairly', 'shortterm', 'dares', 'japanese', 'knowhow', 'allautomatic', 'exchange', 'phelan', 'stockholder', 'securities', 'debentures', 'gulfs', 'holdings', 'surrender', 'convertible', 'consisted', 'subordinated', 'thereafter', 'dwindled', 'teleprompter', 'foil', 'fairchild', 'kawecki', 'diversified', 'dividends', 'custodian', 'fundamental', 'televisionelectronics', 'programmed', 'irate', 'shareholders', 'story', 'complaining', 'squared', 'shareholder', 'finds', 'mistake', 'doyle', 'undertake', 'selects', 'queries', 'farreaching', 'alter', 'movements', 'satisfactorily', 'foreseeable', 'perlman', 'merge', 'os', 'weaken', 'consolidation', 'precarious', 'tuohy', 'crossexamination', 'icc', 'rebuffed', 'threeway', 'ob', 'hemispheres', 'borrowing', 'tuesdays', 'weekly', 'outlook', 'polled', 'onethird', 'resistance', 'buying', 'renting', 'narrowed', 'saturation', 'presumably', 'nonfarm', 'discrepancy', 'invited', 'businessmen', 'elburn', 'dealer', 'houtz', 'tilts', 'battered', 'chair', 'pickers', 'ehlers', 'competitor', 'experiencing', 'climbing', 'paradoxically', 'slash', 'output', 'acreage', 'lowest', 'fertilizer', 'yields', 'dense', 'efficiently', 'supports', 'pushing', 'averaging', 'keeler', 'harvester', 'lag', 'sections', 'upswing', 'droughtseared', 'notable', 'exceptions', 'uptrend', 'extends', 'yardstick', 'tractors', 'implements', 'gasoline', 'appliances', 'chemicals', 'haggling', 'arent', 'conscious', 'sioux', 'iowa', 'picker', 'affects', 'shipments', 'masseyferguson', 'ltd', 'toronto', 'staiger', 'inventories', 'steppedup', 'shortages', 'merritt', 'demanding', 'delivery', 'trailed', 'yearearlier', 'feed', 'grain', 'cutback', 'planted', 'chiefly', 'forecast', 'economists', 'subsidies', 'incentive', 'receipts', 'marketings', 'index', 'midseptember', 'midjuly', 'depletion', 'pipe', 'mined', 'figuring', 'taxable', 'deducted', 'percentages', 'materials', 'producers', 'assets', 'adjourning', 'softened', 'rulings', 'prioryear', 'returns', 'claymining', 'allows', 'mineral', 'signing', 'charitable', 'deductions', 'irs', 'furnish', 'particulars', 'substantiation', 'suspects', 'donor', 'material', 'revenuers', 'deduction', 'deductibility', 'realty', 'owed', 'disposed', 'liquidation', 'disallowed', 'invoking', 'bars', 'incurred', 'taxfreedom', 'stemmed', 'liquidations', 'challenges', 'yearold', 'creating', 'termination', 'cadet', 'taxed', 'entirety', 'taxpayer', 'pad', 'invoices', 'kickbacks', 'commenting', 'province', 'morality', 'transaction', 'kerosene', 'boats', 'railing', 'vessel', 'householdtype', 'hiring', 'taxaided', 'spouse', 'entitled', 'distributions', 'coverage', 'taxfree', 'frequent', 'pitfall', 'warn', 'declare', 'discriminatory', 'upshots', 'briefs', 'imposition', 'applied', 'whollyowned', 'subsidiary', 'divulging', 'identity', 'parent', 'computed', 'nonprofit', 'realized', 'entities', 'edged', 'seasonally', 'adjusted', 'chart', 'seasonal', 'adjustment', 'preeaster', 'inclined', 'surge', 'steep', 'greer', 'tasteful', 'sophisticated', 'neimanmarcus', 'titianhaired', 'personification', 'exposition', 'ferdinando', 'sarmi', 'creator', 'fashions', 'rolnick', 'byerrolnick', 'hat', 'designer', 'wragge', 'casuals', 'vivier', 'dior', 'shoes', 'france', 'toes', 'lowered', 'heels', 'revolutionized', 'shoe', 'ebony', 'plaques', 'luncheons', 'marcus', 'beneficiary', 'showings', 'crippled', 'cerebral', 'palsy', 'loves', 'clothes', 'carefully', 'prefers', 'timeless', 'deserts', 'piece', 'simply', 'fogelson', 'commuting', 'belair', 'ranch', 'pecos', 'mexico', 'wardrobe', 'mobile', 'shake', 'wrinkle', 'designers', 'pictures', 'norell', 'likes', 'classic', 'chemise', 'irene', 'longbodied', 'silhouette', 'femininity', 'charm', 'ceil', 'balenciaga', 'struggling', 'reminisces', 'drama', 'simplicity', 'appreciate', 'lively', 'glowing', 'pinks', 'scotchirishscandinavian', 'descent', 'down', 'ireland', 'orkney', 'isles', 'postgraduate', 'grenoble', 'repertory', 'starring', 'arrow', 'noel', 'coward', 'motionpicture', 'goodbye', 'chips', 'random', 'harvest', 'madame', 'curie', 'prejudice', 'forsythe', 'saga', 'miniver', 'portrayal', 'sunrise', 'campobello', 'auntie', 'mame', 'brassbounds', 'camille', 'tussards', 'waxworks', 'kiowa', 'tribe', 'colonel', 'adept', 'skeet', 'trout', 'fishing', 'afrocuban', 'archaeology', 'serves', 'symphony', 'museum', 'tuberculosis', 'oilmanrancher', 'supporters', 'patrons', 'vivid', 'colony', 'flourishes', 'gander', 'coeds', 'ogled', 'dutifully', 'gravy', 'are', 'smus', 'craven', 'womentrodden', 'apt', 'wrangler', 'buys', 'groceries', 'moans', 'dishes', 'snacks', 'cafeterias', 'mcelvaney', 'athletes', 'tables', 'ruggedly', 'pester', 'hockaday', 'charming', 'spice', 'chow', 'mastodons', 'meat', 'potatoes', 'gogogo', 'fat', 'hides', 'mayonnaise', 'stomachs', 'jumpy', 'physical', 'duress', 'bans', 'flavored', 'condiments', 'plates', 'hamburger', 'hotdogs', 'steak', 'pizza', 'broccoli', 'cauliflower', 'stoked', 'truman', 'cabot', 'morocco', 'clement', 'atlee', 'shiny', 'characters', 'tibetan', 'monks', 'saffron', 'robes', 'chicken', 'cadillac', 'breast', 'salt', 'pepper', 'dip', 'melted', 'butter', 'flour', 'baking', 'bake', 'lightly', 'cream', 'seasoned', 'onion', 'juice', 'breasts', 'onehalf', 'saute', 'mushrooms', 'canned', 'sprinkle', 'slowbaked', 'ham', 'seedless', 'pontiac', 'contemporary', 'danish', 'straightline', 'sculptured', 'facets', 'warmth', 'dignity', 'utter', 'livability', 'avant', 'garde', 'indication', 'boxy', 'correlated', 'sangerharris', 'woods', 'assembled', 'perennian', 'lasting', 'truly', 'avoids', 'monotony', 'pieces', 'wormy', 'chestnut', 'pecan', 'varieties', 'burl', 'handwoven', 'philippine', 'ceramic', 'tiles', 'marble', 'texture', 'permanence', 'tiled', 'floors', 'paneled', 'walls', 'windows', 'outdoors', 'customdesign', 'composite', 'titches', 'decorating', 'variation', 'rounded', 'decorative', 'insets', 'softening', 'arches', 'tops', 'inlaid', 'macassar', 'acacia', 'highlegged', 'easytoreach', 'snack', 'tucked', 'recessed', 'arched', 'decorate', 'functional', 'chests', 'dressers', 'canted', 'headboard', 'heavier', 'styling', 'doorfronted', 'poster', 'mirror', 'eastman', 'chromspun', 'fabrics', 'magenta', 'tones', 'predominating', 'shades', 'scotchgard', 'finish', 'resist', 'soil', 'wrinkles', 'rooted', 'forms', 'wearing', 'label', 'drexels', 'spiderleg', 'pedestal', 'lustrous', 'seethrough', 'combines', 'nostalgic', 'ladder', 'shoji', 'reflecting', 'substance', 'maturity', 'handscreened', 'wood', 'tall', 'bookcases', 'mellow', 'bronzygreengold', 'gleam', 'copper', 'handcrafted', 'accessories', 'reiterate', 'carpet', 'wool', 'pile', 'vagabonds', 'saledo', 'airconditioned', 'stagecoach', 'dignitaries', 'trail', 'gettogether', 'pool', 'ginghams', 'calico', 'attire', 'stetsons', 'vests', 'yellow', 'bluebonnets', 'silhouettes', 'sunbonnet', 'abell', 'messrs', 'mmes', 'mckee', 'mcelyee', 'fanning', 'roquemore', 'darrow', 'travel', 'comprised', 'funloving', 'couples', 'motto', 'somewhere', 'climaxed', 'chartered', 'las', 'vegas', 'jamaica', 'buses', 'wells', 'kerrville', 'railway', 'vicinity', 'schmalzried', 'yearbook', 'scrapbook', 'cookie', 'caramel', 'chocolate', 'frosting', 'pillsbury', 'bakeoff', 'reese', 'hilton', 'bakeoffs', 'finals', 'clara', 'hawaiian', 'rich', 'yeast', 'bread', 'coconut', 'vanilla', 'glaze', 'wellsville', 'baked', 'dreamed', 'recipe', 'liked', 'photographing', 'finalist', 'bolker', 'chandler', 'heads', 'welton', 'becket', 'architect', 'slides', 'renderings', 'threebuilding', 'foliage', 'matched', 'reservations', 'cott', 'niven', 'bricker', 'stetson', 'drs', 'robbins', 'lafe', 'ludwig', 'leroy', 'watson', 'wilshire', 'originating', 'midwest', 'passengers', 'practiced', 'examiners', 'violin', 'ilona', 'schmidlseeberg', 'tiny', 'hungarian', 'fritz', 'kreisler', 'concert', 'linen', 'needles', 'yarn', 'budapest', 'tapestries', 'continents', 'uprisings', 'tapestry', 'logistical', 'rainy', 'raincoats', 'fingerpaint', 'grammar', 'gloriana', 'entails', 'did', 'grow', 'hardship', 'pilgrimage', 'streetcar', 'werent', 'ocean', 'dismal', 'theyd', 'rides', 'logic', 'impeccable', 'fool', 'capable', 'legs', 'walks', 'crackpots', 'notices', 'hord', 'edition', 'subtitled', 'mornings', 'postman', 'publisher', 'updated', 'compact', 'everchanging', 'numbers', 'addresses', 'residences', 'marriages', 'stars', 'denote', 'cooper', 'coopers', 'worrell', 'ghormley', 'pen', 'tudor', 'carla', 'craig', 'mcfarland', 'joanne', 'curry', 'ellsworth', 'currys', 'hartley', 'gregg', 'valerie', 'mcalister', 'duque', 'elizabeth', 'browning', 'brownings', 'cynthia', 'ludlow', 'todd', 'huntington', 'huntingtons', 'pasadena', 'listings', 'haskins', 'judy', 'mcalester', 'pfau', 'pauleys', 'chantilly', 'arden', 'moulton', 'moultons', 'windsor', 'beesemyers', 'connecticut', 'residing', 'raoul', 'esnards', 'exchanged', 'residence', 'hazard', 'laguna', 'wangemans', 'ransom', 'chases', 'oxford', 'eng', 'olerichs', 'aderholds', 'henri', 'chapelles', 'berteros', 'egerton', 'crispin', 'armisteads', 'lockies', 'anthony', 'longinotti', 'newcomers', 'carbones', 'panama', 'geddes', 'macgregors', 'althaus', 'heres', 'childs', 'execute', 'puppets', 'lamp', 'puppet', 'flexible', 'lamps', 'delight', 'accent', 'wired', 'height', 'socket', 'inches', 'tube', 'inverted', 'foot', 'hang', 'pulling', 'manipulate', 'suspend', 'fixture', 'tying', 'desired', 'resting', 'accord', 'whims', 'shade', 'adequate', 'sufficiently', 'disharmony', 'playtime', 'reminiscent', 'circus', 'merrygoround', 'scalloped', 'edge', 'appealing', 'americas', 'decorators', 'shrewd', 'cabinetmakers', 'era', 'appreciated', 'antiques', 'lurked', 'utilitarian', 'tricked', 'nondescript', 'supposedly', 'knocks', 'relegated', 'parlor', 'homemakers', 'decorator', 'leland', 'alden', 'housewives', 'craftsmen', 'innate', 'eighteenth', 'escapes', 'bonanza', 'versatile', 'kings', 'outfit', 'specializing', 'skits', 'vocals', 'comedy', 'instrumentals', 'distinctly', 'displaying', 'spotlights', 'ciciulla', 'flanked', 'grossman', 'drums', 'guitar', 'batch', 'instruments', 'tuba', 'tambourine', 'augment', 'imagination', 'props', 'crazywonderful', 'nonsense', 'classed', 'pure', 'slapstick', 'rated', 'nightclubs', 'chalk', 'lets', 'noise', 'stick', 'elsewhere', 'bartha', 'oceania', 'lounge', 'cumbancheros', 'flip', 'phillips', 'fireside', 'lasalle', 'jolly', 'accordion', 'refer', 'freida', 'bahia', 'cabana', 'sir', 'judson', 'brings', 'calypso', 'capers', 'leighton', 'springing', 'ringsiders', 'rum', 'galt', 'skip', 'hovarter', 'renolake', 'tahoe', 'rusty', 'marskmen', 'tune', 'toppers', 'fike', 'exschoolteacher', 'pursuing', 'rhythm', 'reminiscence', 'repartee', 'sidemen', 'smoother', 'substantially', 'format', 'kemm', 'piano', 'wes', 'bass', 'trumpet', 'kelly', 'keyboarding', 'als', 'maestros', 'personality', 'rapport', 'skips', 'boogie', 'accompanying', 'bouncy', 'frantic', 'appraisal', 'cafe', 'ownership', 'kissak', 'bossman', 'retains', 'decor', 'chandeliers', 'undergone', 'remodeling', 'yokel', 'specialize', 'steaks', 'chops', 'prime', 'beef', 'toms', 'dish', 'stuffed', 'shrimp', 'bandstand', 'features', 'decicco', 'pianist', 'tictactoe', 'heilman', 'hubies', 'lorain', 'preclude', 'reopening', 'sunman', 'cornering', 'lauderdale', 'vivacious', 'redhead', 'debuts', 'brunches', 'buffets', 'mackey', 'airlines', 'sunshine', 'bimini', 'plotting', 'monthlong', 'drinkhouse', 'pals', 'reunion', 'playboy', 'gould', 'hasnt', 'chum', 'mexican', 'which', 'understandable', 'youve', 'sampled', 'peppery', 'pualani', 'randy', 'avon', 'searles', 'papa', 'gill', 'bandish', 'morgart', 'mouse', 'trap', 'moffett', 'rickshaw', 'bea', 'morley', 'fazio', 'ohare', 'michaels', 'newfoundland', 'distinguished', 'placentia', 'smallwood', 'productions', 'le', 'theatre', 'dart', 'du', 'ballet', 'carlo', 'ballets', 'francesca', 'rimini', 'performers', 'milenoff', 'coral', 'gables', 'ximenezvargas', 'espagnol', 'jorge', 'bolet', 'bali', 'hollywood', 'library', 'gretchen', 'schenk', 'author', 'lecturer', 'whelan', 'discuss', 'librarianboard', 'relationships', 'librarian', 'workshops', 'tallahassee', 'jacksonville', 'orlando', 'acquaint', 'aquinas', 'subsequent', 'stranahan', 'pompano', 'is', 'communisms', 'doorstep', 'kern', 'crusade', 'brainwashing', 'anticommunist', 'convinced', 'ideological', 'figured', 'schoolers', 'careful', 'antidote', 'biblically', 'christianity', 'communisn', 'enthralled', 'fourhour', 'lecture', 'slack', 'jon', 'braun', 'map', 'abolition', 'citywide', 'dade', 'marking', 'macwhorter', 'ter', 'twiceayear', 'vows', 'strive', 'fundamentals', 'uphold', 'lois', 'rae', 'pamela', 'shari', 'bedtime', 'prayers', 'stories', 'twoyearold', 'miffed', 'prayertime', 'dades', 'blanton', 'lutheran', 'treadwell', 'worship', 'nazarene', 'riviera', 'pray', 'participate', 'henderson', 'preach', 'ordained', 'picnic', 'preaching', 'altar', 'densmore', 'headmaster', 'stephens', 'episcopal', 'becomes', 'enrique', 'jorda', 'musical', 'conducting', 'engagements', 'symphonys', 'assignments', 'sinfonica', 'siciliana', 'palermo', 'cologne', 'fivemonth', 'orchestre', 'philharmonique', 'bordeau', 'cecilia', 'jordas', 'conductors', 'renowned', 'violinists', 'yehudi', 'menuhin', 'isaac', 'stern', 'ruggiero', 'ricci', 'abel', 'pianists', 'fleisher', 'slenczynka', 'bishop', 'leningrad', 'kirov', 'finest', 'petipatschaikowsky', 'sleeping', 'incomparably', 'pleasure', 'mine', 'anytime', 'imperial', 'vulgar', 'infantile', 'reactionary', 'aspect', 'persistent', 'indicates', 'stultifying', 'capitalist', 'boobify', 'choreography', 'undistinguished', 'shapeless', 'assemblage', 'selfplagiarisms', 'totally', 'kirovs', 'utterly', 'captivating', 'precise', 'enchantment', 'numerous', 'ova', 'eva', 'aya', 'exclusively', 'winners', 'contests', 'omsk', 'pinsk', 'stalingr', 'oops', 'discover', 'crowning', 'virtue', 'friendliness', 'frankness', 'peculiar', 'ohthepainofit', 'impoverished', 'dukes', 'filial', 'piety', 'goldwater', 'irina', 'kolpakova', 'suavity', 'lightness', 'sparkle', 'refinement', 'incomparable', 'alla', 'sizova', 'delightful', 'bluebird', 'yuri', 'soloviev', 'wonderfully', 'virile', 'acrobatic', 'poetic', 'nijinsky', 'vladilen', 'semenov', 'danseur', 'noble', 'konstantin', 'shatilov', 'character', 'inna', 'zubkovskaya', 'lilac', 'fairy', 'cast', 'virsaladze', 'spacious', 'sumptuous', 'dreams', 'peasant', 'courtly', 'muted', 'pastellike', 'style', 'harmonies', 'scenery', 'evegeni', 'dubovskoi', 'soloists', 'solos', 'concertmaster', 'lumia', 'traveling', 'auspices', 'chamber', 'sustaining', 'tenconcert', 'erroneously', 'chronicle', 'busied', 'fixing', 'toys', 'sponsoring', 'toy', 'franciscans', 'discarded', 'offduty', 'firehouses', 'stonestown', 'warehouse', 'listing', 'sex', 'ages', 'cellist', 'pablo', 'casals', 'instrument', 'charmed', 'rehearsal', 'luis', 'munoz', 'spanishborn', 'lend', 'naughty', 'stuff', 'ought', 'immorality', 'billed', 'towering', 'monument', 'sins', 'ancient', 'threehour', 'romans', 'harmless', 'gray', 'imagine', 'naughtier', 'watchers', 'bored', 'senseless', 'brutality', 'sadism', 'adventures', 'ozzie', 'decadence', 'nymphomaniacs', 'privateeye', 'actors', 'unknowns', 'lex', 'anita', 'ekberg', 'unfamiliar', 'herridge', 'seaside', 'villa', 'fellini', 'silent', 'films', 'boasted', 'tease', 'slip', 'drunk', 'knees', 'pillow', 'feathers', 'frigid', 'silly', 'fairies', 'spell', 'fourletter', 'begun', 'swinging', 'shocker', 'dud', 'detract', 'chronicles', 'paine', 'knickerbocker', 'summed', 'neatly', 'enthralling', 'heartbreaking', 'unlinked', 'glories', 'moderates', 'literature', 'poets', 'ussr', 'channel', 'ventilates', 'kqed', 'capello', 'musica', 'exploring', 'titled', 'franciscos', 'venerable', 'mandarin', 'cantonese', 'chiuchow', 'tip', 'language', 'briskly', 'austere', 'racy', 'cap', 'leather', 'expensive', 'where', 'fluid', 'ha', 'enriching', 'debonair', 'fins', 'windandwater', 'oases', 'gulped', 'gallons', 'wiping', 'headlights', 'chrome', 'ok', 'polished', 'windshield', 'stuck', 'nozzle', 'tank', 'gloomily', 'smallest', 'mileage', 'unhappily', 'clobbers', 'crunch', 'die', 'fairweather', 'yesteryear', 'finned', 'fore', 'aft', 'darling', 'doormen', 'tipped', 'caps', 'politely', 'tuck', 'cadillacs', 'doorman', 'calm', 'blood', 'muchcopied', 'craftsman', 'duncan', 'phyfe', 'snubbed', 'furnishings', 'acquired', 'sofas', 'mansions', 'heirs', 'descendants', 'rutherford', 'tranquility', 'andover', 'authenticated', 'uncommon', 'acquisition', 'consisting', 'sidechairs', 'armchairs', 'undertaken', 'redecoration', 'jacqueline', 'secure', 'miniature', 'americana', 'refurbishing', 'unveiled', 'rarity', 'antiquarians', 'mantlepiece', 'attributed', 'mcintyre', 'woodcarver', 'competed', 'mantel', 'demolished', 'fireplace', 'painted', 'match', 'paneling', 'lenygon', 'lenygons', 'associates', 'lehman', 'mccluskey', 'jussel', 'wellknown', 'transylvania', 'brevard', 'greet', 'cardiac', 'delighted', 'welcoming', 'approached', 'mansion', 'spangled', 'banner', 'hail', 'marine', 'grateful', 'mounting', 'shaking', 'pfohl', 'whiteclad', 'dozens', 'stretching', 'horizon', 'englandborn', 'vermont', 'duplicated', 'suntanned', 'paused', 'tent', 'blonde', 'holbrook', 'rainier', 'nuns', 'sharpe', 'tag', 'lemonade', 'teenage', 'musicloving', 'gathered', 'listening', 'rapt', 'liaison', 'sousa', 'stripes', 'letitia', 'baldrige', 'correspondence', 'carolina', 'gallery', 'bouton', 'gallerys', 'curator', 'simultaneous', 'tours', 'remaining', 'visitors', 'rembrandts', 'selfportrait', 'sad', 'noticed', 'raphaels', 'alba', 'madonna', 'monet', 'painting', 'rheims', 'cathedral', 'gogh', 'impressionist', 'benches', 'downstairs', 'lobby', 'bales', 'confederacy', 'aide', 'sculptures', 'blueuniformed', 'renaissance', 'preferred', 'boucher', 'courbet', 'fra', 'angelico', 'impressed', 'rotunda', 'fountain', 'seemingly', 'remote', 'collonaded', 'sphynxes', 'perched', 'bustling', 'masons', 'pike', 'highceilinged', 'eulogized', 'historian', 'poet', 'journalist', 'soldier', 'musician', 'laying', 'wreath', 'crypt', 'biennial', 'jurisdiction', 'tomb', 'washingtonalexandria', 'alexandria', 'monotonous', 'discouraged', 'chatting', 'hurt', 'ignoring', 'disgusted', 'miserable', 'listened', 'poured', 'discussing', 'ugf', 'nearest', 'separately', 'antagonisms', 'solving', 'evenings', 'preceeded', 'roughhousing', 'outsiders', 'blacks', 'measured', 'givers', 'skyline', 'materialize', 'rangers', 'leisurely', 'colors', 'haze', 'crucial', 'attitude', 'exchanges', 'confrontation', 'inevitable', 'desirable', 'realities', 'decisive', 'define', 'implement', 'nikita', 'deterioration', 'heightened', 'announcements', 'catastrophe', 'stakes', 'encounters', 'churchill', 'diplomacy', 'summit', 'fulldress', 'lull', 'inroads', 'informal', 'illusory', 'denunciation', 'tended', 'propaganda', 'onesided', 'concessions', 'negotiation', 'aims', 'summitry', 'preinaugural', 'intimated', 'inauguration', 'confronted', 'delicate', 'shifting', 'smiles', 'toughness', 'debates', 'compel', 'awakening', 'shift', 'weakened', 'illusion', 'formulating', 'above', 'khrushchevs', 'eventual', 'ideally', 'concrete', 'adversary', 'probe', 'satisfy', 'inflexible', 'sparing', 'tensions', 'caution', 'willingness', 'reflected', 'llewellyn', 'dated', 'novosibirsk', 'broad', 'briefly', 'intense', 'inner', 'advisability', 'precisely', 'deteriorating', 'alarmingly', 'russians', 'threeman', 'directorate', 'veto', 'pressures', 'secretly', 'testing', 'troubled', 'stalemate', 'unchecked', 'fatal', 'china', 'urgent', 'tripartite', 'principle', 'organs', 'insistence', 'initially', 'dampened', 'lest', 'episodes', 'dangerously', 'erroneous', 'wests', 'blundered', 'impotency', 'penetration', 'warnings', 'impunity', 'strengthened', 'vietnam', 'overreach', 'cocky', 'aggressive', 'grave', 'miscalculation', 'iran', 'turning', 'midst', 'deliberations', 'embassy', 'negotiating', 'vigorous', 'wellinformed', 'demonstrated', 'reactions', 'disapproval', 'expectation', 'salutary', 'rely', 'instincts', 'adversaries', 'plain', 'pause', 'equation', 'dragged', 'reluctantly', 'initiative', 'conversations', 'disabuse', 'notions', 'disunity', 'feelings', 'onus', 'belongs', 'interpret', 'panic', 'exploit', 'scope', 'biologist', 'mechanisms', 'adaptation', 'mollusks', 'evolutionary', 'scheme', 'cancel', 'biology', 'aptly', 'illustrate', 'accomplishment', 'brethren', 'cease', 'wonder', 'miracle', 'centuries', 'minorities', 'prone', 'zeal', 'generosity', 'flattering', 'retrospect', 'unified', 'allocation', 'diocesan', 'catholics', 'responded', 'bishops', 'owe', 'resourcefulness', 'esprit', 'protective', 'arithmetical', 'detachment', 'achieves', 'orientation', 'identification', 'founded', 'supernatural', 'nourished', 'wellsprings', 'devotion', 'satisfying', 'dimension', 'uniquely', 'comradeship', 'sparks', 'blunts', 'had', 'goaded', 'subsidized', 'parish', 'staffed', 'produces', 'familycommunity', 'anomalies', 'wasteful', 'duplication', 'pitifully', 'enrollments', 'clustered', 'coeducational', 'isolated', 'represent', 'riot', 'collegiate', 'temper', 'tone', 'resembled', 'resembles', 'preacademic', 'intramural', 'qualifications', 'specialized', 'brand', 'participation', 'decisionmaking', 'teacheremployee', 'eg', 'employee', 'inapt', 'outsider', 'acclimatized', 'secular', 'academic', 'scholar', 'citizenship', 'emerges', 'loath', 'delegate', 'inhomogeneous', 'mortal', 'varying', 'temperament', 'interests', 'capabilities', 'select', 'owns', 'oftrepeated', 'phrase', 'attainment', 'pictured', 'paradox', 'framed', 'clericallay', 'partners', 'grips', 'recruiting', 'caliber', 'spreads', 'tightly', 'knit', 'expressions', 'lowkey', 'confirming', 'stereotype', 'boycott', 'declines', 'gamble', 'guarantee', 'tenure', 'significant', 'invests', 'coveted', 'depreciation', 'exaggerate', 'salaries', 'substitute', 'intangibles', 'cause', 'earning', 'broadly', 'intangible', 'derive', 'underestimate', 'laymans', 'reservoir', 'idealism', 'stimulus', 'communication', 'actual', 'dichotomy', 'ingroup', 'baneful', 'envision', 'definitive', 'highsounding', 'titles', 'faked', 'competent', 'versed', 'technique', 'preset', 'conclusions', 'destroying', 'familiar', 'useful', 'artificial', 'busywork', 'ersatz', 'structured', 'luncheontable', 'difficulty', 'ie', 'administers', 'eating', 'nebraska', 'antimonopoly', 'fallacious', 'argue', 'restricted', 'restriction', 'or', 'anatole', 'equality', 'forbid', 'begging', 'generated', 'disrepute', 'fallen', 'mcclellans', 'jurisdictional', 'squabbles', 'plagued', 'shocked', 'stoppages', 'allegedly', 'trivial', 'disputes', 'sums', 'equivalent', 'provoked', 'indignation', 'footing', 'employers', 'undertakes', 'aircraft', 'machinists', 'attributable', 'overtime', 'defective', 'regulation', 'unresponsive', 'abuses', 'electrical', 'evoked', 'antitrust', 'justified', 'rationale', 'inform', 'undefined', 'hypocrisy', 'foolish', 'heavyelectricalgoods', 'rig', 'allocate', 'pricesetting', 'multiproduct', 'marginal', 'manufacture', 'accounting', 'varied', 'enterprises', 'flex', 'muscles', 'accuse', 'monopoly', 'selfrestraint', 'protection', 'implicit', 'wideopen', 'decree', 'fellows', 'tool', 'theory', 'govern', 'enforcers', 'managements', 'facts', 'flood', 'mea', 'culpas', 'scapegoats', 'usefulness', 'thurman', 'folklore', 'capitalism', 'unconsciously', 'ideology', 'uncontrolled', 'dictatorship', 'penalties', 'invoked', 'pp', 'empires', 'fantastic', 'evaluating', 'occasional', 'irrational', 'nolo', 'contendere', 'nominal', 'untrammeled', 'sentences', 'unprecedented', 'prosecutions', 'ineptness', 'fictitious', 'impersonal', 'devised', 'pretends', 'rational', 'advocating', 'impolitic', 'tafthartley', 'landrumgriffin', 'collectivebargaining', 'palmed', 'organizers', 'gigantic', 'tortured', 'reasoning', 'ambition', 'exercise', 'squarely', 'commodities', 'bags', 'wheat', 'unsupported', 'agricultural', 'subsidy', 'reacting', 'antagonism', 'imposes', 'commodity', 'nineteenthcentury', 'adam', 'wealth', 'parliament', 'combining', 'eighteenthcentury', 'customs', 'outlawed', 'monopolies', 'conspiracies', 'carpenters', 'tenhour', 'denounced', 'combinations', 'convert', 'pious', 'hypocrisies', 'vs', 'savage', 'officious', 'improper', 'regulated', 'manufactured', 'article', 'exist', 'mechanic', 'necessity', 'enacting', 'monopolistic', 'measures', 'aimed', 'hoffa', 'amend', 'norrislaguardia', 'injunctions', 'extend', 'aeronautics', 'assuring', 'deemed', 'exemption', 'steamship', 'irrationality', 'guise', 'giant', 'danbury', 'hatters', 'loewe', 'consumers', 'stating', 'immunization', 'interpretation', 'emasculated', 'coal', 'alleging', 'interfered', 'interrupt', 'indirect', 'threefront', 'closeddoor', 'herter', 'afterward', 'tennessees', 'gore', 'understatement', 'erupted', 'fronts', 'undermining', 'congo', 'chaos', 'offensives', 'stirred', 'tanks', 'artillery', 'dictator', 'blunt', 'consulate', 'staffs', 'eleven', 'foreignpolicy', 'selfrespect', 'endure', 'through', 'presidentelect', 'breakoff', 'secretarydesignate', 'rusk', 'reacted', 'battalions', 'invaded', 'pentagons', 'precautionary', 'readiness', 'carriers', 'lexington', 'bennington', 'swarm', 'troopships', 'uss', 'okinawa', 'southward', 'exaggeration', 'cautious', 'sorts', 'coldwar', 'chaotic', 'mountainous', 'indian', 'battleground', 'indochina', 'chinese', 'predictably', 'dulles', 'specimen', 'appeasement', 'becoming', 'calamity', 'mourn', 'seize', 'parading', 'intrigue', 'drops', 'ilyushin', 'transports', 'cool', 'acknowledgment', 'wars', 'terribly', 'ominous', 'gores', 'confront', 'turmoil', 'sluice', 'gates', 'coyly', 'masquerades', 'fought', 'unspoken', 'menaced', 'bottleneck', 'counting', 'noses', 'deadly', 'breaching', 'conservativeliberal', 'namely', 'meyers', 'colmer', 'calmer', 'caucusing', 'seniority', 'godliness', 'dour', 'gangling', 'choppy', 'gait', 'swung', 'internationalist', 'diehard', 'suspicious', 'constituents', 'segregationist', 'antinegro', 'farout', 'democraticsponsored', 'rayburnjohnson', 'embarrassing', 'pretext', 'colmers', 'ouster', 'lukewarm', 'antikennedy', 'electors', 'reprisals', 'unheard', 'forgive', 'prodigal', 'dixiecrats', 'unscathed', 'rebellion', 'campaigned', 'anticolmer', 'reprisal', 'whites', 'huddling', 'tense', 'southerner', 'flatly', 'mister', 'thereupon', 'oust', 'inferior', 'leaked', 'missouris', 'cannon', 'purple', 'unconscionable', 'shouted', 'smithcolmer', 'dreadful', 'excluding', 'porkbarrel', 'pork', 'barrel', 'vinson', 'raged', 'cloakrooms', 'caucuses', 'lose', 'numbered', 'caucus', 'smelling', 'purged', 'mississippians', 'maverick', 'arenas', 'applying', 'whiplash', 'loomed', 'specter', 'costlier', 'southerners', 'chairmanships', 'truncated', 'unworkable', 'wilbur', 'deliberately', 'coolheaded', 'facesaving', 'version', 'liberalconservative', 'contrast', 'guerrilla', 'forma', 'guides', 'restrict', 'legislationdelaying', 'filibusters', 'wideranging', 'bipartisan', 'minnesotas', 'hubert', 'humphrey', 'leverett', 'saltonstall', 'phalanx', 'traditionally', 'filibuster', 'mexicos', 'senates', 'notorious', 'threefifths', 'hardtoget', 'upped', 'ante', 'cloture', 'mere', 'modification', 'congresses', 'binding', 'choke', 'hopefully', 'perennial', 'virtually', 'convening', 'presiding', 'painful', 'chore', 'officiate', 'electoral', 'declaration', 'tight', 'presidency', 'staunchest', 'harrowing', 'lap', 'pros', 'gaping', 'disbelief', 'licked', 'bite', 'midway', 'holes', 'augusta', 'teeth', 'washed', 'rainstorm', 'bogeyed', 'doublebogeyed', 'scrambled', 'mishap', 'scorecard', 'tears', 'seveniron', 'strayed', 'lodged', 'sand', 'wedge', 'slope', 'afterwards', 'coe', 'lastround', 'hasty', 'agonizing', 'graciously', 'putted', 'recover', 'composure', 'visibly', 'overshot', 'putting', 'beside', 'stared', 'amazement', 'rounds', 'comfortable', 'closest', 'secondplace', 'lean', 'leathery', 'topnotch', 'jitters', 'overtake', 'disappointing', 'oneoverpar', 'intact', 'threeround', 'deliberate', 'baltimorean', 'holed', 'erratic', 'washedout', 'meteorological', 'mano', 'spontaneously', 'sight', 'prestige', 'pensacola', 'winnings', 'paired', 'threesome', 'duels', 'whichever', 'undisputed', 'awed', 'outplayed', 'instant', 'rivalry', 'instantly', 'drizzly', 'skiddy', 'moist', 'boldly', 'flagstick', 'consequences', 'rosburg', 'enormous', 'horde', 'unquestionably', 'essentially', 'nicklaus', 'venturi', 'shaky', 'accurate', 'supersensitive', 'putter', 'augustas', 'treacheries', 'geriatric', 'cloudless', 'ugly', 'focus', 'destined', 'scoreboards', 'twosome', 'hyndman', 'conspicuously', 'contender', 'pars', 'tidal', 'birdied', 'birdies', 'bogey', 'kel', 'nagle', 'roar', 'parklike', 'landscape', 'answered', 'lining', 'thunderous', 'unmistakably', 'grimace', 'proceeded', 'sink', 'vocalization', 'rolling', 'intervening', 'fairways', 'boldness', 'gifted', 'axiomatic', 'dominate', 'vehemence', 'mar', 'wellplayed', 'overpowered', 'obliterated', 'contemptuous', 'earnest', 'aggressiveness', 'stepped', 'downhill', 'dogleg', 'measuring', 'pine', 'separating', 'having', 'punching', 'settling', 'fourwood', 'hoping', 'bunkered', 'youd', 'forget', 'chipped', 'switched', 'oneiron', 'threewood', 'bogeys', 'drives', 'sublime', 'muscular', 'teammate', 'awe', 'gregory', 'pearson', 'angels', 'borders', 'ridiculous', 'amiable', 'ambled', 'grandslam', 'borrowed', 'successive', 'pinchhitter', 'grumble', 'shrinking', 'knockdown', 'thinning', 'peril', 'endurance', 'doubly', 'jeopardy', 'incorrigible', 'epicure', 'herman', 'thwarted', 'challenger', 'amazing', 'spurt', 'foxx', 'greenberg', 'hack', 'spurred', 'zeroed', 'mariss', 'paces', 'mathematically', 'flourish', 'ideal', 'easier', 'roommates', 'understandably', 'concede', 'primarily', 'quote', 'mvp', 'enjoys', 'seeing', 'cerv', 'airconditioning', 'sleeps', 'couch', 'divide', 'cooking', 'breakfast', 'sandwich', 'oldsmobile', 'strikingly', 'backgrounds', 'fargo', 'nd', 'halfbacks', 'minors', 'recalls', 'wished', 'extent', 'alike', 'hair', 'weigh', 'incredibly', 'overdeveloped', 'shoulders', 'purchases', 'simpsons', 'classified', 'opus', 'millers', 'tropic', 'literary', 'broadened', 'minds', 'passages', 'aloud', 'reporter', 'surprising', 'trait', 'ballplayer', 'pleasant', 'photographers', 'locker', 'volunteered', 'anecdote', 'darkhaired', 'berras', 'stunk', 'candidly', 'occasions', 'shuns', 'dumb', 'angry', 'benched', 'tulsa', 'dutch', 'kerby', 'farrell', 'gentlemen', 'idols', 'heroes', 'sportswriter', 'kidding', 'idolize', 'exyankee', 'aching', 'crushed', 'vowed', 'vow', 'ties', 'zinc', 'cents', 'railroading', 'headandshoulders', 'lefthanded', 'righthanded', 'possess', 'stances', 'dug', 'fierce', 'swings', 'bunters', 'nineteen', 'seconds', 'dash', 'aparicio', 'swift', 'basestealing', 'daring', 'fielders', 'weapon', 'dullest', 'inevitably', 'weaker', 'appropriately', 'startling', 'conspired', 'grew', 'disillusioned', 'disinterested', 'into', 'convair', 'caroline', 'winged', 'actorcrooner', 'sinatra', 'pal', 'cinemactor', 'lawford', 'brotherinlaw', 'entourage', 'sweater', 'frankie', 'capitals', 'armory', 'glutted', 'ella', 'fitzgerald', 'australia', 'cats', 'ensconced', 'armorys', 'ringside', 'doubtless', 'couturier', 'loper', 'ensembles', 'spills', 'stitch', 'catapulted', 'commandant', 'warless', 'pentagon', 'leatherneck', 'accumulation', 'vines', 'weeds', 'moldboard', 'lifted', 'hitched', 'rein', 'geeing', 'hawing', 'tilling', 'deplored', 'noncommissioned', 'belonged', 'someone', 'socks', 'window', 'maurine', 'neuberger', 'brotherly', 'buss', 'elder', 'statesman', 'adlai', 'stevenson', 'ambassadordesignate', 'greene', 'swum', 'cerebrated', 'hearty', 'oldest', 'undergraduate', 'bobbysox', 'dreamboat', 'cacophonist', 'fabian', 'forte', 'tutors', 'classmates', 'toneless', 'lad', 'decathlon', 'rafer', 'gumption', 'aaus', 'tapped', 'cliffhanging', 'rallies', 'crowns', 'tooling', 'zealand', 'prix', 'balding', 'stirling', 'smothered', 'exhaust', 'selfcrimination', 'slob', 'gaudy', 'racing', 'ruddy', 'lazy', 'frustrating', 'has', 'virtues', 'eulogizers', 'ussrs', 'izvestia', 'enterprisingly', 'interviewed', 'redprone', 'comedian', 'chaplin', 'selfexile', 'confided', 'marveled', 'grandiose', 'experiment', 'spooned', 'impressions', 'glimpsed', 'captivated', 'sly', 'transatlantic', 'jetliners', 'europes', 'enigma', 'vaguely', 'connotes', 'newrich', 'eccentricity', 'ardor', 'collecting', 'headlines', 'firstclass', 'fabled', 'philadelphias', 'legend', 'fortune', 'dying', 'boom', 'bargain', 'continent', 'barr', 'barge', 'lavishly', 'bellboys', 'cezannes', 'braques', 'matisses', 'legers', 'picasso', 'giacometti', 'klees', 'hung', 'burglarproof', 'trusted', 'snubbing', 'basel', 'ernst', 'beyeler', 'arranged', 'rhinewestphalia', 'prizes', 'scarcely', 'glanced', 'treasures', 'speculated', 'revenge', 'bare', 'discriminate', 'applicant', 'classrooms', 'bootle', 'admit', 'kindergarten', 'alabama', 'hamilton', 'holmes', 'charlayne', 'valedictorian', 'pretexts', 'skins', 'morehouse', 'journalism', 'detroits', 'tentatively', 'investigators', 'roommate', 'lasted', 'ritual', 'prostitution', 'beatnik', 'teahouse', 'evasive', 'lied', 'desegregated', 'bootles', 'plaintiffs', 'catch', 'chancellor', 'kimpton', 'hunt', 'gripped', 'out', 'grads', 'statesmen', 'conant', 'pondered', 'successors', 'harvards', 'mcgeorge', 'bundy', 'trustee', 'lure', 'scholars', 'happily', 'caltechs', 'geneticist', 'beadle', 'physiology', 'discovering', 'genes', 'heredity', 'nineyear', 'reign', 'tidying', 'typhoon', 'idealist', 'maynard', 'wildly', 'enrollment', 'endowment', 'heady', 'caltech', 'sixthsense', 'recruit', 'excite', 'researchers', 'unexpected', 'speechmaking', 'avidly', 'journal', 'philosopher', 'finger', 'leopold', 'belgians', 'grabbing', 'quarreling', 'historical', 'boundaries', 'geography', 'ethnic', 'groupings', 'leopolds', 'explorers', 'gunmen', 'culture', 'dialects', 'religions', 'mohammedanism', 'paganism', 'ancestor', 'animism', 'ranges', 'steamily', 'equatorial', 'temperate', 'patients', 'trampled', 'disparities', 'belgian', 'administered', 'touched', 'conscience', 'commencing', 'paternalism', 'unmatched', 'colonialism', 'ordinarily', 'independence', 'congolese', 'imagines', 'infant', 'tin', 'cobalt', 'manganese', 'uranium', 'brussels', 'beneficiaries', 'cartels', 'gunther', 'describes', 'societe', 'generale', 'colossus', 'envisaged', 'anaconda', 'producing', 'lumped', 'ruthless', 'exploited', 'compassion', 'instituted', 'ration', 'obliged', 'dole', 'eat', 'hungry', 'puzzle', 'chatte', 'chien', 'indefinite', 'fearing', 'elite', 'unrest', 'manifestly', 'unprepared', 'oversimplification', 'gale', 'prepare', 'colonies', 'clamoring', 'unsure', 'pas', 'une', 'goutte', 'sang', 'detested', 'pedagogue', 'mess', 'motivations', 'guiltless', 'kasavubu', 'splitting', 'balkanizing', 'moise', 'tshombe', 'nearbalkanization', 'federalism', 'notably', 'patrice', 'lumumba', 'hurry', 'fragmentation', 'provincial', 'provinces', 'leopoldville', 'kasai', 'kivu', 'katanga', 'equator', 'westernstyle', 'bicameral', 'universal', 'wellwishers', 'assume', 'respectable', 'frictions', 'publique', 'officered', 'twentyfour', 'tribesmen', 'commenced', 'wellarmed', 'cannibalistic', 'mutiny', 'rioting', 'raping', 'looting', 'engulfed', 'civilians', 'paratroops', 'mineralrich', 'seceded', 'succeeding', 'blamed', 'abstaining', 'vague', 'withdrawal', 'secretarygeneral', 'hammarskjold', 'preferable', 'nonwhite', 'tunisia', 'guinea', 'mali', 'eire', 'sweden', 'reluctant', 'withdraw', 'obstructed', 'complicated', 'uns', 'initiating', 'secessionist', 'kalonji', 'secede', 'meddle', 'dispatching', 'intervene', 'openly', 'threemonth', 'exasperated', 'mobutu', 'flung', 'redoubled', 'obstructionist', 'departed', 'withdrawing', 'uniformed', 'variously', 'mercenaries', 'directive', 'interfere', 'unify', 'federalize', 'balkanize', 'smoldered', 'flickered', 'kidnaped', 'appropriate', 'occurrence', 'resort', 'eject', 'lumumbas', 'reconvention', 'mccloys', 'reliance', 'thorny', 'bizerte', 'tunis', 'imbroglio', 'quo', 'mediterranean', 'tunisian', 'bahi', 'ladgham', 'irreconcilable', 'habib', 'bourguiba', 'picks', 'uruguay', 'interamerican', 'nationalist', 'chinas', 'dapper', 'diminutive', 'chen', 'cheng', 'chiang', 'kaisheks', 'emissary', 'outer', 'mongolia', 'woo', 'peking', 'abstention', 'mongolias', 'conferred', 'emissaries', 'guatemala', 'nepal', 'goodwill', 'skyjacked', 'fourjet', 'boeing', 'stopovers', 'nightcoach', 'thirtyone', 'stewardess', 'aisle', 'bent', 'stomach', 'sick', 'salvador', 'desert', 'carnegey', 'rickards', 'hijacked', 'midflight', 'peruvian', 'trimotor', 'arequipa', 'cubanamerican', 'electra', 'newsweek', 'stalling', 'guns', 'radioed', 'skyjackers', 'refuel', 'mccauley', 'sacramento', 'recruits', 'awoke', 'nap', 'nut', 'recruiter', 'volunteer', 'hostages', 'mullen', 'pfc', 'augustine', 'gilman', 'boxer', 'immigration', 'sheriffs', 'surged', 'submachine', 'fuels', 'consumed', 'swap', 'propellerdriven', 'hijackers', 'airplane', 'cubas', 'steal', 'embargo', 'shadows', 'mountains', 'pry', 'baggage', 'luggage', 'subsequently', 'bearden', 'exconvict', 'coolidge', 'cody', 'highschool', 'beardens', 'slug', 'simmons', 'ultimatum', 'takeoff', 'taxiing', 'raced', 'slugs', 'flattened', 'silenced', 'inboard', 'engines', 'ambulances', 'crosby', 'eased', 'unarmed', 'distracted', 'stewardesses', 'toni', 'besset', 'pocket', 'nodded', 'frogmarched', 'kidnapping', 'transporting', 'peddle', 'precedence', 'unaccustomed', 'unanimity', 'peacetime', 'requested', 'holdback', 'mutterers', 'labeled', 'prudently', 'tacked', 'longrange', 'allimportant', 'foreignaid', 'stew', 'mulligatawny', 'poormouth', 'lowliest', 'ceased', 'enlivened', 'maine', 'idaho', 'menu', 'drab', 'smelts', 'softshell', 'crabs', 'bean', 'soup', 'dubois', 'citizenry', 'ventured', 'haute', 'cuisine', 'frenchborn', 'maitre', 'dhotel', 'tollroad', 'turnpikes', 'toll', 'payoff', 'speculative', 'streams', 'speculations', 'investments', 'tending', 'poors', 'slipped', 'bucked', 'rises', 'outnumber', 'morethanordinary', 'risen', 'unmarried', 'investor', 'happening', 'blyth', 'lags', 'turnpike', 'slumped', 'preceding', 'successes', 'tollrate', 'extensions', 'tolls', 'richmondpetersburg', 'access', 'illustration', 'further', 'wichita', 'kans', 'deficiency', 'opportunities', 'skyway', 'planners', 'default', 'defaulted', 'margins', 'attracting', 'breakeven', 'competitively', 'luther', 'toured', 'italys', 'fiat', 'olivetti', 'typewriters', 'calculating', 'cabled', 'turin', 'enables', 'fraction', 'skilled', 'earns', 'infrequent', 'underwood', 'underwoods', 'exports', 'layout', 'designconscious', 'salesconscious', 'advertisingconscious', 'inflow', 'vigor', 'textiles', 'imports', 'textile', 'textileimporting', 'textileexporting', 'industrialized', 'lessdeveloped', 'exporting', 'lowwage', 'highwage', 'textileproducing', 'curbing', 'limiting', 'lancashire', 'capture', 'loudly', 'protest', 'spanish', 'portuguese', 'pour', 'unrestrictedly', 'pakistanis', 'chafing', 'bilateral', 'quotas', 'gradual', 'stabilization', 'clue', 'modernization', 'shrinkage', 'transferring', 'feasible', 'forcing', 'shrink', 'whats', 'handwriting', 'highestpaid', 'miners', 'cheap', 'steelmakers', 'mouths', 'wales', 'steelmaker', 'takings', 'welsh', 'markets', 'ton', 'cheaper', 'rail', 'mines', 'mechanization', 'seams', 'attactive', 'nationalized', 'twisting', 'productivity', 'communistled', 'unprofitable', 'borrower', 'fivecent', 'fiction', 'rentals', 'apologetically', 'sorry', 'variations', 'everpresent', 'libraries', 'grist', 'readers', 'lovers', 'nonfiction', 'clientele', 'budgets', 'hopelessly', 'startlingly', 'exceed', 'librarians', 'richest', 'plight', 'proportionately', 'limitations', 'bounty', 'contrasts', 'density', 'crosssection', 'extreme', 'upper', 'sparsely', 'populated', 'nassau', 'highdensity', 'ample', 'thriving', 'wary', 'wellstocked', 'cherish', 'joining', 'radical', 'autonomy', 'preserved', 'maintains', 'advantages', 'foresee', 'distant', 'coop', 'requires', 'volumes', 'nucleus', 'develops', 'thirty', 'fifty', 'capita', 'inclusive', 'recognizes', 'broaden', 'everyday', 'hempstead', 'tools', 'backbone', 'specialization', 'microfilm', 'founding', 'periodicals', 'interlibrary', 'connected', 'teletype', 'canvas', 'psychology', 'religion', 'freeport', 'biography', 'centered', 'levittown', 'hewlettwoodmere', 'repository', 'wholly', 'quartercentury', 'comprehensive', 'saves', 'bulk', 'discounts', 'bookkeeping', 'billing', 'resource', 'documentary', 'catalogue', 'classics', 'nanook', 'emperors', 'nightingale', 'balloon', 'understands', 'responsibilities', 'conducts', 'wellplanned', 'bookreview', 'bookselection', 'sample', 'copies', 'evaluate', 'preschool', 'grassroots', 'prepares', 'displays', 'booklists', 'brochures', 'publishes', 'newsletter', 'governed', 'geographically', 'bear', 'borne', 'multiplying', 'maligned', 'coops', 'citizen', 'advances', 'educated', 'discriminating', 'slave', 'spiritual', 'restraint', 'grows', 'translate', 'inadequacy', 'vigorously', 'pupils', 'render', 'vitally', 'richer', 'fuller']\n"
          ],
          "name": "stdout"
        }
      ]
    },
    {
      "cell_type": "markdown",
      "metadata": {
        "id": "2QECE2k-c7d3"
      },
      "source": [
        "### **2. Chia train, test :**"
      ]
    },
    {
      "cell_type": "code",
      "metadata": {
        "id": "Vc1IGIYLQjVG"
      },
      "source": [
        "X_train, X_test, y_train, y_test = train_test_split(X, y, test_size=0.25, random_state=1000)"
      ],
      "execution_count": 22,
      "outputs": []
    },
    {
      "cell_type": "code",
      "metadata": {
        "colab": {
          "base_uri": "https://localhost:8080/"
        },
        "id": "ZOvBXRb-QPtd",
        "outputId": "d5a741a6-4998-4eeb-9fb3-95ddcd750e4a"
      },
      "source": [
        "print(\"X_train size : \" + str(X_train.shape))\n",
        "print(\"X_test size : \" + str(X_test.shape))"
      ],
      "execution_count": 26,
      "outputs": [
        {
          "output_type": "stream",
          "text": [
            "X_train size : (34016,)\n",
            "X_test size : (11339,)\n"
          ],
          "name": "stdout"
        }
      ]
    },
    {
      "cell_type": "markdown",
      "metadata": {
        "id": "4qzMTr_A0_6o"
      },
      "source": [
        "### **3. Dùng CountVectorizer để vectorize (đếm số lần xuất hiện) :**\n"
      ]
    },
    {
      "cell_type": "markdown",
      "metadata": {
        "id": "cVOs0z6ydLdu"
      },
      "source": [
        "* Hàm trả về ma trận scipy.sparse.csr.csr_matrix lưu trữ vị trí của từ đó trong từ điển và số lần xuất hiện trong câu :"
      ]
    },
    {
      "cell_type": "code",
      "metadata": {
        "colab": {
          "base_uri": "https://localhost:8080/"
        },
        "id": "5sBJaMkBQ_rG",
        "outputId": "9d127d85-b1d8-4618-a436-31fe2d4a1de9"
      },
      "source": [
        "vectorizer_CV = CountVectorizer(stop_words = stop_words, vocabulary = corpora_nltk, strip_accents = 'ascii')\n",
        "vectorizer_CV.fit(X_train)\n",
        "\n",
        "X_train_CV = vectorizer_CV.transform(X_train)\n",
        "X_test_CV  = vectorizer_CV.transform(X_test)\n",
        "print(X_train_CV.shape)"
      ],
      "execution_count": 27,
      "outputs": [
        {
          "output_type": "stream",
          "text": [
            "(34016, 12085)\n"
          ],
          "name": "stdout"
        }
      ]
    },
    {
      "cell_type": "markdown",
      "metadata": {
        "id": "E8Q4gcl31avE"
      },
      "source": [
        "### **4. Dùng TF-IDF:**"
      ]
    },
    {
      "cell_type": "markdown",
      "metadata": {
        "id": "0lOYhRRLdku4"
      },
      "source": [
        "![tf.webp](data:image/webp;base64,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)\n",
        "\n",
        "Trong đó :\n",
        "* tf(t, d) : tần suất xuất hiện của từ trong văn bản d\n",
        "* f(t, d) : số lần xuất hiện của từ t trong văn bản d\n",
        "* max({f(w, d) : w ∈ d}): số lần xuất hiện của từ có số lần xuất hiện nhiều nhất trong văn bản d"
      ]
    },
    {
      "cell_type": "markdown",
      "metadata": {
        "id": "7N5ZYS_Ze1HR"
      },
      "source": [
        "![idf.webp](data:image/webp;base64,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)\n",
        "\n",
        "Trong đó:\n",
        "* idf(t, D): giá trị của từ t trong tập văn bản D\n",
        "* |D|: Tổng số văn bản trong tập D\n",
        "* |{d ∈ D : t ∈ d}|: thể hiện số văn bản trong tập D có chứa từ t"
      ]
    },
    {
      "cell_type": "code",
      "metadata": {
        "colab": {
          "base_uri": "https://localhost:8080/"
        },
        "id": "zN2X7ESA2CqA",
        "outputId": "86552c32-8423-4df2-8e05-ed7f257314ba"
      },
      "source": [
        "vectorizer_TF = TfidfVectorizer(stop_words = stop_words, vocabulary = corpora_nltk, strip_accents = 'ascii')\n",
        "vectorizer_TF.fit(X_train)\n",
        "\n",
        "X_train_TF = vectorizer_TF.transform(X_train)\n",
        "X_test_TF  = vectorizer_TF.transform(X_test)\n",
        "print(X_train_TF.shape)"
      ],
      "execution_count": 28,
      "outputs": [
        {
          "output_type": "stream",
          "text": [
            "(34016, 12085)\n"
          ],
          "name": "stdout"
        }
      ]
    },
    {
      "cell_type": "markdown",
      "metadata": {
        "id": "7gxIDtz3cMxf"
      },
      "source": [
        "## **IV. Train model:**"
      ]
    },
    {
      "cell_type": "markdown",
      "metadata": {
        "id": "FsnqA3GzM_m6"
      },
      "source": [
        "* Chúng em sử dụng nhiều thuật toán máy học khác nhau cho bài toán phân lớp này để có thể chọn được thuật toán có accuracy cao nhất."
      ]
    },
    {
      "cell_type": "markdown",
      "metadata": {
        "id": "13y5pj5uft8X"
      },
      "source": [
        "### **1. Support vector machine (SVM)**"
      ]
    },
    {
      "cell_type": "code",
      "metadata": {
        "id": "TknvcZKO7-tj"
      },
      "source": [
        "classifier_SVM_CV = LinearSVC().fit(X_train_CV, y_train)\n",
        "score_SVM_CV = classifier_SVM_CV.score(X_test_CV, y_test)"
      ],
      "execution_count": 29,
      "outputs": []
    },
    {
      "cell_type": "code",
      "metadata": {
        "id": "DBXN7XQp8-Q3"
      },
      "source": [
        "classifier_SVM_TF = LinearSVC().fit(X_train_TF, y_train)\n",
        "score_SVM_TF = classifier_SVM_TF.score(X_test_TF, y_test)"
      ],
      "execution_count": 30,
      "outputs": []
    },
    {
      "cell_type": "markdown",
      "metadata": {
        "id": "hN-KfCmsf4T1"
      },
      "source": [
        "### **2. Logistic Regression**"
      ]
    },
    {
      "cell_type": "code",
      "metadata": {
        "id": "uDvedAPNsZYO"
      },
      "source": [
        "classifier_LR_CV = LogisticRegression().fit(X_train_CV, y_train)\n",
        "score_LR_CV = classifier_LR_CV.score(X_test_CV, y_test)"
      ],
      "execution_count": 31,
      "outputs": []
    },
    {
      "cell_type": "code",
      "metadata": {
        "id": "yxu-_I3a2dX-"
      },
      "source": [
        "classifier_LR_TF = LogisticRegression().fit(X_train_TF, y_train)\n",
        "score_LR_TF = classifier_LR_TF.score(X_test_TF, y_test)"
      ],
      "execution_count": 32,
      "outputs": []
    },
    {
      "cell_type": "markdown",
      "metadata": {
        "id": "gHCNo17zhkf-"
      },
      "source": [
        "### **3. Ridge classifier**"
      ]
    },
    {
      "cell_type": "code",
      "metadata": {
        "id": "8lAnAwOwhuaJ"
      },
      "source": [
        "classifier_RR_CV = RidgeClassifier().fit(X_train_CV, y_train)\n",
        "score_RR_CV = classifier_RR_CV.score(X_test_CV, y_test)"
      ],
      "execution_count": 33,
      "outputs": []
    },
    {
      "cell_type": "code",
      "metadata": {
        "id": "cSf1Qh-4ieUm"
      },
      "source": [
        "classifier_RR_TF = RidgeClassifier().fit(X_train_TF, y_train)\n",
        "score_RR_TF= classifier_RR_TF.score(X_test_TF, y_test)"
      ],
      "execution_count": 34,
      "outputs": []
    },
    {
      "cell_type": "markdown",
      "metadata": {
        "id": "tURafIzHis4v"
      },
      "source": [
        "### **4. SGD classifier:**"
      ]
    },
    {
      "cell_type": "code",
      "metadata": {
        "id": "UzUbs3qCjkCk"
      },
      "source": [
        "classifier_SGD_CV = SGDClassifier().fit(X_train_CV, y_train)\n",
        "score_SGD_CV = classifier_SGD_CV.score(X_test_CV, y_test)"
      ],
      "execution_count": 35,
      "outputs": []
    },
    {
      "cell_type": "code",
      "metadata": {
        "id": "uSKRiS3sjOQm"
      },
      "source": [
        "classifier_SGD_TF = SGDClassifier().fit(X_train_TF, y_train)\n",
        "score_SGD_TF = classifier_SGD_TF.score(X_test_TF, y_test)"
      ],
      "execution_count": 36,
      "outputs": []
    },
    {
      "cell_type": "markdown",
      "metadata": {
        "id": "NuX65UYqoza3"
      },
      "source": [
        "### **5. K-Neighbors Classifier**"
      ]
    },
    {
      "cell_type": "code",
      "metadata": {
        "id": "pAZs0w1Poyc-"
      },
      "source": [
        "classifier_KNC_CV = KNeighborsClassifier(n_neighbors=2)\n",
        "classifier_KNC_CV.fit(X_train_CV, y_train)\n",
        "score_KNC_CV = classifier_KNC_CV.score(X_test_CV, y_test)"
      ],
      "execution_count": 37,
      "outputs": []
    },
    {
      "cell_type": "code",
      "metadata": {
        "id": "TFO10dJop8ve"
      },
      "source": [
        "classifier_KNC_TF = KNeighborsClassifier(n_neighbors=2)\n",
        "classifier_KNC_TF.fit(X_train_TF, y_train)\n",
        "score_KNC_TF = classifier_KNC_TF.score(X_test_TF, y_test)"
      ],
      "execution_count": 38,
      "outputs": []
    },
    {
      "cell_type": "markdown",
      "metadata": {
        "id": "6a7AftI9JKE1"
      },
      "source": [
        "### **6. So sánh các model với bộ dữ liệu train test chia ra từ 6 trang thu thập được**"
      ]
    },
    {
      "cell_type": "code",
      "metadata": {
        "colab": {
          "base_uri": "https://localhost:8080/",
          "height": 1000
        },
        "id": "0nDM10HLJKRP",
        "outputId": "c3d0c204-def9-44fc-f6b2-2d51aa816dd5"
      },
      "source": [
        "X = X_train_CV.copy()\n",
        "Y = y_train.copy()\n",
        "classifier_names = ['Linear SVM',\n",
        "                    'Logistic Regression',\n",
        "                    'K-Nearest Neighbors',\n",
        "                    'SGD Classifier',\n",
        "                    \"Rigde Classifier\"]\n",
        "\n",
        "\n",
        "classifiers = [LinearSVC(),\n",
        "               LogisticRegression(),\n",
        "               KNeighborsClassifier(2),\n",
        "               SGDClassifier(),\n",
        "               RidgeClassifier()]\n",
        "plot_data=[]\n",
        "name=[]\n",
        "times = [1,2,3,4,5,6,7,8,9,10]\n",
        "colors = ['red','blue','yellow','black', 'pink']\n",
        "clf_data=zip(classifier_names, classifiers, colors)\n",
        "plt.figure(figsize= (15,8))\n",
        "for clf_name, clf, cl in clf_data:\n",
        "    print('Running '+clf_name)\n",
        "    kf=StratifiedKFold(n_splits=10, shuffle=True)\n",
        "    scores=cross_val_score(clf, X, Y, cv=kf)\n",
        "    print(scores)\n",
        "    plt.plot(times,scores, color = cl, markersize = 10)\n",
        "    name.append(clf_name)\n",
        "    plot_data.append(\n",
        "        go.Scatter(\n",
        "            x=[i+1 for i in range(10)],\n",
        "            y=scores,\n",
        "            mode='lines',\n",
        "            name=clf_name\n",
        "        )\n",
        "    )\n",
        "plt.xlim(0,13)\n",
        "plt.legend(name, loc = 'upper right')\n",
        "\n",
        "plt.xlabel('Fold no')\n",
        "plt.ylabel('Accuracy')"
      ],
      "execution_count": 39,
      "outputs": [
        {
          "output_type": "stream",
          "text": [
            "Running Linear SVM\n",
            "[0.84979424 0.8462669  0.8409759  0.85390947 0.84244562 0.83862434\n",
            " 0.84886798 0.85445457 0.84269333 0.84210526]\n",
            "Running Logistic Regression\n"
          ],
          "name": "stdout"
        },
        {
          "output_type": "stream",
          "text": [
            "/usr/local/lib/python3.7/dist-packages/sklearn/linear_model/_logistic.py:940: ConvergenceWarning:\n",
            "\n",
            "lbfgs failed to converge (status=1):\n",
            "STOP: TOTAL NO. of ITERATIONS REACHED LIMIT.\n",
            "\n",
            "Increase the number of iterations (max_iter) or scale the data as shown in:\n",
            "    https://scikit-learn.org/stable/modules/preprocessing.html\n",
            "Please also refer to the documentation for alternative solver options:\n",
            "    https://scikit-learn.org/stable/modules/linear_model.html#logistic-regression\n",
            "\n",
            "/usr/local/lib/python3.7/dist-packages/sklearn/linear_model/_logistic.py:940: ConvergenceWarning:\n",
            "\n",
            "lbfgs failed to converge (status=1):\n",
            "STOP: TOTAL NO. of ITERATIONS REACHED LIMIT.\n",
            "\n",
            "Increase the number of iterations (max_iter) or scale the data as shown in:\n",
            "    https://scikit-learn.org/stable/modules/preprocessing.html\n",
            "Please also refer to the documentation for alternative solver options:\n",
            "    https://scikit-learn.org/stable/modules/linear_model.html#logistic-regression\n",
            "\n",
            "/usr/local/lib/python3.7/dist-packages/sklearn/linear_model/_logistic.py:940: ConvergenceWarning:\n",
            "\n",
            "lbfgs failed to converge (status=1):\n",
            "STOP: TOTAL NO. of ITERATIONS REACHED LIMIT.\n",
            "\n",
            "Increase the number of iterations (max_iter) or scale the data as shown in:\n",
            "    https://scikit-learn.org/stable/modules/preprocessing.html\n",
            "Please also refer to the documentation for alternative solver options:\n",
            "    https://scikit-learn.org/stable/modules/linear_model.html#logistic-regression\n",
            "\n",
            "/usr/local/lib/python3.7/dist-packages/sklearn/linear_model/_logistic.py:940: ConvergenceWarning:\n",
            "\n",
            "lbfgs failed to converge (status=1):\n",
            "STOP: TOTAL NO. of ITERATIONS REACHED LIMIT.\n",
            "\n",
            "Increase the number of iterations (max_iter) or scale the data as shown in:\n",
            "    https://scikit-learn.org/stable/modules/preprocessing.html\n",
            "Please also refer to the documentation for alternative solver options:\n",
            "    https://scikit-learn.org/stable/modules/linear_model.html#logistic-regression\n",
            "\n"
          ],
          "name": "stderr"
        },
        {
          "output_type": "stream",
          "text": [
            "[0.85243974 0.86125808 0.84068195 0.85626102 0.8547913  0.85920047\n",
            " 0.85651279 0.86856807 0.84563364 0.86386357]\n",
            "Running K-Nearest Neighbors\n",
            "[0.69958848 0.68606702 0.67695473 0.67548501 0.68371546 0.67283951\n",
            " 0.67186122 0.69420759 0.68656278 0.66950897]\n",
            "Running SGD Classifier\n",
            "[0.84861846 0.8633157  0.85008818 0.84303351 0.85655497 0.84567901\n",
            " 0.85680682 0.8594531  0.85357248 0.85768892]\n",
            "Running Rigde Classifier\n",
            "[0.84773663 0.84479718 0.85449735 0.83686067 0.84567901 0.85302763\n",
            " 0.8415172  0.84445751 0.84445751 0.84592767]\n"
          ],
          "name": "stdout"
        },
        {
          "output_type": "execute_result",
          "data": {
            "text/plain": [
              "Text(0, 0.5, 'Accuracy')"
            ]
          },
          "metadata": {
            "tags": []
          },
          "execution_count": 39
        },
        {
          "output_type": "display_data",
          "data": {
            "image/png": "[encoded data removed]",
            "text/plain": [
              "<Figure size 1080x576 with 1 Axes>"
            ]
          },
          "metadata": {
            "tags": [],
            "needs_background": "light"
          }
        }
      ]
    },
    {
      "cell_type": "markdown",
      "metadata": {
        "id": "M0vqeJuvK081"
      },
      "source": [
        "### **7. Nhận xét :**\n",
        "* Hầu hết các model đều cho được accuracy >= 0.85, chỉ riêng K-Neighbors thấp hơn rất nhiều nên sẽ không sử dụng để predict.\n",
        "* Các model đều cho thấy accuracy của dữ liệu khi xử lý bằng CountVectorizer và TF-IDF Vectorizer đều tương đương nhau."
      ]
    },
    {
      "cell_type": "markdown",
      "metadata": {
        "id": "KNilmxhEAvDq"
      },
      "source": [
        "## **V. Predict model với 2 trang khác :**"
      ]
    },
    {
      "cell_type": "markdown",
      "metadata": {
        "id": "1inVN2oSN2o8"
      },
      "source": [
        "### **1. Crawl dữ liệu từ 2 trang khác 6 trang đã train dể predict model:**"
      ]
    },
    {
      "cell_type": "markdown",
      "metadata": {
        "id": "JAhqjUArF00c"
      },
      "source": [
        "**Báo châm biếm :**\n",
        "* The Burrad Street Journal - Canada: https://www.burrardstreetjournal.com/"
      ]
    },
    {
      "cell_type": "code",
      "metadata": {
        "id": "mzTUvgn-A0R_"
      },
      "source": [
        "for year in range(18, 22):\n",
        "  for month in range(1,13):\n",
        "    paper = \"https://www.burrardstreetjournal.com/20\"+ str(year) +\"/\" + str(month) +\"/\"\n",
        "    response = requests.get(paper)\n",
        "    soup = BeautifulSoup(response.content, \"html.parser\")\n",
        "    titles = soup.findAll('h3', class_ = 'entry-title td-module-title')\n",
        "    links = [link.find('a').attrs[\"href\"] for link in titles]\n",
        "\n",
        "    with open(\"/content/drive/MyDrive/ML/Sarcasm_data/1_test.json\", 'a') as f:\n",
        "        for link in links:\n",
        "            news = requests.get(link)\n",
        "            soup = BeautifulSoup(news.content, \"html.parser\")\n",
        "            title = soup.find(\"h1\", class_ = \"entry-title\").text\n",
        "            data = {\n",
        "                    \"article_link\" : link,\n",
        "                    \"headline\" : title,\n",
        "                    \"is_sarcastic\" : 1\n",
        "                }\n",
        "            json.dump(data, f)\n",
        "            f.write(\"\\n\")\n",
        "    print(str(month) + \"/\" + str(year))"
      ],
      "execution_count": null,
      "outputs": []
    },
    {
      "cell_type": "code",
      "metadata": {
        "id": "-dORwylwWXvo",
        "colab": {
          "base_uri": "https://localhost:8080/",
          "height": 419
        },
        "outputId": "fe3a858b-855d-4d05-e930-cec3204ff4e8"
      },
      "source": [
        "d1 = pd.read_json(\"/content/drive/MyDrive/ML/Sarcasm_data/1_test.json\", lines = True)\n",
        "d1"
      ],
      "execution_count": 50,
      "outputs": [
        {
          "output_type": "execute_result",
          "data": {
            "text/html": [
              "<div>\n",
              "<style scoped>\n",
              "    .dataframe tbody tr th:only-of-type {\n",
              "        vertical-align: middle;\n",
              "    }\n",
              "\n",
              "    .dataframe tbody tr th {\n",
              "        vertical-align: top;\n",
              "    }\n",
              "\n",
              "    .dataframe thead th {\n",
              "        text-align: right;\n",
              "    }\n",
              "</style>\n",
              "<table border=\"1\" class=\"dataframe\">\n",
              "  <thead>\n",
              "    <tr style=\"text-align: right;\">\n",
              "      <th></th>\n",
              "      <th>article_link</th>\n",
              "      <th>headline</th>\n",
              "      <th>is_sarcastic</th>\n",
              "    </tr>\n",
              "  </thead>\n",
              "  <tbody>\n",
              "    <tr>\n",
              "      <th>0</th>\n",
              "      <td>https://www.burrardstreetjournal.com/cristiano...</td>\n",
              "      <td>BREAKING: Cristiano Ronaldo Charged With Sexua...</td>\n",
              "      <td>1</td>\n",
              "    </tr>\n",
              "    <tr>\n",
              "      <th>1</th>\n",
              "      <td>https://www.burrardstreetjournal.com/sanchez-m...</td>\n",
              "      <td>‘Sanchez Move To Be Completed In Next Few Minu...</td>\n",
              "      <td>1</td>\n",
              "    </tr>\n",
              "    <tr>\n",
              "      <th>2</th>\n",
              "      <td>https://www.burrardstreetjournal.com/5-signs-y...</td>\n",
              "      <td>5 Signs You’re Secretly A Stable Genius</td>\n",
              "      <td>1</td>\n",
              "    </tr>\n",
              "    <tr>\n",
              "      <th>3</th>\n",
              "      <td>https://www.burrardstreetjournal.com/mayor-rob...</td>\n",
              "      <td>Mayor Robertson ‘Proud’ To Have Fulfilled Prom...</td>\n",
              "      <td>1</td>\n",
              "    </tr>\n",
              "    <tr>\n",
              "      <th>4</th>\n",
              "      <td>https://www.burrardstreetjournal.com/luis-suar...</td>\n",
              "      <td>Luis Suarez Claims Firmino Is ‘Completely Inno...</td>\n",
              "      <td>1</td>\n",
              "    </tr>\n",
              "    <tr>\n",
              "      <th>...</th>\n",
              "      <td>...</td>\n",
              "      <td>...</td>\n",
              "      <td>...</td>\n",
              "    </tr>\n",
              "    <tr>\n",
              "      <th>354</th>\n",
              "      <td>https://www.burrardstreetjournal.com/donald-tr...</td>\n",
              "      <td>Donald Trump Jr. Tests Positive For Being A Di...</td>\n",
              "      <td>1</td>\n",
              "    </tr>\n",
              "    <tr>\n",
              "      <th>355</th>\n",
              "      <td>https://www.burrardstreetjournal.com/kanye-dem...</td>\n",
              "      <td>Refusing To Concede, Kanye Demands Full Recoun...</td>\n",
              "      <td>1</td>\n",
              "    </tr>\n",
              "    <tr>\n",
              "      <th>356</th>\n",
              "      <td>https://www.burrardstreetjournal.com/mancheste...</td>\n",
              "      <td>Man Utd Make Last-Minute Bid To Re-Sign Maroua...</td>\n",
              "      <td>1</td>\n",
              "    </tr>\n",
              "    <tr>\n",
              "      <th>357</th>\n",
              "      <td>https://www.burrardstreetjournal.com/trump-adv...</td>\n",
              "      <td>Trump Advised To Drink As Much Bleach As Possible</td>\n",
              "      <td>1</td>\n",
              "    </tr>\n",
              "    <tr>\n",
              "      <th>358</th>\n",
              "      <td>https://www.burrardstreetjournal.com/phil-jone...</td>\n",
              "      <td>Phil Jones Shocked To Discover Football Has Re...</td>\n",
              "      <td>1</td>\n",
              "    </tr>\n",
              "  </tbody>\n",
              "</table>\n",
              "<p>359 rows × 3 columns</p>\n",
              "</div>"
            ],
            "text/plain": [
              "                                          article_link  ... is_sarcastic\n",
              "0    https://www.burrardstreetjournal.com/cristiano...  ...            1\n",
              "1    https://www.burrardstreetjournal.com/sanchez-m...  ...            1\n",
              "2    https://www.burrardstreetjournal.com/5-signs-y...  ...            1\n",
              "3    https://www.burrardstreetjournal.com/mayor-rob...  ...            1\n",
              "4    https://www.burrardstreetjournal.com/luis-suar...  ...            1\n",
              "..                                                 ...  ...          ...\n",
              "354  https://www.burrardstreetjournal.com/donald-tr...  ...            1\n",
              "355  https://www.burrardstreetjournal.com/kanye-dem...  ...            1\n",
              "356  https://www.burrardstreetjournal.com/mancheste...  ...            1\n",
              "357  https://www.burrardstreetjournal.com/trump-adv...  ...            1\n",
              "358  https://www.burrardstreetjournal.com/phil-jone...  ...            1\n",
              "\n",
              "[359 rows x 3 columns]"
            ]
          },
          "metadata": {
            "tags": []
          },
          "execution_count": 50
        }
      ]
    },
    {
      "cell_type": "markdown",
      "metadata": {
        "id": "ys7ex3V6v3B2"
      },
      "source": [
        "**Báo chính thống :**\n",
        "* The euronews - English : https://www.euronews.com/"
      ]
    },
    {
      "cell_type": "code",
      "metadata": {
        "id": "Juf5utufBMse"
      },
      "source": [
        "for year in range(18,22):\n",
        "  for month in range(1,13):\n",
        "    for day in range(1,32):     \n",
        "      paper = \"https://www.euronews.com/20\"+str(year)+\"/\"+str(month)+\"/\"+str(day)\n",
        "      response = requests.get(paper)\n",
        "      soup = BeautifulSoup(response.content, \"html.parser\")\n",
        "      titles = soup.findAll('h3', class_ = \"m-object__title qa-article-title\")\n",
        "      links = [link.find('a').attrs[\"href\"] for link in titles]\n",
        "      for link in links:\n",
        "        try:\n",
        "          a = \"https://www.euronews.com\"\n",
        "          news = requests.get(a + link)\n",
        "          soup = BeautifulSoup(news.content, \"html.parser\")\n",
        "          title = soup.find(\"h1\", class_ = \"c-article-title u-display-inline u-text-align--start\").text\n",
        "          data = {\n",
        "          \"article_link\" : a + link,\n",
        "          \"headline\" : title,\n",
        "          \"is_sarcastic\" : 0\n",
        "          }\n",
        "          with open(\"/content/drive/MyDrive/ML/Sarcasm_data/0_test.json\", 'a') as f:\n",
        "            json.dump(data, f)\n",
        "            f.write(\"\\n\")\n",
        "        except:\n",
        "          continue"
      ],
      "execution_count": null,
      "outputs": []
    },
    {
      "cell_type": "code",
      "metadata": {
        "colab": {
          "base_uri": "https://localhost:8080/",
          "height": 419
        },
        "id": "zeZh6xFvl621",
        "outputId": "061305a1-68de-40ef-f12e-2e6f19de853f"
      },
      "source": [
        "d2 = pd.read_json('/content/drive/MyDrive/ML/Sarcasm_data/0_test.json', lines= True, encoding=\"utf-8-sig\")\n",
        "d2 = d2.drop_duplicates()\n",
        "d2"
      ],
      "execution_count": 43,
      "outputs": [
        {
          "output_type": "execute_result",
          "data": {
            "text/html": [
              "<div>\n",
              "<style scoped>\n",
              "    .dataframe tbody tr th:only-of-type {\n",
              "        vertical-align: middle;\n",
              "    }\n",
              "\n",
              "    .dataframe tbody tr th {\n",
              "        vertical-align: top;\n",
              "    }\n",
              "\n",
              "    .dataframe thead th {\n",
              "        text-align: right;\n",
              "    }\n",
              "</style>\n",
              "<table border=\"1\" class=\"dataframe\">\n",
              "  <thead>\n",
              "    <tr style=\"text-align: right;\">\n",
              "      <th></th>\n",
              "      <th>article_link</th>\n",
              "      <th>headline</th>\n",
              "      <th>is_sarcastic</th>\n",
              "    </tr>\n",
              "  </thead>\n",
              "  <tbody>\n",
              "    <tr>\n",
              "      <th>0</th>\n",
              "      <td>https://www.euronews.com/2018/01/10/southern-e...</td>\n",
              "      <td>\\n    Southern EU leaders wrestle with migrati...</td>\n",
              "      <td>0</td>\n",
              "    </tr>\n",
              "    <tr>\n",
              "      <th>1</th>\n",
              "      <td>https://www.euronews.com/2018/01/10/ces-2018-p...</td>\n",
              "      <td>\\n    Power outage hits tech's biggest trade s...</td>\n",
              "      <td>0</td>\n",
              "    </tr>\n",
              "    <tr>\n",
              "      <th>2</th>\n",
              "      <td>https://www.euronews.com/2018/01/10/why-pay-ga...</td>\n",
              "      <td>\\n    Why the 'All the Money in the World' pay...</td>\n",
              "      <td>0</td>\n",
              "    </tr>\n",
              "    <tr>\n",
              "      <th>3</th>\n",
              "      <td>https://www.euronews.com/2018/01/10/memphis-pa...</td>\n",
              "      <td>\\n    Pastor admits to past 'sexual incident' ...</td>\n",
              "      <td>0</td>\n",
              "    </tr>\n",
              "    <tr>\n",
              "      <th>4</th>\n",
              "      <td>https://www.euronews.com/2018/01/10/santa-barb...</td>\n",
              "      <td>\\n    Santa Barbara shocked by loss of life in...</td>\n",
              "      <td>0</td>\n",
              "    </tr>\n",
              "    <tr>\n",
              "      <th>...</th>\n",
              "      <td>...</td>\n",
              "      <td>...</td>\n",
              "      <td>...</td>\n",
              "    </tr>\n",
              "    <tr>\n",
              "      <th>18898</th>\n",
              "      <td>https://www.euronews.com/2021/06/15/mps-in-hun...</td>\n",
              "      <td>\\n    MPs in Hungary back ban on sharing conte...</td>\n",
              "      <td>0</td>\n",
              "    </tr>\n",
              "    <tr>\n",
              "      <th>18899</th>\n",
              "      <td>https://www.euronews.com/2021/06/15/daniel-mor...</td>\n",
              "      <td>\\n    Daniel Morgan: 'Institutional corruption...</td>\n",
              "      <td>0</td>\n",
              "    </tr>\n",
              "    <tr>\n",
              "      <th>18900</th>\n",
              "      <td>https://www.euronews.com/2021/06/15/ikea-franc...</td>\n",
              "      <td>\\n    Ikea France fined €1 million for spying ...</td>\n",
              "      <td>0</td>\n",
              "    </tr>\n",
              "    <tr>\n",
              "      <th>18901</th>\n",
              "      <td>https://www.euronews.com/2021/06/15/eu-and-us-...</td>\n",
              "      <td>\\n    EU and US reach deal to end Airbus-Boein...</td>\n",
              "      <td>0</td>\n",
              "    </tr>\n",
              "    <tr>\n",
              "      <th>18902</th>\n",
              "      <td>https://www.euronews.com/2021/06/15/euro-2020-...</td>\n",
              "      <td>\\n    EURO 2020: Austria's Marko Arnautovic de...</td>\n",
              "      <td>0</td>\n",
              "    </tr>\n",
              "  </tbody>\n",
              "</table>\n",
              "<p>18884 rows × 3 columns</p>\n",
              "</div>"
            ],
            "text/plain": [
              "                                            article_link  ... is_sarcastic\n",
              "0      https://www.euronews.com/2018/01/10/southern-e...  ...            0\n",
              "1      https://www.euronews.com/2018/01/10/ces-2018-p...  ...            0\n",
              "2      https://www.euronews.com/2018/01/10/why-pay-ga...  ...            0\n",
              "3      https://www.euronews.com/2018/01/10/memphis-pa...  ...            0\n",
              "4      https://www.euronews.com/2018/01/10/santa-barb...  ...            0\n",
              "...                                                  ...  ...          ...\n",
              "18898  https://www.euronews.com/2021/06/15/mps-in-hun...  ...            0\n",
              "18899  https://www.euronews.com/2021/06/15/daniel-mor...  ...            0\n",
              "18900  https://www.euronews.com/2021/06/15/ikea-franc...  ...            0\n",
              "18901  https://www.euronews.com/2021/06/15/eu-and-us-...  ...            0\n",
              "18902  https://www.euronews.com/2021/06/15/euro-2020-...  ...            0\n",
              "\n",
              "[18884 rows x 3 columns]"
            ]
          },
          "metadata": {
            "tags": []
          },
          "execution_count": 43
        }
      ]
    },
    {
      "cell_type": "code",
      "metadata": {
        "colab": {
          "base_uri": "https://localhost:8080/",
          "height": 419
        },
        "id": "rxTnG7O9liK4",
        "outputId": "b885c2c3-5bed-4158-9224-966f7023444f"
      },
      "source": [
        "d_test = d1.append(d2)\n",
        "d_test = d_test.sample(frac=1).reset_index(drop=True)\n",
        "d_test"
      ],
      "execution_count": 51,
      "outputs": [
        {
          "output_type": "execute_result",
          "data": {
            "text/html": [
              "<div>\n",
              "<style scoped>\n",
              "    .dataframe tbody tr th:only-of-type {\n",
              "        vertical-align: middle;\n",
              "    }\n",
              "\n",
              "    .dataframe tbody tr th {\n",
              "        vertical-align: top;\n",
              "    }\n",
              "\n",
              "    .dataframe thead th {\n",
              "        text-align: right;\n",
              "    }\n",
              "</style>\n",
              "<table border=\"1\" class=\"dataframe\">\n",
              "  <thead>\n",
              "    <tr style=\"text-align: right;\">\n",
              "      <th></th>\n",
              "      <th>article_link</th>\n",
              "      <th>headline</th>\n",
              "      <th>is_sarcastic</th>\n",
              "    </tr>\n",
              "  </thead>\n",
              "  <tbody>\n",
              "    <tr>\n",
              "      <th>0</th>\n",
              "      <td>https://www.euronews.com/2018/08/12/manchester...</td>\n",
              "      <td>\\n    Manchester gunfight leaves children inju...</td>\n",
              "      <td>0</td>\n",
              "    </tr>\n",
              "    <tr>\n",
              "      <th>1</th>\n",
              "      <td>https://www.euronews.com/2020/12/18/it-makes-n...</td>\n",
              "      <td>\\n    'It makes no sense': Russia's doping ban...</td>\n",
              "      <td>0</td>\n",
              "    </tr>\n",
              "    <tr>\n",
              "      <th>2</th>\n",
              "      <td>https://www.euronews.com/2018/07/01/judge-temp...</td>\n",
              "      <td>\\n    Judge temporarily blocks FEMA from endin...</td>\n",
              "      <td>0</td>\n",
              "    </tr>\n",
              "    <tr>\n",
              "      <th>3</th>\n",
              "      <td>https://www.euronews.com/2019/04/27/trieste-ma...</td>\n",
              "      <td>\\n    Trieste marathon excludes African runner...</td>\n",
              "      <td>0</td>\n",
              "    </tr>\n",
              "    <tr>\n",
              "      <th>4</th>\n",
              "      <td>https://www.euronews.com/2018/12/27/christmas-...</td>\n",
              "      <td>\\n    Christmastime assault, possible robbery ...</td>\n",
              "      <td>0</td>\n",
              "    </tr>\n",
              "    <tr>\n",
              "      <th>...</th>\n",
              "      <td>...</td>\n",
              "      <td>...</td>\n",
              "      <td>...</td>\n",
              "    </tr>\n",
              "    <tr>\n",
              "      <th>19238</th>\n",
              "      <td>https://www.euronews.com/2020/07/31/who-are-th...</td>\n",
              "      <td>\\n    Who are the real winners and losers of t...</td>\n",
              "      <td>0</td>\n",
              "    </tr>\n",
              "    <tr>\n",
              "      <th>19239</th>\n",
              "      <td>https://www.euronews.com/2018/12/30/twin-nasa-...</td>\n",
              "      <td>\\n    Twin NASA probes cap 2018 &amp; start 2019 w...</td>\n",
              "      <td>0</td>\n",
              "    </tr>\n",
              "    <tr>\n",
              "      <th>19240</th>\n",
              "      <td>https://www.euronews.com/2020/07/31/belarus-pr...</td>\n",
              "      <td>\\n    Belarus presidential elections: Meet the...</td>\n",
              "      <td>0</td>\n",
              "    </tr>\n",
              "    <tr>\n",
              "      <th>19241</th>\n",
              "      <td>https://www.euronews.com/2021/06/12/us-justice...</td>\n",
              "      <td>\\n    US: Justice probe after revelations Trum...</td>\n",
              "      <td>0</td>\n",
              "    </tr>\n",
              "    <tr>\n",
              "      <th>19242</th>\n",
              "      <td>https://www.euronews.com/2020/07/27/ryanair-sh...</td>\n",
              "      <td>\\n    Ryanair shares fall as COVID-19 brings €...</td>\n",
              "      <td>0</td>\n",
              "    </tr>\n",
              "  </tbody>\n",
              "</table>\n",
              "<p>19243 rows × 3 columns</p>\n",
              "</div>"
            ],
            "text/plain": [
              "                                            article_link  ... is_sarcastic\n",
              "0      https://www.euronews.com/2018/08/12/manchester...  ...            0\n",
              "1      https://www.euronews.com/2020/12/18/it-makes-n...  ...            0\n",
              "2      https://www.euronews.com/2018/07/01/judge-temp...  ...            0\n",
              "3      https://www.euronews.com/2019/04/27/trieste-ma...  ...            0\n",
              "4      https://www.euronews.com/2018/12/27/christmas-...  ...            0\n",
              "...                                                  ...  ...          ...\n",
              "19238  https://www.euronews.com/2020/07/31/who-are-th...  ...            0\n",
              "19239  https://www.euronews.com/2018/12/30/twin-nasa-...  ...            0\n",
              "19240  https://www.euronews.com/2020/07/31/belarus-pr...  ...            0\n",
              "19241  https://www.euronews.com/2021/06/12/us-justice...  ...            0\n",
              "19242  https://www.euronews.com/2020/07/27/ryanair-sh...  ...            0\n",
              "\n",
              "[19243 rows x 3 columns]"
            ]
          },
          "metadata": {
            "tags": []
          },
          "execution_count": 51
        }
      ]
    },
    {
      "cell_type": "code",
      "metadata": {
        "colab": {
          "base_uri": "https://localhost:8080/",
          "height": 419
        },
        "id": "qpWbeWTzWWPb",
        "outputId": "9b2f67b2-1ed4-4865-b7bf-262e1999ecc7"
      },
      "source": [
        "data = data.sample(frac=1).reset_index(drop=True)\n",
        "data"
      ],
      "execution_count": 75,
      "outputs": [
        {
          "output_type": "execute_result",
          "data": {
            "text/html": [
              "<div>\n",
              "<style scoped>\n",
              "    .dataframe tbody tr th:only-of-type {\n",
              "        vertical-align: middle;\n",
              "    }\n",
              "\n",
              "    .dataframe tbody tr th {\n",
              "        vertical-align: top;\n",
              "    }\n",
              "\n",
              "    .dataframe thead th {\n",
              "        text-align: right;\n",
              "    }\n",
              "</style>\n",
              "<table border=\"1\" class=\"dataframe\">\n",
              "  <thead>\n",
              "    <tr style=\"text-align: right;\">\n",
              "      <th></th>\n",
              "      <th>article_link</th>\n",
              "      <th>headline</th>\n",
              "      <th>is_sarcastic</th>\n",
              "    </tr>\n",
              "  </thead>\n",
              "  <tbody>\n",
              "    <tr>\n",
              "      <th>0</th>\n",
              "      <td>https://bestinau.com.au/kim-kendall-and-kylie-...</td>\n",
              "      <td>Kim, Kendall, and Kylie roasted over ongoing A...</td>\n",
              "      <td>0</td>\n",
              "    </tr>\n",
              "    <tr>\n",
              "      <th>1</th>\n",
              "      <td>https://toronto.citynews.ca/2018/12/16/quebece...</td>\n",
              "      <td>Quebecers criticize western oil but buying mor...</td>\n",
              "      <td>0</td>\n",
              "    </tr>\n",
              "    <tr>\n",
              "      <th>2</th>\n",
              "      <td>https://thehardtimes.net/music/ex-underoath-fa...</td>\n",
              "      <td>Ex-Underøath Fan Devoutly Tweets Death Threats...</td>\n",
              "      <td>1</td>\n",
              "    </tr>\n",
              "    <tr>\n",
              "      <th>3</th>\n",
              "      <td>https://www.betootaadvocate.com/uncategorized/...</td>\n",
              "      <td>Now That Channel 9 Has Axed The Ellen Show, Ho...</td>\n",
              "      <td>1</td>\n",
              "    </tr>\n",
              "    <tr>\n",
              "      <th>4</th>\n",
              "      <td>https://toronto.citynews.ca/2021/05/27/moderna...</td>\n",
              "      <td>Moderna to ship 2M vaccine doses to Canada by ...</td>\n",
              "      <td>0</td>\n",
              "    </tr>\n",
              "    <tr>\n",
              "      <th>...</th>\n",
              "      <td>...</td>\n",
              "      <td>...</td>\n",
              "      <td>...</td>\n",
              "    </tr>\n",
              "    <tr>\n",
              "      <th>45350</th>\n",
              "      <td>https://thehardtimes.net/culture/someone-broke...</td>\n",
              "      <td>“Someone Broke a Bottle Over There,” Warns Guy...</td>\n",
              "      <td>1</td>\n",
              "    </tr>\n",
              "    <tr>\n",
              "      <th>45351</th>\n",
              "      <td>https://www.betootaadvocate.com/uncategorized/...</td>\n",
              "      <td>Jesus Christ Confirms He Disowned Israel Folau...</td>\n",
              "      <td>1</td>\n",
              "    </tr>\n",
              "    <tr>\n",
              "      <th>45352</th>\n",
              "      <td>https://toronto.citynews.ca/2021/05/06/house-p...</td>\n",
              "      <td>House parties and other gatherings blamed for ...</td>\n",
              "      <td>0</td>\n",
              "    </tr>\n",
              "    <tr>\n",
              "      <th>45353</th>\n",
              "      <td>https://toronto.citynews.ca/2021/02/12/former-...</td>\n",
              "      <td>Former Obama adviser Podesta on Biden's Keysto...</td>\n",
              "      <td>0</td>\n",
              "    </tr>\n",
              "    <tr>\n",
              "      <th>45354</th>\n",
              "      <td>https://toronto.citynews.ca/2019/01/19/america...</td>\n",
              "      <td>Americans face deadline to file paperwork for ...</td>\n",
              "      <td>0</td>\n",
              "    </tr>\n",
              "  </tbody>\n",
              "</table>\n",
              "<p>45355 rows × 3 columns</p>\n",
              "</div>"
            ],
            "text/plain": [
              "                                            article_link  ... is_sarcastic\n",
              "0      https://bestinau.com.au/kim-kendall-and-kylie-...  ...            0\n",
              "1      https://toronto.citynews.ca/2018/12/16/quebece...  ...            0\n",
              "2      https://thehardtimes.net/music/ex-underoath-fa...  ...            1\n",
              "3      https://www.betootaadvocate.com/uncategorized/...  ...            1\n",
              "4      https://toronto.citynews.ca/2021/05/27/moderna...  ...            0\n",
              "...                                                  ...  ...          ...\n",
              "45350  https://thehardtimes.net/culture/someone-broke...  ...            1\n",
              "45351  https://www.betootaadvocate.com/uncategorized/...  ...            1\n",
              "45352  https://toronto.citynews.ca/2021/05/06/house-p...  ...            0\n",
              "45353  https://toronto.citynews.ca/2021/02/12/former-...  ...            0\n",
              "45354  https://toronto.citynews.ca/2019/01/19/america...  ...            0\n",
              "\n",
              "[45355 rows x 3 columns]"
            ]
          },
          "metadata": {
            "tags": []
          },
          "execution_count": 75
        }
      ]
    },
    {
      "cell_type": "code",
      "metadata": {
        "colab": {
          "base_uri": "https://localhost:8080/"
        },
        "id": "di491UBwWYcH",
        "outputId": "440cb89b-4296-4134-9aae-e4f18bd5d38b"
      },
      "source": [
        "X_train = data[\"headline\"]\n",
        "Y_train = data[\"is_sarcastic\"]\n",
        "print(\"X_train size : \" + str(len(X_train)))"
      ],
      "execution_count": 78,
      "outputs": [
        {
          "output_type": "stream",
          "text": [
            "X_train size : 45355\n"
          ],
          "name": "stdout"
        }
      ]
    },
    {
      "cell_type": "code",
      "metadata": {
        "id": "eGvwxcUOqqa0",
        "colab": {
          "base_uri": "https://localhost:8080/"
        },
        "outputId": "94825396-739a-435a-abea-ad97f421287a"
      },
      "source": [
        "X_test = d_test[\"headline\"]\n",
        "y_test = d_test[\"is_sarcastic\"]\n",
        "print(\"X_test size : \" + str(len(X_test)))"
      ],
      "execution_count": 79,
      "outputs": [
        {
          "output_type": "stream",
          "text": [
            "X_test size : 19243\n"
          ],
          "name": "stdout"
        }
      ]
    },
    {
      "cell_type": "code",
      "metadata": {
        "colab": {
          "base_uri": "https://localhost:8080/"
        },
        "id": "c7MbbWcrXgiy",
        "outputId": "e5c7508f-53ec-4a45-dfd9-0e9d7be36590"
      },
      "source": [
        "vectorizer_TF.fit(X_train)\n",
        "X_train_TF = vectorizer_TF.transform(X_train)\n",
        "X_train_TF"
      ],
      "execution_count": 87,
      "outputs": [
        {
          "output_type": "execute_result",
          "data": {
            "text/plain": [
              "<45355x12085 sparse matrix of type '<class 'numpy.float64'>'\n",
              "\twith 242126 stored elements in Compressed Sparse Row format>"
            ]
          },
          "metadata": {
            "tags": []
          },
          "execution_count": 87
        }
      ]
    },
    {
      "cell_type": "code",
      "metadata": {
        "colab": {
          "base_uri": "https://localhost:8080/"
        },
        "id": "Zzba_P5HqcRn",
        "outputId": "589b8792-b53e-4e70-b59e-a2b328946099"
      },
      "source": [
        "vectorizer_TF.fit(X_test)\n",
        "X_test_TF = vectorizer_TF.transform(X_test)\n",
        "X_test_TF"
      ],
      "execution_count": 82,
      "outputs": [
        {
          "output_type": "execute_result",
          "data": {
            "text/plain": [
              "<19243x12085 sparse matrix of type '<class 'numpy.float64'>'\n",
              "\twith 100528 stored elements in Compressed Sparse Row format>"
            ]
          },
          "metadata": {
            "tags": []
          },
          "execution_count": 82
        }
      ]
    },
    {
      "cell_type": "markdown",
      "metadata": {
        "id": "DShiuxQYmvCm"
      },
      "source": [
        "### **2. Visualize kết quả predict với data từ 2 trang khác :**\n"
      ]
    },
    {
      "cell_type": "code",
      "metadata": {
        "colab": {
          "base_uri": "https://localhost:8080/",
          "height": 422
        },
        "id": "4Tc0bdBEs0sp",
        "outputId": "c308e9ae-45f2-44e8-e66b-a44ae78f3b41"
      },
      "source": [
        "X = X_test_TF.copy()\n",
        "Y = y_test.copy()\n",
        " \n",
        "left = [1, 2, 3, 4]\n",
        "  \n",
        "scores = []\n",
        "  \n",
        "models = ['Linear SVM','Logistic Regression','SGD Classifier',\"Rigde Classifier\"]\n",
        "classifiers = [classifier_SVM_CV, classifier_LR_CV, classifier_SGD_CV, classifier_RR_CV] \n",
        "\n",
        "clf_data=zip(classifier_names, classifiers)\n",
        "\n",
        "for clf_name, clf in clf_data: \n",
        "  clf.fit(X_train_TF, Y_train)\n",
        "  score = clf.score(X, Y)\n",
        "  scores.append(score)\n",
        "fig = plt.figure(figsize = (10,5))\n",
        "ax = fig.add_axes([0,0,1,1])\n",
        "ax.bar(left, height = scores, tick_label = models, width = 0.5, color = ['red', 'green'])\n",
        " \n",
        "ax.set_xlabel('Models')\n",
        "\n",
        "ax.set_ylabel('Accuracy')\n",
        "\n",
        "plt.show()"
      ],
      "execution_count": 91,
      "outputs": [
        {
          "output_type": "display_data",
          "data": {
            "image/png": "[encoded data removed]",
            "text/plain": [
              "<Figure size 720x360 with 1 Axes>"
            ]
          },
          "metadata": {
            "tags": [],
            "needs_background": "light"
          }
        }
      ]
    },
    {
      "cell_type": "markdown",
      "metadata": {
        "id": "Df1x2Y1pZveP"
      },
      "source": [
        "## **VI. Nhận xét chung :**\n",
        "\n",
        "\n",
        "1.   Về việc xây dựng với 6 trang đã thu thập từ trước, vì đây là bài toán Binary Classificationn nên các model mà nhóm chọn có kết quả tương đương nhau nhưng Logistic Regression có kết quả cao nhất (acc ~ 0.868), thấp nhất là K-Nearest Neighbors (acc ~ 0.669)\n",
        "2.   Về việc xây dựng model với 6 bài báo cũ làm train và 2 bài báo mới làm test thì cũng cho kết quả thấp hơn 1 ít (-0.05) vì từ ngữ và văn phong của 2 bài báo mới có nhiều phần khác so với những bài báo cũ. Các model đều cho ra kết quả tương đương nhau với acc ~ 0.75 -> 0.8\n",
        "\n"
      ]
    }
  ]
}