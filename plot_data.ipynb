{
  "nbformat": 4,
  "nbformat_minor": 0,
  "metadata": {
    "colab": {
      "name": "plot_data.ipynb",
      "provenance": [],
      "collapsed_sections": [],
      "include_colab_link": true
    },
    "kernelspec": {
      "name": "python3",
      "display_name": "Python 3"
    },
    "language_info": {
      "name": "python"
    }
  },
  "cells": [
    {
      "cell_type": "markdown",
      "metadata": {
        "id": "view-in-github",
        "colab_type": "text"
      },
      "source": [
        "<a href=\"https://colab.research.google.com/github/truong-xuan-linh/CS114.L21/blob/patch-3/plot_data.ipynb\" target=\"_parent\"><img src=\"https://colab.research.google.com/assets/colab-badge.svg\" alt=\"Open In Colab\"/></a>"
      ]
    },
    {
      "cell_type": "code",
      "metadata": {
        "colab": {
          "base_uri": "https://localhost:8080/"
        },
        "id": "4ejMY-yDNjRT",
        "outputId": "95b4e22f-e73d-4375-c048-17e26acadc85"
      },
      "source": [
        "from google.colab import drive\n",
        "drive.mount('/content/drive')"
      ],
      "execution_count": 4,
      "outputs": [
        {
          "output_type": "stream",
          "text": [
            "Mounted at /content/drive\n"
          ],
          "name": "stdout"
        }
      ]
    },
    {
      "cell_type": "code",
      "metadata": {
        "colab": {
          "base_uri": "https://localhost:8080/",
          "height": 35
        },
        "id": "RBbI4NWnJEkt",
        "outputId": "bd0f6723-1f67-4d7a-8805-8c14cbc26493"
      },
      "source": [
        "import pandas as pd\n",
        "# Đọc dữ liệu từ file csv\n",
        "score = pd.read_csv(\"/content/drive/MyDrive/CS114/Predict_score/score_training.csv\")\n",
        "wecode = pd.read_csv(\"/content/drive/MyDrive/CS114/Predict_score/wecode.csv\")\n",
        "'''print('Chi tiết bảng wecode: ')\n",
        "print(wecode)\n",
        "print(\"Chi tiết bảng score:\")\n",
        "print(score)'''"
      ],
      "execution_count": 6,
      "outputs": [
        {
          "output_type": "execute_result",
          "data": {
            "application/vnd.google.colaboratory.intrinsic+json": {
              "type": "string"
            },
            "text/plain": [
              "'print(\\'Chi tiết bảng wecode: \\')\\nprint(wecode)\\nprint(\"Chi tiết bảng score:\")\\nprint(score)'"
            ]
          },
          "metadata": {
            "tags": []
          },
          "execution_count": 6
        }
      ]
    },
    {
      "cell_type": "code",
      "metadata": {
        "id": "jFbR93pYJSGA"
      },
      "source": [
        "student = pd.DataFrame(wecode['user_id'])\n",
        "student['sum_problems'] = pd.DataFrame(wecode['is_final'])\n",
        "student.insert(2,'sum_submits', 1)\n",
        "student['sum_1000'] = pd.DataFrame(map(int, wecode['pre_score'] == 1000))\n",
        "student.columns = ['id', 'sum_problems', 'sum_submits', 'sum_1000']\n",
        "\n",
        "student = student.groupby(['id']).sum()"
      ],
      "execution_count": 7,
      "outputs": []
    },
    {
      "cell_type": "code",
      "metadata": {
        "id": "hgb5n5t2JUwc"
      },
      "source": [
        "# Xóa các cột không quan trọng từ file score, giữ lại id và CK\n",
        "del score['QT'], score['GK'], score['TH'], score['TBM'], score['TBTL']\n",
        "# Xóa những dòng trong score không chứa điểm CK\n",
        "score = score.where(score['CK'] != '\\xa0') # Xóa ' '\n",
        "score = score.where(score['CK'] == score['CK']) # Xóa nan\n"
      ],
      "execution_count": 8,
      "outputs": []
    },
    {
      "cell_type": "code",
      "metadata": {
        "colab": {
          "base_uri": "https://localhost:8080/"
        },
        "id": "uAVaGQyPJYLn",
        "outputId": "2f6e6c14-43fe-464e-9d16-9156d9bbb5cb"
      },
      "source": [
        "data = pd.merge(student, score, how='inner', on=['id'])\n",
        "print(data)"
      ],
      "execution_count": 9,
      "outputs": [
        {
          "output_type": "stream",
          "text": [
            "       id  sum_problems  sum_submits  sum_1000   CK\n",
            "0      24            77          164         4  9.5\n",
            "1      27             5           13         3   10\n",
            "2      29            80          199         2  8.5\n",
            "3      34            84          218        11  6.5\n",
            "4      35           151          297         3  4.5\n",
            "..    ...           ...          ...       ...  ...\n",
            "801  1856            31           64         6  7.5\n",
            "802  1857            40           55         0    4\n",
            "803  1859            30           31         0  1.5\n",
            "804  1862             6           12         0  7.5\n",
            "805  1865            17           99        21  7.5\n",
            "\n",
            "[806 rows x 5 columns]\n"
          ],
          "name": "stdout"
        }
      ]
    },
    {
      "cell_type": "code",
      "metadata": {
        "id": "oTjDmTOLLouG"
      },
      "source": [
        "data['CK'] = pd.DataFrame(map(float,data['CK']))\n",
        "data = data.sort_values(by=['CK'])"
      ],
      "execution_count": 10,
      "outputs": []
    },
    {
      "cell_type": "markdown",
      "metadata": {
        "id": "P45wMKrzJsUX"
      },
      "source": [
        "# **1. Tổng số problem đã solve/ tổng số problem có submit**"
      ]
    },
    {
      "cell_type": "code",
      "metadata": {
        "colab": {
          "base_uri": "https://localhost:8080/",
          "height": 265
        },
        "id": "DNS82ZPLJY2h",
        "outputId": "c388f19a-a8b4-41bb-e222-99bd9fe0230a"
      },
      "source": [
        "import matplotlib.pyplot as plt\n",
        "\n",
        "plt.plot(data['sum_1000']/data['sum_problems'], data['CK'] , 'o')\n",
        "plt.show()"
      ],
      "execution_count": 11,
      "outputs": [
        {
          "output_type": "display_data",
          "data": {
            "image/png": "[encoded data removed]",
            "text/plain": [
              "<Figure size 432x288 with 1 Axes>"
            ]
          },
          "metadata": {
            "tags": [],
            "needs_background": "light"
          }
        }
      ]
    },
    {
      "cell_type": "markdown",
      "metadata": {
        "id": "6tJAts6-K4x3"
      },
      "source": [
        "# **2. Tổng số  problem đã submit/ tổng số submission**"
      ]
    },
    {
      "cell_type": "code",
      "metadata": {
        "colab": {
          "base_uri": "https://localhost:8080/",
          "height": 265
        },
        "id": "dJ36JWsLK4Oo",
        "outputId": "7daaed93-4af4-4b71-8fc1-41a1d9109ef5"
      },
      "source": [
        "plt.plot(data['sum_problems']/data['sum_submits'], data['CK'] , 'o')\n",
        "plt.show()"
      ],
      "execution_count": 12,
      "outputs": [
        {
          "output_type": "display_data",
          "data": {
            "image/png": "[encoded data removed]",
            "text/plain": [
              "<Figure size 432x288 with 1 Axes>"
            ]
          },
          "metadata": {
            "tags": [],
            "needs_background": "light"
          }
        }
      ]
    },
    {
      "cell_type": "markdown",
      "metadata": {
        "id": "Y9HZOuNNMYbr"
      },
      "source": [
        "# 3.Số lần submit đúng/ tổng số submission"
      ]
    },
    {
      "cell_type": "code",
      "metadata": {
        "id": "Yf7avOWEMgMu",
        "colab": {
          "base_uri": "https://localhost:8080/",
          "height": 265
        },
        "outputId": "bf97a0b9-5215-45d3-c45a-d7567604d3df"
      },
      "source": [
        "plt.plot(data['sum_1000']/data['sum_submits'], data['CK'] , 'o')\n",
        "plt.show()"
      ],
      "execution_count": 13,
      "outputs": [
        {
          "output_type": "display_data",
          "data": {
            "image/png": "[encoded data removed]",
            "text/plain": [
              "<Figure size 432x288 with 1 Axes>"
            ]
          },
          "metadata": {
            "tags": [],
            "needs_background": "light"
          }
        }
      ]
    },
    {
      "cell_type": "markdown",
      "metadata": {
        "id": "uqIoJQtqOI7Q"
      },
      "source": [
        "# 4. Tổng số pre_score của các submissionn có is_final = 1"
      ]
    },
    {
      "cell_type": "code",
      "metadata": {
        "id": "KL9Lr1-pORaT"
      },
      "source": [
        "student2 = pd.DataFrame(wecode['user_id'])\n",
        "student2['sum_is_final_pre_score'] = wecode['is_final']*wecode['pre_score']\n",
        "student2.columns = ['id', 'sum_is_final_pre_score']\n",
        "student2 = student2.groupby(['id']).sum()\n",
        "\n",
        "data2 = pd.merge(student2, score, how='inner', on=['id'])\n",
        "\n",
        "data2['CK'] = pd.DataFrame(map(float,data2['CK']))\n",
        "data2 = data2.sort_values(by=['CK'])"
      ],
      "execution_count": 20,
      "outputs": []
    },
    {
      "cell_type": "code",
      "metadata": {
        "colab": {
          "base_uri": "https://localhost:8080/",
          "height": 296
        },
        "id": "jEDWXUSpPkjI",
        "outputId": "97f8e207-f54f-4dae-cd1c-5d555b95f870"
      },
      "source": [
        "plt.plot(data2['sum_is_final_pre_score'], data2['CK'], 'o')"
      ],
      "execution_count": 21,
      "outputs": [
        {
          "output_type": "execute_result",
          "data": {
            "text/plain": [
              "[<matplotlib.lines.Line2D at 0x7f0ee4f9fd50>]"
            ]
          },
          "metadata": {
            "tags": []
          },
          "execution_count": 21
        },
        {
          "output_type": "display_data",
          "data": {
            "image/png": "[encoded data removed]",
            "text/plain": [
              "<Figure size 432x288 with 1 Axes>"
            ]
          },
          "metadata": {
            "tags": [],
            "needs_background": "light"
          }
        }
      ]
    }
  ]
}