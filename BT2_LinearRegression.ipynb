{
  "nbformat": 4,
  "nbformat_minor": 0,
  "metadata": {
    "colab": {
      "name": "LinearRegression.ipynb",
      "provenance": [],
      "collapsed_sections": [],
      "include_colab_link": true
    },
    "kernelspec": {
      "name": "python3",
      "display_name": "Python 3"
    },
    "language_info": {
      "name": "python"
    }
  },
  "cells": [
    {
      "cell_type": "markdown",
      "metadata": {
        "id": "view-in-github",
        "colab_type": "text"
      },
      "source": [
        "<a href=\"https://colab.research.google.com/github/VinhPhamBG/CS114.L21/blob/main/BT2_LinearRegression.ipynb\" target=\"_parent\"><img src=\"https://colab.research.google.com/assets/colab-badge.svg\" alt=\"Open In Colab\"/></a>"
      ]
    },
    {
      "cell_type": "code",
      "metadata": {
        "colab": {
          "base_uri": "https://localhost:8080/",
          "height": 282
        },
        "id": "5DGjAiOLmYGB",
        "outputId": "0f85c5db-f5e6-4385-93f7-a54322786431"
      },
      "source": [
        "import pandas as pd\n",
        "import numpy as np\n",
        "from sklearn import linear_model\n",
        "import matplotlib.pyplot as plt\n",
        "from sklearn.preprocessing import StandardScaler\n",
        "from sklearn.metrics import mean_squared_error\n",
        "scale = StandardScaler()\n",
        "\n",
        "#Load dữ liệu để train\n",
        "data = pd.read_csv(\"/content/drive/MyDrive/CS114/data2.csv\")\n",
        "data = np.array(data)\n",
        "X_train = data[:,0].reshape(-1,1)\n",
        "y_train = data[:,1].reshape(-1,1)\n",
        "#scale X để thu được Kq tốt hơn: Công thức: (X-std)/mean\n",
        "scaledX = scale.fit_transform(X_train)\n",
        "#Tạo model với tham số chính quy hóa (Regularized)\n",
        "reg_predict = linear_model.Ridge(alpha = -4000).fit(scaledX, y_train)\n",
        "\n",
        "#Load dữ liệu để test\n",
        "data2 = pd.read_csv(\"/content/drive/MyDrive/CS114/data3.csv\") \n",
        "data2 = np.array(data2)\n",
        "X_test = data2[:,0].reshape(-1,1)\n",
        "y_test = data2[:,1].reshape(-1,1)\n",
        "#Scale X_test với mean và std đã có\n",
        "scaledX_test = scale.transform(X_test)\n",
        "#dự đoán dựa trên scaledX_test\n",
        "y = reg_predict.predict(scaledX_test)\n",
        "#In ra màn hình mean square error\n",
        "print(\"mean square error: \", mean_squared_error(y,y_test))\n",
        "#Visualize kết quả\n",
        "plt.plot(scaledX_test,y_test,\"o\")\n",
        "plt.plot(scaledX_test,y)\n",
        "plt.show()"
      ],
      "execution_count": null,
      "outputs": [
        {
          "output_type": "stream",
          "text": [
            "mean square error:  0.0036942091669596652\n"
          ],
          "name": "stdout"
        },
        {
          "output_type": "display_data",
          "data": {
            "image/png": "[encoded data removed]",
            "text/plain": [
              "<Figure size 432x288 with 1 Axes>"
            ]
          },
          "metadata": {
            "tags": [],
            "needs_background": "light"
          }
        }
      ]
    },
    {
      "cell_type": "code",
      "metadata": {
        "colab": {
          "base_uri": "https://localhost:8080/"
        },
        "id": "ZampT8Tb04jw",
        "outputId": "468b016d-4760-4112-ed2f-d5638d6ef4db"
      },
      "source": [
        "from google.colab import drive\n",
        "drive.mount('/content/drive')"
      ],
      "execution_count": null,
      "outputs": [
        {
          "output_type": "stream",
          "text": [
            "Mounted at /content/drive\n"
          ],
          "name": "stdout"
        }
      ]
    },
    {
      "cell_type": "code",
      "metadata": {
        "id": "rSkVFDploAEy"
      },
      "source": [
        ""
      ],
      "execution_count": null,
      "outputs": []
    }
  ]
}